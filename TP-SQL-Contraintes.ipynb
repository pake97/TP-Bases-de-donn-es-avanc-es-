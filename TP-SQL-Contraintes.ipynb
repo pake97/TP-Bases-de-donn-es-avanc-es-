{
 "cells": [
  {
   "cell_type": "code",
   "execution_count": 1,
   "metadata": {},
   "outputs": [
    {
     "name": "stdout",
     "output_type": "stream",
     "text": [
      "Mocodo 4.2.2 loaded.\n"
     ]
    }
   ],
   "source": [
    "%reload_ext sql\n",
    "%reload_ext mocodo"
   ]
  },
  {
   "cell_type": "code",
   "execution_count": 3,
   "metadata": {},
   "outputs": [
    {
     "data": {
      "text/html": [
       "<span style=\"None\">Connecting to &#x27;pg&#x27;</span>"
      ],
      "text/plain": [
       "Connecting to 'pg'"
      ]
     },
     "metadata": {},
     "output_type": "display_data"
    }
   ],
   "source": [
    "%config SqlMagic.dsn_filename = \"../connexion_BD.ini\" \n",
    "# ajouter ou changer ce fichier pour définir sa connexion. Le fichier doit être de la forme\n",
    "# [pg]\n",
    "# drivername = postgresql+psycopg\n",
    "# username = \n",
    "# password = \n",
    "# host = \n",
    "# port = \n",
    "# database = \n",
    "%sql --section pg\n",
    "%config SqlMagic.displaylimit = 0 #pas de limite dans le nombre de tuples du résultat"
   ]
  },
  {
   "cell_type": "markdown",
   "metadata": {},
   "source": [
    "# TP : Implémentation de contraintes\n",
    "\n",
    "***Important : tout au long du TP, faites des tests de vos contraintes en insérant, supprimant, modifiant des tuples***\n",
    "\n",
    "Un club de danse souhaite se doter d'une base de données pour gérer ses intervenants dans les cours.\n",
    "Après analyse, on propose le schéma Entités/Associations ci-dessous. Les niveaux des cours sont à prendre parmi les valeurs 'Débutant', 'Avancé' ou 'Expert'."
   ]
  },
  {
   "cell_type": "code",
   "execution_count": 14,
   "metadata": {},
   "outputs": [
    {
     "data": {
      "image/svg+xml": [
       "<svg xmlns=\"http://www.w3.org/2000/svg\" width=\"663\" height=\"228\" viewBox=\"0 0 663 228\">\n",
       "<rect x=\"0\" y=\"0\" width=\"663\" height=\"228\" fill=\"none\" stroke=\"none\" stroke-width=\"0\"/>\n",
       "\n",
       "<!-- Constraint I_CONSTRAINT_#1 -->\n",
       "<g>\n",
       "\t<polygon points=\"558.45 93 552.18 104.86 551.95 97.65 545.2 95.1\" fill=\"#85956b\" stroke-width=\"0\"/>\n",
       "\t<line x1=\"599\" y1=\"64\" x2=\"523.5\" y2=\"118\" stroke=\"#85956b\" stroke-width=\"1\"/>\n",
       "\t<line x1=\"448\" y1=\"64\" x2=\"523.5\" y2=\"118\" stroke=\"#85956b\" stroke-width=\"2\" stroke-dasharray=\"0,5\" stroke-linecap=\"round\"/>\n",
       "\t<line x1=\"599\" y1=\"172\" x2=\"523.5\" y2=\"118\" stroke=\"#85956b\" stroke-width=\"2\" stroke-dasharray=\"0,5\" stroke-linecap=\"round\"/>\n",
       "\t<line x1=\"448\" y1=\"172\" x2=\"523.5\" y2=\"118\" stroke=\"#85956b\" stroke-width=\"1\"/>\n",
       "\t<g>\n",
       "\t\t<circle cx=\"523.5\" cy=\"118\" r=\"12\" stroke=\"#85956b\" stroke-width=\"1\" fill=\"#FFFFFF\"/>\n",
       "\t\t<text x=\"521\" y=\"122.2\" fill=\"#85956b\" font-family=\"Futura\" font-size=\"11\" style=\"pointer-events: none;\">I</text>\n",
       "\t</g>\n",
       "</g>\n",
       "\n",
       "<!-- Inheritance PROFESSEUR_PARENT_#1 -->\n",
       "<g>\n",
       "\t<line x1=\"448\" y1=\"64\" x2=\"276\" y2=\"64\" stroke=\"#726f83\" stroke-width=\"1\"/>\n",
       "\t<polygon points=\"386 64 374 70 378 64 374 58\" fill=\"#726f83\" stroke-width=\"0\"/>\n",
       "\t<line x1=\"169\" y1=\"64\" x2=\"276\" y2=\"64\" stroke=\"#726f83\" stroke-width=\"1\"/>\n",
       "\t<line x1=\"276\" y1=\"172\" x2=\"276\" y2=\"64\" stroke=\"#726f83\" stroke-width=\"1\"/>\n",
       "\t<g>\n",
       "\t\t<polygon points=\"276 35.13 251 78.43 301 78.43\" stroke=\"#85956b\" stroke-width=\"1.5\" fill=\"#b2bba4\"/>\n",
       "\t\t<text x=\"264\" y=\"70\" fill=\"#27360c\" font-family=\"Copperplate\" font-size=\"18\">XT</text>\n",
       "\t</g>\n",
       "</g>\n",
       "\n",
       "<!-- Association INTERVIENT -->\n",
       "<g>\n",
       "\t<line x1=\"448\" y1=\"64\" x2=\"599\" y2=\"64\" stroke=\"#726f83\" stroke-width=\"1\"/>\n",
       "\t<line x1=\"599\" y1=\"172\" x2=\"599\" y2=\"64\" stroke=\"#726f83\" stroke-width=\"1\"/>\n",
       "\t<g>\n",
       "\t\t<path d=\"M640 35 a14 14 90 0 1 14 14 V63 h-110 V49 a14 14 90 0 1 14 -14\" fill=\"#b2bba4\" stroke=\"#b2bba4\" stroke-width=\"0\"/>\n",
       "\t\t<path d=\"M654 63 v16 a14 14 90 0 1 -14 14 H558 a14 14 90 0 1 -14 -14 V63 H110\" fill=\"#ccd6ba\" stroke=\"#ccd6ba\" stroke-width=\"0\"/>\n",
       "\t\t<rect x=\"544\" y=\"35\" width=\"110\" height=\"58\" fill=\"none\" rx=\"14\" stroke=\"#85956b\" stroke-width=\"1.5\"/>\n",
       "\t\t<line x1=\"544\" y1=\"63\" x2=\"654\" y2=\"63\" stroke=\"#85956b\" stroke-width=\"1.5\"/>\n",
       "\t\t<text x=\"551\" y=\"56.3\" fill=\"#27360c\" font-family=\"Copperplate\" font-size=\"18\">Intervient</text>\n",
       "\t</g>\n",
       "\t<text x=\"515\" y=\"80\" fill=\"#726f83\" font-family=\"Futura\" font-size=\"11\">0,N</text>\n",
       "\t<text x=\"604\" y=\"117\" fill=\"#726f83\" font-family=\"Futura\" font-size=\"11\">1,N</text>\n",
       "</g>\n",
       "\n",
       "<!-- Association EF -->\n",
       "<g>\n",
       "\t<line x1=\"65\" y1=\"172\" x2=\"169\" y2=\"172\" stroke=\"#726f83\" stroke-width=\"1\"/>\n",
       "\t<line x1=\"169\" y1=\"64\" x2=\"169\" y2=\"172\" stroke=\"#726f83\" stroke-width=\"1\"/>\n",
       "\t<g>\n",
       "\t\t<path d=\"M174 143 a14 14 90 0 1 14 14 V171 h-38 V157 a14 14 90 0 1 14 -14\" fill=\"#b2bba4\" stroke=\"#b2bba4\" stroke-width=\"0\"/>\n",
       "\t\t<path d=\"M188 171 v16 a14 14 90 0 1 -14 14 H164 a14 14 90 0 1 -14 -14 V171 H38\" fill=\"#ccd6ba\" stroke=\"#ccd6ba\" stroke-width=\"0\"/>\n",
       "\t\t<rect x=\"150\" y=\"143\" width=\"38\" height=\"58\" fill=\"none\" rx=\"14\" stroke=\"#85956b\" stroke-width=\"1.5\"/>\n",
       "\t\t<line x1=\"150\" y1=\"171\" x2=\"188\" y2=\"171\" stroke=\"#85956b\" stroke-width=\"1.5\"/>\n",
       "\t\t<text x=\"157\" y=\"164.3\" fill=\"#27360c\" font-family=\"Copperplate\" font-size=\"18\">EF</text>\n",
       "\t</g>\n",
       "\t<text x=\"126\" y=\"188\" fill=\"#726f83\" font-family=\"Futura\" font-size=\"11\">1,1</text>\n",
       "\t<line x1=\"126\" y1=\"190\" x2=\"144\" y2=\"190\" stroke=\"#726f83\" stroke-width=\"1\"/>\n",
       "\t<text x=\"174\" y=\"110\" fill=\"#726f83\" font-family=\"Futura\" font-size=\"11\">1,N</text>\n",
       "</g>\n",
       "\n",
       "<!-- Association EST_RESPONSABLE -->\n",
       "<g>\n",
       "\t<line x1=\"448\" y1=\"64\" x2=\"448\" y2=\"172\" stroke=\"#726f83\" stroke-width=\"1\"/>\n",
       "\t<line x1=\"599\" y1=\"172\" x2=\"448\" y2=\"172\" stroke=\"#726f83\" stroke-width=\"1\"/>\n",
       "\t<g>\n",
       "\t\t<path d=\"M519 143 a14 14 90 0 1 14 14 V171 h-170 V157 a14 14 90 0 1 14 -14\" fill=\"#b2bba4\" stroke=\"#b2bba4\" stroke-width=\"0\"/>\n",
       "\t\t<path d=\"M533 171 v16 a14 14 90 0 1 -14 14 H377 a14 14 90 0 1 -14 -14 V171 H170\" fill=\"#ccd6ba\" stroke=\"#ccd6ba\" stroke-width=\"0\"/>\n",
       "\t\t<rect x=\"363\" y=\"143\" width=\"170\" height=\"58\" fill=\"none\" rx=\"14\" stroke=\"#85956b\" stroke-width=\"1.5\"/>\n",
       "\t\t<line x1=\"363\" y1=\"171\" x2=\"533\" y2=\"171\" stroke=\"#85956b\" stroke-width=\"1.5\"/>\n",
       "\t\t<text x=\"370\" y=\"164.3\" fill=\"#27360c\" font-family=\"Copperplate\" font-size=\"18\">Est_responsable</text>\n",
       "\t</g>\n",
       "\t<text x=\"453\" y=\"135\" fill=\"#726f83\" font-family=\"Futura\" font-size=\"11\">0,N</text>\n",
       "\t<text x=\"539\" y=\"188\" fill=\"#726f83\" font-family=\"Futura\" font-size=\"11\">1,1</text>\n",
       "</g>\n",
       "\n",
       "<!-- Entity VACATAIRE -->\n",
       "<g>\n",
       "\t<g>\n",
       "\t\t<rect x=\"116\" y=\"34\" width=\"106\" height=\"30\" fill=\"#97b8ff\" stroke=\"none\" stroke-width=\"0\" opacity=\"1\"/>\n",
       "\t\t<rect x=\"116\" y=\"64\" width=\"106\" height=\"30\" fill=\"#c0d4ff\" stroke=\"none\" stroke-width=\"0\" opacity=\"1\"/>\n",
       "\t\t<rect x=\"116\" y=\"34\" width=\"106\" height=\"60\" fill=\"none\" stroke=\"#578dff\" stroke-width=\"1.5\" opacity=\"1\"/>\n",
       "\t\t<line x1=\"116\" y1=\"64\" x2=\"222\" y2=\"64\" stroke=\"#578dff\" stroke-width=\"1.5\"/>\n",
       "\t</g>\n",
       "\t<text x=\"125\" y=\"55.3\" fill=\"#131114\" font-family=\"Copperplate\" font-size=\"18\">Vacataire</text>\n",
       "\t<text x=\"124\" y=\"81.1\" fill=\"#3e3c42\" font-family=\"Gill Sans\" font-size=\"15\">statut</text>\n",
       "</g>\n",
       "\n",
       "<!-- Entity PROFESSEUR -->\n",
       "<g>\n",
       "\t<g>\n",
       "\t\t<rect x=\"386\" y=\"9\" width=\"124\" height=\"30\" fill=\"#97b8ff\" stroke=\"none\" stroke-width=\"0\" opacity=\"1\"/>\n",
       "\t\t<rect x=\"386\" y=\"39\" width=\"124\" height=\"80\" fill=\"#c0d4ff\" stroke=\"none\" stroke-width=\"0\" opacity=\"1\"/>\n",
       "\t\t<rect x=\"386\" y=\"9\" width=\"124\" height=\"110\" fill=\"none\" stroke=\"#578dff\" stroke-width=\"1.5\" opacity=\"1\"/>\n",
       "\t\t<line x1=\"386\" y1=\"39\" x2=\"510\" y2=\"39\" stroke=\"#578dff\" stroke-width=\"1.5\"/>\n",
       "\t</g>\n",
       "\t<text x=\"394\" y=\"30.3\" fill=\"#131114\" font-family=\"Copperplate\" font-size=\"18\">Professeur</text>\n",
       "\t<text x=\"394\" y=\"56.1\" fill=\"#3e3c42\" font-family=\"Gill Sans\" font-size=\"15\">num</text>\n",
       "\t<line x1=\"394\" y1=\"59\" x2=\"422\" y2=\"59\" stroke=\"#3e3c42\" stroke-width=\"1\"/>\n",
       "\t<text x=\"394\" y=\"73.1\" fill=\"#3e3c42\" font-family=\"Gill Sans\" font-size=\"15\">nom</text>\n",
       "\t<text x=\"394\" y=\"90.1\" fill=\"#3e3c42\" font-family=\"Gill Sans\" font-size=\"15\">prenom</text>\n",
       "\t<text x=\"394\" y=\"107\" fill=\"#3e3c42\" font-family=\"Gill Sans\" font-size=\"15\">telephone</text>\n",
       "</g>\n",
       "\n",
       "<!-- Entity CONTRAT -->\n",
       "<g>\n",
       "\t<g>\n",
       "\t\t<rect x=\"9\" y=\"134\" width=\"112\" height=\"30\" fill=\"#97b8ff\" stroke=\"none\" stroke-width=\"0\" opacity=\"1\"/>\n",
       "\t\t<rect x=\"9\" y=\"164\" width=\"112\" height=\"46\" fill=\"#c0d4ff\" stroke=\"none\" stroke-width=\"0\" opacity=\"1\"/>\n",
       "\t\t<rect x=\"9\" y=\"134\" width=\"112\" height=\"76\" fill=\"none\" stroke=\"#578dff\" stroke-width=\"1.5\" opacity=\"1\"/>\n",
       "\t\t<line x1=\"9\" y1=\"164\" x2=\"121\" y2=\"164\" stroke=\"#578dff\" stroke-width=\"1.5\"/>\n",
       "\t</g>\n",
       "\t<text x=\"27\" y=\"155.3\" fill=\"#131114\" font-family=\"Copperplate\" font-size=\"18\">Contrat</text>\n",
       "\t<text x=\"17\" y=\"181.1\" fill=\"#3e3c42\" font-family=\"Gill Sans\" font-size=\"15\">Date_contrat</text>\n",
       "\t<line x1=\"17\" y1=\"184\" x2=\"102\" y2=\"184\" stroke=\"#3e3c42\" stroke-width=\"1\" stroke-dasharray=\"4\"/>\n",
       "\t<text x=\"17\" y=\"198.1\" fill=\"#3e3c42\" font-family=\"Gill Sans\" font-size=\"15\">Salaire_horaire</text>\n",
       "</g>\n",
       "\n",
       "<!-- Entity SALARIE -->\n",
       "<g>\n",
       "\t<g>\n",
       "\t\t<rect x=\"218\" y=\"125\" width=\"116\" height=\"30\" fill=\"#97b8ff\" stroke=\"none\" stroke-width=\"0\" opacity=\"1\"/>\n",
       "\t\t<rect x=\"218\" y=\"155\" width=\"116\" height=\"64\" fill=\"#c0d4ff\" stroke=\"none\" stroke-width=\"0\" opacity=\"1\"/>\n",
       "\t\t<rect x=\"218\" y=\"125\" width=\"116\" height=\"94\" fill=\"none\" stroke=\"#578dff\" stroke-width=\"1.5\" opacity=\"1\"/>\n",
       "\t\t<line x1=\"218\" y1=\"155\" x2=\"334\" y2=\"155\" stroke=\"#578dff\" stroke-width=\"1.5\"/>\n",
       "\t</g>\n",
       "\t<text x=\"241\" y=\"146.3\" fill=\"#131114\" font-family=\"Copperplate\" font-size=\"18\">Salarié</text>\n",
       "\t<text x=\"226\" y=\"172.1\" fill=\"#3e3c42\" font-family=\"Gill Sans\" font-size=\"15\">date_embauche</text>\n",
       "\t<text x=\"226\" y=\"189.1\" fill=\"#3e3c42\" font-family=\"Gill Sans\" font-size=\"15\">echelon</text>\n",
       "\t<text x=\"226\" y=\"206\" fill=\"#3e3c42\" font-family=\"Gill Sans\" font-size=\"15\">salaire_mensuel</text>\n",
       "</g>\n",
       "\n",
       "<!-- Entity COURS -->\n",
       "<g>\n",
       "\t<g>\n",
       "\t\t<rect x=\"562\" y=\"125\" width=\"74\" height=\"30\" fill=\"#97b8ff\" stroke=\"none\" stroke-width=\"0\" opacity=\"1\"/>\n",
       "\t\t<rect x=\"562\" y=\"155\" width=\"74\" height=\"64\" fill=\"#c0d4ff\" stroke=\"none\" stroke-width=\"0\" opacity=\"1\"/>\n",
       "\t\t<rect x=\"562\" y=\"125\" width=\"74\" height=\"94\" fill=\"none\" stroke=\"#578dff\" stroke-width=\"1.5\" opacity=\"1\"/>\n",
       "\t\t<line x1=\"562\" y1=\"155\" x2=\"636\" y2=\"155\" stroke=\"#578dff\" stroke-width=\"1.5\"/>\n",
       "\t</g>\n",
       "\t<text x=\"570\" y=\"146.3\" fill=\"#131114\" font-family=\"Copperplate\" font-size=\"18\">Cours</text>\n",
       "\t<text x=\"570\" y=\"172.1\" fill=\"#3e3c42\" font-family=\"Gill Sans\" font-size=\"15\">code</text>\n",
       "\t<line x1=\"570\" y1=\"175\" x2=\"601\" y2=\"175\" stroke=\"#3e3c42\" stroke-width=\"1\"/>\n",
       "\t<text x=\"570\" y=\"189.1\" fill=\"#3e3c42\" font-family=\"Gill Sans\" font-size=\"15\">intitulé</text>\n",
       "\t<text x=\"570\" y=\"206\" fill=\"#3e3c42\" font-family=\"Gill Sans\" font-size=\"15\">niveau</text>\n",
       "</g>\n",
       "</svg>"
      ],
      "text/plain": [
       "<IPython.core.display.SVG object>"
      ]
     },
     "metadata": {},
     "output_type": "display_data"
    }
   ],
   "source": [
    "%%mocodo --select mcd --colors ocean  --output_dir ./ -t arrange\n",
    "\n",
    "Professeur: num, nom,prenom, telephone\n",
    "Salarié: date_embauche, echelon, salaire_mensuel\n",
    "Vacataire: statut\n",
    "Cours: code, intitulé, niveau\n",
    "Contrat : Date_contrat, Salaire_horaire\n",
    "\n",
    "Est_responsable, 0N Professeur, 11 Cours\n",
    "Intervient, 0N professeur, 1N Cours\n",
    "EF, _11 Contrat, 1N Vacataire\n",
    "\n",
    "/XT\\ Professeur <- Vacataire, Salarié\n",
    "(I) -> Intervient, ..Professeur, ..Cours, --Est_responsable"
   ]
  },
  {
   "cell_type": "markdown",
   "metadata": {},
   "source": [
    "1. Traduisez ce schéma en relationnel ; en ne tenant pas compte pour l'instant des contraintes $XT$ et $I$. Créez les relations obtenues, ainsi que les clés et clés étrangères qui en découlent.\n",
    "- indication 1 : Puisque qu'un cours a **exactement** un responsable, cette association se traduira par une clé étrangère dans la relation \"Cours\", ne pouvant prendre la valeur NULL.\n",
    "- indication 2 : Les spécialisations et entités faibles induisent une contrainte d'existence ; par exemple, supprimer un professeur de la base induit de le supprimer également en tant que salarié ou vacataire. De même supprimer un vacataire, induit de supprimer les contrats qui s'y rapportent. Faites en sorte que toutes ces suppressions en cascade soient automatiques (option : ON DELETE CASCADE des clés étrangères)."
   ]
  },
  {
   "cell_type": "code",
   "execution_count": null,
   "metadata": {},
   "outputs": [],
   "source": [
    "#le script de création est dans l'espace WEB accessible aux étudiants.\n",
    "with open(\"../../TP/script_club_de_danse.sql\",\"r\") as fichier:\n",
    "    %sql {{fichier.read()}}\n"
   ]
  },
  {
   "cell_type": "markdown",
   "metadata": {},
   "source": [
    "2. La contrainte $I$ sur le schéma traduit le fait que si un professeur est responsable d'un cours, alors il intervient dans ce cours. C'est une implication/inclusion : tout couple (professeur, cours) de l'association \"Responsable\" doit exister dans l'association \"Intervient\".\n",
    "   1. Écrivez la dépendance d'inclusion qui traduit cette contrainte dans la base de données\n",
    "   2. Cette dépendance d'inclusion peut-elle être implantée par une clé étrangère dans la relation 'cours' ?\n",
    "   3. Créez cette contrainte dans la base de données.\n",
    "   4. Créez un professeur \"Jean Wiejacka\" (sans se soucier encore qu'il soit vacataire ou salarié). Créez un cours de salsa débutant, pour lequel Jean Wiejacka est le responsable. Quel problème rencontrez vous ?"
   ]
  },
  {
   "cell_type": "code",
   "execution_count": null,
   "metadata": {
    "vscode": {
     "languageId": "sql"
    }
   },
   "outputs": [],
   "source": [
    "%%sql\n",
    "\n",
    "-- Cette contrainte est une dépendance d'inclusion Cours[NumProfResponsable, CodeCours] \"inclus dans\" Intervient[NumProf, CodeCours]\n",
    "-- Elle exprime une clé étrangère dans \"Cours\", car la partie droite est une clé dans \"Intervient\".\n",
    "\n",
    "alter table cours add constraint fk_resp_intervient foreign key(numresponsable_cours,code_cours) references prof_intervient_cours(num_prof, code_cours);\n"
   ]
  },
  {
   "cell_type": "code",
   "execution_count": null,
   "metadata": {
    "vscode": {
     "languageId": "sql"
    }
   },
   "outputs": [],
   "source": [
    "%%sql\n",
    "\n",
    "-- création de Jean Wiejacka professeur de salsa\n",
    "insert into professeurs values (1,'Wiejacka','Jean','0638103978');"
   ]
  },
  {
   "cell_type": "code",
   "execution_count": null,
   "metadata": {
    "vscode": {
     "languageId": "sql"
    }
   },
   "outputs": [],
   "source": [
    "%%sql\n",
    "-- tentative de création du cours de SALSA, qui doit obligatoirement avoir un responsable\n",
    " insert into cours values(1,'Salsa',1, 'Débutant'); -- Jean est le responsable de la salsa.\n",
    "\n",
    "-- Ne fonctionne pas (contrainte 'fk_resp_intervient' de la question précédente) : \n",
    "-- le couple (1,1) doit exister dans intervient (Jean DOIT donner des cours de salsa pour être responsable)"
   ]
  },
  {
   "cell_type": "code",
   "execution_count": null,
   "metadata": {
    "vscode": {
     "languageId": "sql"
    }
   },
   "outputs": [],
   "source": [
    "%%sql \n",
    "\n",
    "insert into prof_intervient_cours values(1,1);\n",
    "\n",
    "-- Evidemment ne fontionne pas puisque le cours 1 n'existe pas...\n",
    "\n",
    "-- blocage par des clés étrangères qui forment un cycle...\n"
   ]
  },
  {
   "cell_type": "markdown",
   "metadata": {},
   "source": [
    "3. Une transaction est un ensemble de mises à jour considérées comme une seule opération, sans limite sur le nombre d'opérations dans une même transaction. Les SGBD relationnels garantissent que les contraintes sont satisfaites AVANT et APRES la transaction. Ce qui se passe PENDANT la transaction dépend des capacités des SGBD et des choix de l'opérateur. La vérification de certaines contraintes, comme les clés étrangères sous PostgreSQL, peut être *différée* à l'issue de la transaction.\n",
    "   1. Modifiez, lorsque cela est nécessaire, les déclarations de clés étrangères afin de différer leur vérification en fin de transaction.\n",
    "   2. Procédez maintenant à la création du cours de SALSA à l'aide d'une transaction contenant plusieurs insertions de tuples."
   ]
  },
  {
   "cell_type": "code",
   "execution_count": null,
   "metadata": {
    "vscode": {
     "languageId": "sql"
    }
   },
   "outputs": [],
   "source": [
    "%%sql\n",
    "\n",
    "-- Pour casser le cycle, on permet de différer la clé étrangère qu'on a créée sur \"Cours\" :\n",
    "\n",
    "alter table cours alter constraint fk_resp_intervient deferrable; \n"
   ]
  },
  {
   "cell_type": "code",
   "execution_count": null,
   "metadata": {
    "vscode": {
     "languageId": "sql"
    }
   },
   "outputs": [],
   "source": [
    "%%sql\n",
    "\n",
    "--On peut maintenant faire l'insertion en deux temps au sein d'une seule et même transaction :\n",
    "\n",
    "\n",
    "begin;\n",
    "    set constraints fk_resp_intervient deferred; -- Cette contrainte a bien été déclarée comme déférable\n",
    "    insert into cours values(1,'Salsa',1, 'Débutant'); -- Jean est le responsable de la salsa. fk_resp_intervient est momentanément\n",
    "    -- fausse, mais la transaction n'est pas finie.\n",
    "    insert into prof_intervient_cours values(1,1);\n",
    "commit; -- ici la contrainte différée est vérifiée, tout est OK."
   ]
  },
  {
   "cell_type": "markdown",
   "metadata": {},
   "source": [
    "4. Le cahier des charges spécifie qu'un cours a obligatoirement (au moins) un intervenant (participation obligatoire à l'association \"Intervient\").  Peut-on considérer que cette contrainte est bien garantie dans notre base de données ?"
   ]
  },
  {
   "cell_type": "code",
   "execution_count": null,
   "metadata": {
    "vscode": {
     "languageId": "sql"
    }
   },
   "outputs": [],
   "source": [
    "%%sql\n",
    "\n",
    "-- Chaque cours doit avoir au moins un intervenant...\n",
    "-- On voudrait une dépendance d'inclusion cours[code_cours] \"inclus dans\" prof_intervient_cours[code_cours]\n",
    "-- Car tous les cours doivent être dans \"intervient\" au moins une fois.\n",
    "\n",
    "-- Cette DI est déjà implémentée ! En effet, \n",
    "-- on a cours[numresponsable_cours, code_cours] \"inclus dans\" prof_intervient_cours[num_prof, code_cours] vu précédemment, \n",
    "-- donc cours[code_cours] \"inclus dans\" prof_intervient_cours[code_cours] est une conséquence de la première.\n",
    "-- c'est la règle de projection dans les DI, pas encore vue mais facile à comprendre intuitivement."
   ]
  },
  {
   "cell_type": "markdown",
   "metadata": {},
   "source": [
    "5. Implanter la contrainte $X$ indiquée dans la spécialisation des professeurs, indiquant qu'un professeur ne peut pas être à la fois un salarié et un vacataire.\n",
    "-  **Indication** : Cette contrainte peut se programmer à l'aide de deux commandes \"CHECK\" dans la déclaration des relations \"salaries\" et \"vacataires\", par exemple sous la forme \"Check (est\\_vacataire(num\\_prof) = false)\" - où \"est\\_vacataire(num\\_prof)\" est une fonction qui retourne vrai si \"num\\_prof\" existe déjà dans vacataires, faux sinon.\n",
    "\n",
    "Voici pour servir d'exemple une proposition de code de création d'une fonction qui renvoie VRAI ssi le numéro passé en argument est celui d'un vacataire.\n",
    "\n",
    "```sql\n",
    "drop function if exists est_vacataire;\n",
    "CREATE function est_vacataire(un_num_prof integer) returns boolean\n",
    "as $$\n",
    "begin\n",
    " \tperform num_vacataire  \n",
    " \tfrom vacataires \n",
    " \twhere num_vacataire = un_num_prof;\n",
    " \n",
    " \treturn (found);\n",
    "end;\n",
    " $$ language plpgsql;\n",
    "\n",
    "```"
   ]
  },
  {
   "cell_type": "code",
   "execution_count": null,
   "metadata": {
    "vscode": {
     "languageId": "sql"
    }
   },
   "outputs": [],
   "source": [
    "%%sql\n",
    "\n",
    "-- création d'une fonction qui teste si un prof est dans les vacataires\n",
    "\n",
    "drop function if exists est_vacataire;\n",
    "CREATE function est_vacataire(un_num_prof integer) returns boolean\n",
    "as $$\n",
    "begin\n",
    " \tperform num_vacataire  \n",
    " \tfrom vacataires \n",
    " \twhere num_vacataire = un_num_prof;\n",
    " \n",
    " \treturn (found);\n",
    "end;\n",
    " $$ language plpgsql;"
   ]
  },
  {
   "cell_type": "code",
   "execution_count": null,
   "metadata": {
    "vscode": {
     "languageId": "sql"
    }
   },
   "outputs": [],
   "source": [
    "%%sql\n",
    "\n",
    "-- création d'une fonction qui teste si un prof est dans les salariés\n",
    "\n",
    "drop function if exists est_salarie;\n",
    "CREATE function est_salarie(un_num_prof integer) returns boolean\n",
    "as $$\n",
    "begin\n",
    " \tperform num_salarie  \n",
    " \tfrom salaries\n",
    " \twhere num_salarie = un_num_prof;\n",
    " \n",
    " \treturn (found);\n",
    "end;\n",
    " $$ language plpgsql;"
   ]
  },
  {
   "cell_type": "code",
   "execution_count": null,
   "metadata": {
    "vscode": {
     "languageId": "sql"
    }
   },
   "outputs": [],
   "source": [
    "%%sql\n",
    "\n",
    "-- On peut maintenant ajouter des contraintes CHECK dans les relations salarie et vacataires\n",
    "-- Pour garantir l'exclusion mutuelle à l'insertion / modification\n",
    "\n",
    "alter table salaries add constraint ck_non_vacataire CHECK(est_vacataire(num_salarie)=false);\n",
    "alter table vacataires add constraint ck_non_salarie CHECK(est_salarie(num_vacataire)=false);"
   ]
  },
  {
   "cell_type": "markdown",
   "metadata": {},
   "source": [
    "6. Implanter la contrainte $T$ de la spécialisation, qui impose que tous les professeurs ont la position de salarié ou de vacataire.    \n",
    "   1. Lors de la création d'un professeur : ajouter une contrainte \"check\" qui s'assure que ce professeur est bien un salarié ou un vacataire. \n",
    "   2. Différez les contraintes de clés étrangères dans \"salariés\" et \"vacataires\", de façon à pouvoir **momentanément** créer un salarié ou vacataire qui n'est pas un professeur.\n",
    "   3. Effectuez alors l'insertion d'un nouveau professeur - vacataire dans une transaction qui crée d'abord le vacataire pour le professeur. \n"
   ]
  },
  {
   "cell_type": "code",
   "execution_count": null,
   "metadata": {
    "vscode": {
     "languageId": "sql"
    }
   },
   "outputs": [],
   "source": [
    "%%sql\n",
    "\n",
    "alter table salaries alter constraint fk_sal_prof deferrable;\n",
    "alter table vacataires alter constraint fk_vac_prof deferrable;\n",
    "\n",
    "-- Au préalable dans les données saisies on indique que le professeur 1 est salarié pour ne pas violer la contrainte déclarée après\n",
    "insert into salaries values(1,'2022-07-10',2,1500);\n",
    "\n",
    "alter table professeurs add constraint ck_prof_sal_ou_vac check(est_vacataire(num_prof) or est_salarie(num_prof));\n",
    "\n",
    "begin;\n",
    "\tset constraints all deferred;\n",
    "\tinsert into vacataires values(2,'sans emploi'); -- possible par la clé étrangère différée\n",
    "\tinsert into professeurs values(2,'Vanessa','Geluk','0472983719'); -- possible car existe parmi les vacataires\n",
    "commit;\n"
   ]
  },
  {
   "cell_type": "markdown",
   "metadata": {},
   "source": [
    "7. Ce n'est pas tout à fait fini ! Il faut encore s'assurer que personne ne puisse supprimer une ligne des relations \"vacataires\" ou \"salariés\" car cela contredirait la contrainte $T$ (un professeur serait ni salarié, ni vacataire). Mais si on fait une contrainte trop forte qui interdit ces suppressions, on ne pourra plus faire les opérations suivantes : modifier un professeur en le passant de vacataire à salarié (ou l'inverse), ou même supprimer un professeur - car Postgre va tenter de supprimer le vacataire/salarié correspondant (en cascade). Voici comment résoudre ces problèmes.\n",
    "   1. Créer une fonction $est\\_prof$ qui teste si un numéro de professeur (fourni en entrée) existe parmi les professeurs. \n",
    "   2. Faire un trigger (https://doc.postgresql.fr/16/sql-createtrigger.html) différable sur \"salaries\" qui interdit de supprimer un salarié si celui est un professeur qui existe encore et qu'il n'est pas dans \"vacataires\".\n",
    "   3. Faire un trigger différable sur \"vacataires\" qui interdit de supprimer un vacataire si celui est un professeur qui existe encore et qu'il n'est pas dans \"salaries\".\n",
    "   4. Vérifiez maintenant que vous pouvez 1) supprimer un professeur et 2) passer un professeur de salarié à vacataire en utilisant une transaction à deux étapes.\n",
    "\n",
    "\n",
    "Aide : comment faire le trigger sur salariés :\n",
    "\n",
    "```sql\n",
    "-- Il faut d'abord faire une fonction qui sera utilisée par le trigger : elle ne doit pas prendre de paramètres, et retourner un objet de type 'trigger'.\n",
    "drop function if exists check_prof_vacataire cascade; \n",
    "CREATE FUNCTION check_prof_vacataire() RETURNS trigger \n",
    "as $$\n",
    "begin\n",
    "\tif  not est_prof(old.num_salarie) then return null; -- le prof a été supprimé (en cours de suppression)\n",
    "\telsif est_vacataire(old.num_salarie) then return null; -- le salarié est bien dans vacataires.\n",
    "\telse raise exception 'professeur doit etre vacataire si plus salarie';\n",
    "\tend if;\n",
    "end;\n",
    "$$ LANGUAGE plpgsql;\n",
    "\n",
    "create constraint trigger check_prof_vacataire\n",
    "\tafter delete or update on salaries deferrable for each row execute function check_prof_vacataire();\n",
    "\n",
    "\n",
    "```"
   ]
  },
  {
   "cell_type": "code",
   "execution_count": null,
   "metadata": {
    "vscode": {
     "languageId": "sql"
    }
   },
   "outputs": [],
   "source": [
    "%%sql\n",
    "\n",
    "drop function if exists est_prof;\n",
    "CREATE function est_prof(un_num_prof integer) returns boolean\n",
    "as $$\n",
    "begin\n",
    " \tperform num_prof  \n",
    " \tfrom professeurs \n",
    " \twhere num_prof = un_num_prof;\n",
    " \n",
    " \treturn (found);\n",
    "end;\n",
    " $$ language plpgsql;\n",
    "\n"
   ]
  },
  {
   "cell_type": "code",
   "execution_count": null,
   "metadata": {
    "vscode": {
     "languageId": "sql"
    }
   },
   "outputs": [],
   "source": [
    "%%sql\n",
    "\n",
    "-- Interdiction de supprimer un salarié s'il n'est pas vacataire.\n",
    "-- Contrainte forcément différable car il faut pouvoir avant l'insérer dans vacataire \n",
    "\n",
    "drop function if exists check_prof_vacataire cascade; \n",
    "CREATE FUNCTION check_prof_vacataire() RETURNS trigger \n",
    "as $$\n",
    "begin\n",
    "\tif  not est_prof(old.num_salarie) then return null; -- le prof a été supprimé (en cours de suppression)\n",
    "\telsif est_vacataire(old.num_salarie) then return null; -- le salarié est bien dans vacataires.\n",
    "\telse raise exception 'professeur doit etre vacataire si plus salarie';\n",
    "\tend if;\n",
    "end;\n",
    "$$ LANGUAGE plpgsql;\n",
    "\n",
    "create constraint trigger check_prof_vacataire\n",
    "\tafter delete or update on salaries deferrable for each row execute function check_prof_vacataire();\n"
   ]
  },
  {
   "cell_type": "code",
   "execution_count": null,
   "metadata": {
    "vscode": {
     "languageId": "sql"
    }
   },
   "outputs": [],
   "source": [
    "%%sql\n",
    "\n",
    "-- Interdiction de supprimer un vacataire s'il n'est pas salarié.\n",
    "-- Contrainte forcément différable car il faut pouvoir avant l'insérer dans salaries. \n",
    "drop function if exists check_prof_salarie cascade; \n",
    "CREATE FUNCTION check_prof_salarie() RETURNS trigger \n",
    "as $$\n",
    "begin\n",
    "\tif not est_prof(old.num_vacataire) then return null; -- le prof a été supprimé (essentiel pour pouvoir supprimer un prof)\n",
    "\telsif est_salarie(old.num_vacataire) then return null; -- le prof est bien dans salarié.\n",
    "\telse raise exception 'professeur doit etre salarie si plus vacataire';\n",
    "\tend if;\n",
    "end;\n",
    "$$ LANGUAGE plpgsql;\n",
    "\n",
    "create constraint trigger check_prof_salarie\n",
    "\tafter delete or update on vacataires deferrable for each row execute function check_prof_salarie();\n"
   ]
  },
  {
   "cell_type": "code",
   "execution_count": null,
   "metadata": {
    "vscode": {
     "languageId": "sql"
    }
   },
   "outputs": [],
   "source": [
    "%%sql\n",
    "\n",
    "-- on transforme le professeur 1 en vacataire étudiant (il était salarié)\n",
    "begin;\n",
    "\tset constraints all deferred ;\n",
    "\tdelete from salaries where num_salarie=1; -- momentanément ni vacataire ni salarié, mais la contrainte est différée\n",
    "\tinsert into vacataires values(1,'étudiant');\n",
    "commit;"
   ]
  },
  {
   "cell_type": "code",
   "execution_count": null,
   "metadata": {
    "vscode": {
     "languageId": "sql"
    }
   },
   "outputs": [],
   "source": [
    "%%sql\n",
    "\n",
    "-- on vérifie que la suppression d'un professeur fonctionne toujours\n",
    "\n",
    "delete from professeurs where num_prof=2;"
   ]
  },
  {
   "cell_type": "code",
   "execution_count": null,
   "metadata": {
    "vscode": {
     "languageId": "sql"
    }
   },
   "outputs": [],
   "source": [
    "%%sql\n",
    "\n",
    "select * \n",
    "from professeurs p  \n",
    "     left join vacataires v on p.num_prof=v.num_vacataire\n",
    "     left join salaries s on p.num_prof = s.num_salarie;\n",
    "\n"
   ]
  }
 ],
 "metadata": {
  "kernelspec": {
   "display_name": ".venv",
   "language": "python",
   "name": "python3"
  },
  "language_info": {
   "codemirror_mode": {
    "name": "ipython",
    "version": 3
   },
   "file_extension": ".py",
   "mimetype": "text/x-python",
   "name": "python",
   "nbconvert_exporter": "python",
   "pygments_lexer": "ipython3",
   "version": "3.11.5"
  },
  "orig_nbformat": 4
 },
 "nbformat": 4,
 "nbformat_minor": 2
}
