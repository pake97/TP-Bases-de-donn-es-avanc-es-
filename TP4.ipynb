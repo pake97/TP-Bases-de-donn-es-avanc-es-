{
 "cells": [
  {
   "cell_type": "code",
   "execution_count": 71,
   "metadata": {},
   "outputs": [],
   "source": [
    "\t\n",
    "%reload_ext sql\n",
    "%reload_ext mocodo"
   ]
  },
  {
   "cell_type": "code",
   "execution_count": 72,
   "metadata": {},
   "outputs": [],
   "source": [
    "\t\n",
    "%reload_ext sql\n",
    "%reload_ext mocodo"
   ]
  },
  {
   "cell_type": "code",
   "execution_count": 73,
   "metadata": {},
   "outputs": [
    {
     "data": {
      "text/html": [
       "<span style=\"None\">Connecting to &#x27;pg&#x27;</span>"
      ],
      "text/plain": [
       "Connecting to 'pg'"
      ]
     },
     "metadata": {},
     "output_type": "display_data"
    }
   ],
   "source": [
    "%config SqlMagic.dsn_filename = \"connexion_DB.ini\" \n",
    "%sql --section pg\n",
    "%config SqlMagic.displaylimit = 0 #pas de limite dans le nombre de tuples du résultat"
   ]
  },
  {
   "cell_type": "code",
   "execution_count": 74,
   "metadata": {},
   "outputs": [
    {
     "data": {
      "text/html": [
       "<span style=\"None\">Running query in &#x27;pg&#x27;</span>"
      ],
      "text/plain": [
       "Running query in 'pg'"
      ]
     },
     "metadata": {},
     "output_type": "display_data"
    },
    {
     "data": {
      "text/html": [
       "<table>\n",
       "    <thead>\n",
       "        <tr>\n",
       "        </tr>\n",
       "    </thead>\n",
       "    <tbody>\n",
       "    </tbody>\n",
       "</table>"
      ],
      "text/plain": [
       "++\n",
       "||\n",
       "++\n",
       "++"
      ]
     },
     "execution_count": 74,
     "metadata": {},
     "output_type": "execute_result"
    }
   ],
   "source": [
    "%%sql\n",
    "-- \n",
    "\n",
    "begin;\n",
    "\n",
    "drop schema if exists optimisation cascade;\n",
    "create schema optimisation;\n",
    "set search_path to optimisation ;\n",
    "\n",
    "--drop table if exists clients cascade;\n",
    "create unlogged table  clients(\n",
    "\tNumC \t\tinteger primary key,\n",
    "\tNomC\t\tvarchar(35),\n",
    "\tAdresseC\ttext\n",
    ");\n",
    "\n",
    "--drop table if exists produits cascade;\n",
    "\tcreate unlogged table produits(\n",
    "\tNumP\t\tinteger primary key,\n",
    "\tNomP\t\tvarchar(35),\n",
    "\tdescriptif\ttext\n",
    ");\n",
    "\n",
    "--drop table if exists commandes cascade;\n",
    "create unlogged table commandes(\n",
    "\tDateCom\t\tdate,\n",
    "\tNumC\t\tinteger ,\n",
    "\tCommentaire\ttext,\n",
    "\tprimary key(DateCom,NumC)\n",
    ");\n",
    "\n",
    "--drop table if exists livraisons;\n",
    "create unlogged table livraisons(\n",
    "\tDateLiv\t\tdate,\n",
    "\tDateCom\t\tdate,\n",
    "\tNumC\t\tInteger,\n",
    "\tPrestataire\tvarchar,\n",
    "\tprimary key(DateLiv,DateCom,NumC)\n",
    ");\n",
    "\n",
    "--drop table if exists Concerne;\n",
    "create unlogged table concerne(\n",
    "\tNumP\t\tinteger,\n",
    "\tDateCom \tdate,\n",
    "\tNumC\t\tinteger,\n",
    "\tQuantite\tinteger,\n",
    "\tprimary key (NumP,DateCom,NumC)\n",
    ");\n",
    "\n",
    "\tcommit;\n",
    "\n",
    "\tbegin;\n",
    "-------------------------------\n",
    "\t\n",
    "-- Procédure qui crée :\n",
    "----- nbtuples clients\n",
    "----- nbtuples produits\n",
    "----- jusqu'à 4 commandes par clients  \n",
    "----- jusqu'à 6 produits par commande ; donc table concerne en moyenne 12*nbtuples\n",
    "drop procedure if exists rempli_tables;\n",
    "create procedure rempli_tables(nbtuples integer)\n",
    "as $$\n",
    "declare\n",
    "k\t\t\tinteger;\n",
    "un_numP\t\tinteger;\n",
    "compt\t\tinteger;\n",
    "une_date\tdate;\n",
    "curs_com \tcursor for select DateCom, numc \n",
    "\t\t\t\tfrom commandes;\n",
    "begin\n",
    "\n",
    "\n",
    "\tINSERT INTO clients (numc , nomc , adressec) \n",
    "\tSELECT g, 'nomc_'||((random() * nbtuples * 4 / 5)::integer)::varchar, md5(g::text)||md5((2*g)::text)||md5((3*g)::text)  \n",
    "\tFROM generate_series(0,nbtuples-1) as g;\n",
    "\n",
    "\tINSERT INTO produits (nump , nomp , descriptif) \n",
    "\tSELECT g, 'nomp_'||((random() * nbtuples * 4 / 5)::integer)::varchar, md5(g::text)||md5((2*g)::text)||md5((3*g)::text)  \n",
    "\tFROM generate_series(0,nbtuples-1) as g;\n",
    "\t\n",
    "\n",
    "\tfor g in 1..4*(nbtuples-1) loop\n",
    "\t\tune_date = CURRENT_TIMESTAMP - ((random() * 3650)::integer||'day')::interval;\n",
    "\t\tun_nump=(random()*(nbtuples-1))::integer;\n",
    "\t\tinsert into commandes (DateCom, numc, commentaire) \n",
    "\t\t\tselect \tune_date, un_nump, md5(g::text)||md5((2*g)::text)||md5((3*g)::text) on conflict do nothing;\n",
    "\tend loop;\n",
    "\t\n",
    "\t\n",
    "\t\tfor t in curs_com \n",
    "\t\tloop\n",
    "\t\t\tk=(random() *6)::integer;\n",
    "\t\t\tfor i in 1..k loop\n",
    "\t\t\t\tun_numP = (random()*(nbtuples-1))::integer;\n",
    "\t\t\t\tinsert into concerne (NumP,datecom,numc,quantite)\n",
    "\t\t\t\tvalues (un_nump,t.Datecom,t.numc,(random()*100)::integer) on conflict do nothing;\n",
    "\t\t\t\tif i>3 then\n",
    "\t\t\t\t\tune_date = t.datecom+((random() * 30)::integer||'days')::interval;\n",
    "\t\t\t\t\tinsert into livraisons (DateLiv, DateCom, numC, prestataire)\n",
    "\t\t\t\t\tvalues(une_date,t.datecom,t.numc,'prest'||((random() *20)::integer)::varchar) on conflict do nothing;\n",
    "\t\t\t\tend if;\n",
    "\t\t\tend loop;\n",
    "\t\tend loop; \n",
    "\n",
    "\n",
    "end;\n",
    "\n",
    "$$ language plpgsql;\n",
    "\n",
    "do $$\n",
    "begin\n",
    "\tcall optimisation.rempli_tables(50000);\n",
    "end\n",
    "$$;\n",
    "\n",
    "\n",
    "commit;\n",
    "\n",
    "\n",
    "begin;\n",
    "alter table commandes add CONSTRAINT fk_commande_client foreign key (numc) references clients(NumC) on delete cascade not valid;\n",
    "alter table livraisons add constraint fk_livraison_commande foreign key (DateCom,NumC) references commandes(DateCom,NumC) on delete cascade not valid;\n",
    "alter table concerne add constraint fk_concerne_commande foreign key (DateCom,NumC) references commandes(DateCom,NumC) on delete cascade not valid;\n",
    "alter table concerne add constraint fk_concerne_produit\tforeign key (NumP) references produits(NumP) not valid;\n",
    "\n",
    "commit;\n"
   ]
  },
  {
   "cell_type": "code",
   "execution_count": 75,
   "metadata": {},
   "outputs": [
    {
     "data": {
      "text/html": [
       "<span style=\"None\">Running query in &#x27;pg&#x27;</span>"
      ],
      "text/plain": [
       "Running query in 'pg'"
      ]
     },
     "metadata": {},
     "output_type": "display_data"
    },
    {
     "data": {
      "text/html": [
       "<table>\n",
       "    <thead>\n",
       "        <tr>\n",
       "        </tr>\n",
       "    </thead>\n",
       "    <tbody>\n",
       "    </tbody>\n",
       "</table>"
      ],
      "text/plain": [
       "++\n",
       "||\n",
       "++\n",
       "++"
      ]
     },
     "execution_count": 75,
     "metadata": {},
     "output_type": "execute_result"
    }
   ],
   "source": [
    "%%sql\n",
    "analyse optimisation.clients, optimisation.commandes, optimisation.produits, optimisation.concerne,optimisation.livraisons;"
   ]
  },
  {
   "cell_type": "code",
   "execution_count": null,
   "metadata": {},
   "outputs": [],
   "source": [
    "%%sql\n",
    "SELECT * FROM produits"
   ]
  },
  {
   "cell_type": "code",
   "execution_count": 76,
   "metadata": {},
   "outputs": [
    {
     "data": {
      "text/html": [
       "<span style=\"None\">Running query in &#x27;pg&#x27;</span>"
      ],
      "text/plain": [
       "Running query in 'pg'"
      ]
     },
     "metadata": {},
     "output_type": "display_data"
    },
    {
     "data": {
      "text/html": [
       "<span style=\"color: green\">10 rows affected.</span>"
      ],
      "text/plain": [
       "10 rows affected."
      ]
     },
     "metadata": {},
     "output_type": "display_data"
    },
    {
     "data": {
      "text/html": [
       "<table>\n",
       "    <thead>\n",
       "        <tr>\n",
       "            <th>nump</th>\n",
       "            <th>nomp</th>\n",
       "            <th>descriptif</th>\n",
       "        </tr>\n",
       "    </thead>\n",
       "    <tbody>\n",
       "        <tr>\n",
       "            <td>0</td>\n",
       "            <td>nomp_17051</td>\n",
       "            <td>cfcd208495d565ef66e7dff9f98764dacfcd208495d565ef66e7dff9f98764dacfcd208495d565ef66e7dff9f98764da</td>\n",
       "        </tr>\n",
       "        <tr>\n",
       "            <td>1</td>\n",
       "            <td>nomp_251</td>\n",
       "            <td>c4ca4238a0b923820dcc509a6f75849bc81e728d9d4c2f636f067f89cc14862ceccbc87e4b5ce2fe28308fd9f2a7baf3</td>\n",
       "        </tr>\n",
       "        <tr>\n",
       "            <td>2</td>\n",
       "            <td>nomp_849</td>\n",
       "            <td>c81e728d9d4c2f636f067f89cc14862ca87ff679a2f3e71d9181a67b7542122c1679091c5a880faf6fb5e6087eb1b2dc</td>\n",
       "        </tr>\n",
       "        <tr>\n",
       "            <td>3</td>\n",
       "            <td>nomp_38483</td>\n",
       "            <td>eccbc87e4b5ce2fe28308fd9f2a7baf31679091c5a880faf6fb5e6087eb1b2dc45c48cce2e2d7fbdea1afc51c7c6ad26</td>\n",
       "        </tr>\n",
       "        <tr>\n",
       "            <td>4</td>\n",
       "            <td>nomp_38952</td>\n",
       "            <td>a87ff679a2f3e71d9181a67b7542122cc9f0f895fb98ab9159f51fd0297e236dc20ad4d76fe97759aa27a0c99bff6710</td>\n",
       "        </tr>\n",
       "        <tr>\n",
       "            <td>5</td>\n",
       "            <td>nomp_30319</td>\n",
       "            <td>e4da3b7fbbce2345d7772b0674a318d5d3d9446802a44259755d38e6d163e8209bf31c7ff062936a96d3c8bd1f8f2ff3</td>\n",
       "        </tr>\n",
       "        <tr>\n",
       "            <td>6</td>\n",
       "            <td>nomp_33121</td>\n",
       "            <td>1679091c5a880faf6fb5e6087eb1b2dcc20ad4d76fe97759aa27a0c99bff67106f4922f45568161a8cdf4ad2299f6d23</td>\n",
       "        </tr>\n",
       "        <tr>\n",
       "            <td>7</td>\n",
       "            <td>nomp_27000</td>\n",
       "            <td>8f14e45fceea167a5a36dedd4bea2543aab3238922bcc25a6f606eb525ffdc563c59dc048e8850243be8079a5c74d079</td>\n",
       "        </tr>\n",
       "        <tr>\n",
       "            <td>8</td>\n",
       "            <td>nomp_19390</td>\n",
       "            <td>c9f0f895fb98ab9159f51fd0297e236dc74d97b01eae257e44aa9d5bade97baf1ff1de774005f8da13f42943881c655f</td>\n",
       "        </tr>\n",
       "        <tr>\n",
       "            <td>9</td>\n",
       "            <td>nomp_32878</td>\n",
       "            <td>45c48cce2e2d7fbdea1afc51c7c6ad266f4922f45568161a8cdf4ad2299f6d2302e74f10e0327ad868d138f2b4fdd6f0</td>\n",
       "        </tr>\n",
       "    </tbody>\n",
       "</table>"
      ],
      "text/plain": [
       "+------+------------+--------------------------------------------------------------------------------------------------+\n",
       "| nump |    nomp    |                                            descriptif                                            |\n",
       "+------+------------+--------------------------------------------------------------------------------------------------+\n",
       "|  0   | nomp_17051 | cfcd208495d565ef66e7dff9f98764dacfcd208495d565ef66e7dff9f98764dacfcd208495d565ef66e7dff9f98764da |\n",
       "|  1   |  nomp_251  | c4ca4238a0b923820dcc509a6f75849bc81e728d9d4c2f636f067f89cc14862ceccbc87e4b5ce2fe28308fd9f2a7baf3 |\n",
       "|  2   |  nomp_849  | c81e728d9d4c2f636f067f89cc14862ca87ff679a2f3e71d9181a67b7542122c1679091c5a880faf6fb5e6087eb1b2dc |\n",
       "|  3   | nomp_38483 | eccbc87e4b5ce2fe28308fd9f2a7baf31679091c5a880faf6fb5e6087eb1b2dc45c48cce2e2d7fbdea1afc51c7c6ad26 |\n",
       "|  4   | nomp_38952 | a87ff679a2f3e71d9181a67b7542122cc9f0f895fb98ab9159f51fd0297e236dc20ad4d76fe97759aa27a0c99bff6710 |\n",
       "|  5   | nomp_30319 | e4da3b7fbbce2345d7772b0674a318d5d3d9446802a44259755d38e6d163e8209bf31c7ff062936a96d3c8bd1f8f2ff3 |\n",
       "|  6   | nomp_33121 | 1679091c5a880faf6fb5e6087eb1b2dcc20ad4d76fe97759aa27a0c99bff67106f4922f45568161a8cdf4ad2299f6d23 |\n",
       "|  7   | nomp_27000 | 8f14e45fceea167a5a36dedd4bea2543aab3238922bcc25a6f606eb525ffdc563c59dc048e8850243be8079a5c74d079 |\n",
       "|  8   | nomp_19390 | c9f0f895fb98ab9159f51fd0297e236dc74d97b01eae257e44aa9d5bade97baf1ff1de774005f8da13f42943881c655f |\n",
       "|  9   | nomp_32878 | 45c48cce2e2d7fbdea1afc51c7c6ad266f4922f45568161a8cdf4ad2299f6d2302e74f10e0327ad868d138f2b4fdd6f0 |\n",
       "+------+------------+--------------------------------------------------------------------------------------------------+"
      ]
     },
     "execution_count": 76,
     "metadata": {},
     "output_type": "execute_result"
    }
   ],
   "source": [
    "%%sql\n",
    "SELECT * FROM produits LIMIT 10"
   ]
  },
  {
   "cell_type": "code",
   "execution_count": 77,
   "metadata": {},
   "outputs": [
    {
     "data": {
      "text/html": [
       "<span style=\"None\">Running query in &#x27;pg&#x27;</span>"
      ],
      "text/plain": [
       "Running query in 'pg'"
      ]
     },
     "metadata": {},
     "output_type": "display_data"
    },
    {
     "data": {
      "text/html": [
       "<span style=\"color: green\">4 rows affected.</span>"
      ],
      "text/plain": [
       "4 rows affected."
      ]
     },
     "metadata": {},
     "output_type": "display_data"
    },
    {
     "data": {
      "text/html": [
       "<table>\n",
       "    <thead>\n",
       "        <tr>\n",
       "            <th>QUERY PLAN</th>\n",
       "        </tr>\n",
       "    </thead>\n",
       "    <tbody>\n",
       "        <tr>\n",
       "            <td>Seq Scan on produits  (cost=0.00..1363.00 rows=50000 width=111) (actual time=0.006..1.838 rows=50000 loops=1)</td>\n",
       "        </tr>\n",
       "        <tr>\n",
       "            <td>&nbsp;&nbsp;Buffers: shared hit=863</td>\n",
       "        </tr>\n",
       "        <tr>\n",
       "            <td>Planning Time: 0.023 ms</td>\n",
       "        </tr>\n",
       "        <tr>\n",
       "            <td>Execution Time: 2.914 ms</td>\n",
       "        </tr>\n",
       "    </tbody>\n",
       "</table>"
      ],
      "text/plain": [
       "+---------------------------------------------------------------------------------------------------------------+\n",
       "|                                                   QUERY PLAN                                                  |\n",
       "+---------------------------------------------------------------------------------------------------------------+\n",
       "| Seq Scan on produits  (cost=0.00..1363.00 rows=50000 width=111) (actual time=0.006..1.838 rows=50000 loops=1) |\n",
       "|                                             Buffers: shared hit=863                                           |\n",
       "|                                            Planning Time: 0.023 ms                                            |\n",
       "|                                            Execution Time: 2.914 ms                                           |\n",
       "+---------------------------------------------------------------------------------------------------------------+"
      ]
     },
     "execution_count": 77,
     "metadata": {},
     "output_type": "execute_result"
    }
   ],
   "source": [
    "%%sql\n",
    "EXPLAIN (analyse,buffers) \n",
    "SELECT * FROM produits "
   ]
  },
  {
   "cell_type": "markdown",
   "metadata": {},
   "source": [
    "### Analyse des résultats :\n",
    "\n",
    "1. **Coût total estimé :**\n",
    "   - Le coût total estimé par PostgreSQL est **1363.00**.\n",
    "   - Le coût initial est **0.00**, ce qui signifie qu'il commence sans coût préalable.\n",
    "\n",
    "2. **Temps réel d'exécution :**\n",
    "   - Le temps réel d'exécution total est **9.340 ms**.\n",
    "   - Le temps de parcours des tuples est entre **0.012 ms** et **5.747 ms**.\n",
    "\n",
    "3. **Nombre de tuples estimés et taille :**\n",
    "   - Nombre estimé de tuples en sortie : **50,000 rows**.\n",
    "   - Taille moyenne estimée de chaque tuple : **111 bytes**.\n",
    "\n",
    "4. **Nombre de blocs lus :**\n",
    "   - **Buffers shared hit** : **863**, ce qui signifie que les blocs nécessaires étaient déjà en cache (shared hit) et aucun accès disque supplémentaire n'a été requis (shared read est absent).\n",
    "\n",
    "5. **Chemins d'accès utilisés :**\n",
    "   - PostgreSQL a choisi un **Seq Scan (Sequential Scan)** sur la table `produits`.\n",
    "   - Cela implique que la table entière a été scannée ligne par ligne.\n",
    "\n",
    "6. **Algorithme utilisé :**\n",
    "   - **Sequential Scan** : Cet algorithme lit chaque ligne de la table sans utiliser d'index.\n",
    "\n",
    "7. **Nœud le plus coûteux :**\n",
    "   - Le nœud le plus coûteux dans ce plan est le **Seq Scan** lui-même, car il constitue l'unique nœud d'accès à la table `produits`.\n",
    "\n",
    "8. **Interprétation :**\n",
    "   - Le plan montre que PostgreSQL a scanné séquentiellement toute la table `produits`. Cela est probablement dû à l'absence d'un filtre ou d'une clause conditionnelle dans la requête (`WHERE`), ce qui rend un scan séquentiel optimal dans ce cas.\n",
    "   - La faible taille des buffers partagés nécessaires (863) indique une bonne utilisation du cache.\n",
    "\n",
    "### Recommandations :\n",
    "- Si des filtres spécifiques sont ajoutés dans une future requête (par exemple, `WHERE`), créer un index sur les colonnes concernées pourrait améliorer les performances.\n",
    "- Pour les requêtes listant toute la table, le **Sequential Scan** est généralement optimal et ne nécessite pas d'optimisation supplémentaire."
   ]
  },
  {
   "cell_type": "code",
   "execution_count": 78,
   "metadata": {},
   "outputs": [
    {
     "data": {
      "text/html": [
       "<span style=\"None\">Running query in &#x27;pg&#x27;</span>"
      ],
      "text/plain": [
       "Running query in 'pg'"
      ]
     },
     "metadata": {},
     "output_type": "display_data"
    },
    {
     "data": {
      "text/html": [
       "<span style=\"color: green\">4 rows affected.</span>"
      ],
      "text/plain": [
       "4 rows affected."
      ]
     },
     "metadata": {},
     "output_type": "display_data"
    },
    {
     "data": {
      "text/html": [
       "<table>\n",
       "    <thead>\n",
       "        <tr>\n",
       "            <th>QUERY PLAN</th>\n",
       "        </tr>\n",
       "    </thead>\n",
       "    <tbody>\n",
       "        <tr>\n",
       "            <td>Seq Scan on produits  (cost=0.00..1363.00 rows=50000 width=14) (actual time=0.008..2.508 rows=50000 loops=1)</td>\n",
       "        </tr>\n",
       "        <tr>\n",
       "            <td>&nbsp;&nbsp;Buffers: shared hit=863</td>\n",
       "        </tr>\n",
       "        <tr>\n",
       "            <td>Planning Time: 0.030 ms</td>\n",
       "        </tr>\n",
       "        <tr>\n",
       "            <td>Execution Time: 3.612 ms</td>\n",
       "        </tr>\n",
       "    </tbody>\n",
       "</table>"
      ],
      "text/plain": [
       "+--------------------------------------------------------------------------------------------------------------+\n",
       "|                                                  QUERY PLAN                                                  |\n",
       "+--------------------------------------------------------------------------------------------------------------+\n",
       "| Seq Scan on produits  (cost=0.00..1363.00 rows=50000 width=14) (actual time=0.008..2.508 rows=50000 loops=1) |\n",
       "|                                            Buffers: shared hit=863                                           |\n",
       "|                                           Planning Time: 0.030 ms                                            |\n",
       "|                                           Execution Time: 3.612 ms                                           |\n",
       "+--------------------------------------------------------------------------------------------------------------+"
      ]
     },
     "execution_count": 78,
     "metadata": {},
     "output_type": "execute_result"
    }
   ],
   "source": [
    "%%sql\n",
    "EXPLAIN (analyse,buffers) \n",
    "SELECT nump, nomp FROM produits"
   ]
  },
  {
   "cell_type": "code",
   "execution_count": 79,
   "metadata": {},
   "outputs": [
    {
     "data": {
      "text/html": [
       "<span style=\"None\">Running query in &#x27;pg&#x27;</span>"
      ],
      "text/plain": [
       "Running query in 'pg'"
      ]
     },
     "metadata": {},
     "output_type": "display_data"
    },
    {
     "data": {
      "text/html": [
       "<span style=\"color: green\">10 rows affected.</span>"
      ],
      "text/plain": [
       "10 rows affected."
      ]
     },
     "metadata": {},
     "output_type": "display_data"
    },
    {
     "data": {
      "text/html": [
       "<table>\n",
       "    <thead>\n",
       "        <tr>\n",
       "            <th>QUERY PLAN</th>\n",
       "        </tr>\n",
       "    </thead>\n",
       "    <tbody>\n",
       "        <tr>\n",
       "            <td>HashAggregate  (cost=1613.00..2113.00 rows=50000 width=14) (actual time=8.842..12.182 rows=50000 loops=1)</td>\n",
       "        </tr>\n",
       "        <tr>\n",
       "            <td>&nbsp;&nbsp;Group Key: nump, nomp</td>\n",
       "        </tr>\n",
       "        <tr>\n",
       "            <td>&nbsp;&nbsp;Batches: 1  Memory Usage: 3601kB</td>\n",
       "        </tr>\n",
       "        <tr>\n",
       "            <td>&nbsp;&nbsp;Buffers: shared hit=863</td>\n",
       "        </tr>\n",
       "        <tr>\n",
       "            <td>&nbsp;&nbsp;->  Seq Scan on produits  (cost=0.00..1363.00 rows=50000 width=14) (actual time=0.005..2.172 rows=50000 loops=1)</td>\n",
       "        </tr>\n",
       "        <tr>\n",
       "            <td>&nbsp;&nbsp;&nbsp;&nbsp;&nbsp;&nbsp;&nbsp;&nbsp;Buffers: shared hit=863</td>\n",
       "        </tr>\n",
       "        <tr>\n",
       "            <td>Planning:</td>\n",
       "        </tr>\n",
       "        <tr>\n",
       "            <td>&nbsp;&nbsp;Buffers: shared hit=13</td>\n",
       "        </tr>\n",
       "        <tr>\n",
       "            <td>Planning Time: 0.069 ms</td>\n",
       "        </tr>\n",
       "        <tr>\n",
       "            <td>Execution Time: 13.276 ms</td>\n",
       "        </tr>\n",
       "    </tbody>\n",
       "</table>"
      ],
      "text/plain": [
       "+--------------------------------------------------------------------------------------------------------------------+\n",
       "|                                                     QUERY PLAN                                                     |\n",
       "+--------------------------------------------------------------------------------------------------------------------+\n",
       "|     HashAggregate  (cost=1613.00..2113.00 rows=50000 width=14) (actual time=8.842..12.182 rows=50000 loops=1)      |\n",
       "|                                                Group Key: nump, nomp                                               |\n",
       "|                                           Batches: 1  Memory Usage: 3601kB                                         |\n",
       "|                                               Buffers: shared hit=863                                              |\n",
       "|   ->  Seq Scan on produits  (cost=0.00..1363.00 rows=50000 width=14) (actual time=0.005..2.172 rows=50000 loops=1) |\n",
       "|                                                  Buffers: shared hit=863                                           |\n",
       "|                                                     Planning:                                                      |\n",
       "|                                                Buffers: shared hit=13                                              |\n",
       "|                                              Planning Time: 0.069 ms                                               |\n",
       "|                                             Execution Time: 13.276 ms                                              |\n",
       "+--------------------------------------------------------------------------------------------------------------------+"
      ]
     },
     "execution_count": 79,
     "metadata": {},
     "output_type": "execute_result"
    }
   ],
   "source": [
    "%%sql\n",
    "EXPLAIN (analyse,buffers) \n",
    "SELECT DISTINCT nump, nomp FROM produits"
   ]
  },
  {
   "cell_type": "markdown",
   "metadata": {},
   "source": [
    "### Analyse des résultats pour ce plan d'exécution :\n",
    "\n",
    "#### Structure du plan d'exécution :\n",
    "1. **Node principal : HashAggregate**\n",
    "   - **Coût estimé** : **1613.00..2113.00**\n",
    "   - **Coût initial (cost=1613.00)** : Inclut le coût cumulé de toutes les opérations précédentes.\n",
    "   - **Nombre estimé de lignes en sortie** : **50,000 rows**.\n",
    "   - **Taille estimée de chaque tuple (width)** : **14 bytes**.\n",
    "   - **Temps réel d'exécution** : **23.846..31.456 ms**.\n",
    "   - **Memory Usage** : Utilisation de mémoire pour l’agrégation : **3601kB**.\n",
    "   - **Group Key** : L'agrégation a été effectuée en groupant les colonnes `nump` et `nomp`.\n",
    "   - **Batches** : Seulement 1 batch utilisé, ce qui signifie que tout tenait en mémoire.\n",
    "\n",
    "2. **Sous-opération : Seq Scan**\n",
    "   - PostgreSQL a utilisé un **Seq Scan** (Sequential Scan) sur la table `produits`.\n",
    "   - **Coût estimé** : **0.00..1363.00**.\n",
    "   - **Temps réel d'exécution** : **0.008..5.390 ms**.\n",
    "   - **Nombre de tuples générés** : **50,000 rows**.\n",
    "   - **Nombre de blocs lus** : **Buffers shared hit=863**, donc tout était en cache.\n",
    "\n",
    "3. **Temps total d'exécution :**\n",
    "   - Planification : **0.110 ms**.\n",
    "   - Exécution : **33.356 ms**.\n",
    "\n",
    "---\n",
    "\n",
    "#### Observations détaillées :\n",
    "\n",
    "1. **Coût estimé et temps réel :**\n",
    "   - Le coût estimé du plan d'exécution est cohérent avec le temps réel.\n",
    "   - Le temps réel d'exécution total est légèrement plus élevé (**33.356 ms**) à cause du temps nécessaire pour effectuer l'opération `HashAggregate`.\n",
    "\n",
    "2. **Algorithmes utilisés :**\n",
    "   - **HashAggregate** : Utilisé pour grouper les données sur les colonnes `nump` et `nomp`.\n",
    "   - **Seq Scan** : Utilisé pour lire toute la table `produits`.\n",
    "\n",
    "3. **Utilisation de mémoire et buffers :**\n",
    "   - L'opération d'agrégation a utilisé **3601kB** de mémoire, ce qui est raisonnable.\n",
    "   - Les buffers utilisés (**shared hit=863**) montrent que les données étaient déjà dans le cache et qu'aucun accès disque n'était nécessaire.\n",
    "\n",
    "4. **Nœud le plus coûteux :**\n",
    "   - Le nœud **HashAggregate** est clairement le plus coûteux en termes de temps d'exécution, car il effectue une opération lourde sur tous les tuples scannés.\n",
    "\n",
    "5. **Effet du Seq Scan :**\n",
    "   - Bien que le scan séquentiel soit rapide (5.390 ms), la partie lourde vient de l'agrégation.\n",
    "\n",
    "---\n",
    "\n",
    "#### Recommandations :\n",
    "- Si cette requête est fréquente et les colonnes `nump` et `nomp` sont souvent utilisées pour des opérations de regroupement, créer un index ou une table matérialisée pourrait améliorer les performances.\n",
    "- Pour un très grand volume de données dépassant la mémoire disponible, il serait nécessaire d'ajuster les paramètres de mémoire pour les opérations d'agrégation, ou envisager des partitions. \n",
    "\n",
    "Dans ce cas, la performance reste acceptable, et l’agrégation en mémoire sans batch supplémentaire montre une configuration adéquate pour le volume traité.\n",
    "\n",
    "![alt text](pl.png \"Plan\")"
   ]
  },
  {
   "cell_type": "code",
   "execution_count": 80,
   "metadata": {},
   "outputs": [
    {
     "data": {
      "text/html": [
       "<span style=\"None\">Running query in &#x27;pg&#x27;</span>"
      ],
      "text/plain": [
       "Running query in 'pg'"
      ]
     },
     "metadata": {},
     "output_type": "display_data"
    },
    {
     "data": {
      "text/html": [
       "<span style=\"color: green\">11 rows affected.</span>"
      ],
      "text/plain": [
       "11 rows affected."
      ]
     },
     "metadata": {},
     "output_type": "display_data"
    },
    {
     "data": {
      "text/html": [
       "<table>\n",
       "    <thead>\n",
       "        <tr>\n",
       "            <th>QUERY PLAN</th>\n",
       "        </tr>\n",
       "    </thead>\n",
       "    <tbody>\n",
       "        <tr>\n",
       "            <td>Unique  (cost=0.34..4672.29 rows=50000 width=14) (actual time=0.026..13.671 rows=50000 loops=1)</td>\n",
       "        </tr>\n",
       "        <tr>\n",
       "            <td>&nbsp;&nbsp;Buffers: shared hit=1001</td>\n",
       "        </tr>\n",
       "        <tr>\n",
       "            <td>&nbsp;&nbsp;->  Incremental Sort  (cost=0.34..4422.29 rows=50000 width=14) (actual time=0.025..9.080 rows=50000 loops=1)</td>\n",
       "        </tr>\n",
       "        <tr>\n",
       "            <td>&nbsp;&nbsp;&nbsp;&nbsp;&nbsp;&nbsp;&nbsp;&nbsp;Sort Key: nump, nomp</td>\n",
       "        </tr>\n",
       "        <tr>\n",
       "            <td>&nbsp;&nbsp;&nbsp;&nbsp;&nbsp;&nbsp;&nbsp;&nbsp;Presorted Key: nump</td>\n",
       "        </tr>\n",
       "        <tr>\n",
       "            <td>&nbsp;&nbsp;&nbsp;&nbsp;&nbsp;&nbsp;&nbsp;&nbsp;Full-sort Groups: 1563  Sort Method: quicksort  Average Memory: 26kB  Peak Memory: 26kB</td>\n",
       "        </tr>\n",
       "        <tr>\n",
       "            <td>&nbsp;&nbsp;&nbsp;&nbsp;&nbsp;&nbsp;&nbsp;&nbsp;Buffers: shared hit=1001</td>\n",
       "        </tr>\n",
       "        <tr>\n",
       "            <td>&nbsp;&nbsp;&nbsp;&nbsp;&nbsp;&nbsp;&nbsp;&nbsp;->  Index Scan using produits_pkey on produits  (cost=0.29..2172.29 rows=50000 width=14) (actual time=0.013..4.578 rows=50000 loops=1)</td>\n",
       "        </tr>\n",
       "        <tr>\n",
       "            <td>&nbsp;&nbsp;&nbsp;&nbsp;&nbsp;&nbsp;&nbsp;&nbsp;&nbsp;&nbsp;&nbsp;&nbsp;&nbsp;&nbsp;Buffers: shared hit=1001</td>\n",
       "        </tr>\n",
       "        <tr>\n",
       "            <td>Planning Time: 0.043 ms</td>\n",
       "        </tr>\n",
       "        <tr>\n",
       "            <td>Execution Time: 14.815 ms</td>\n",
       "        </tr>\n",
       "    </tbody>\n",
       "</table>"
      ],
      "text/plain": [
       "+------------------------------------------------------------------------------------------------------------------------------------------------+\n",
       "|                                                                   QUERY PLAN                                                                   |\n",
       "+------------------------------------------------------------------------------------------------------------------------------------------------+\n",
       "|                        Unique  (cost=0.34..4672.29 rows=50000 width=14) (actual time=0.026..13.671 rows=50000 loops=1)                         |\n",
       "|                                                             Buffers: shared hit=1001                                                           |\n",
       "|                   ->  Incremental Sort  (cost=0.34..4422.29 rows=50000 width=14) (actual time=0.025..9.080 rows=50000 loops=1)                 |\n",
       "|                                                                  Sort Key: nump, nomp                                                          |\n",
       "|                                                                  Presorted Key: nump                                                           |\n",
       "|                                Full-sort Groups: 1563  Sort Method: quicksort  Average Memory: 26kB  Peak Memory: 26kB                         |\n",
       "|                                                                Buffers: shared hit=1001                                                        |\n",
       "|         ->  Index Scan using produits_pkey on produits  (cost=0.29..2172.29 rows=50000 width=14) (actual time=0.013..4.578 rows=50000 loops=1) |\n",
       "|                                                                   Buffers: shared hit=1001                                                     |\n",
       "|                                                            Planning Time: 0.043 ms                                                             |\n",
       "|                                                           Execution Time: 14.815 ms                                                            |\n",
       "+------------------------------------------------------------------------------------------------------------------------------------------------+"
      ]
     },
     "execution_count": 80,
     "metadata": {},
     "output_type": "execute_result"
    }
   ],
   "source": [
    "%%sql\n",
    "EXPLAIN (analyse,buffers) \n",
    "SELECT DISTINCT nump, nomp FROM produits ORDER BY nump"
   ]
  },
  {
   "cell_type": "markdown",
   "metadata": {},
   "source": [
    "### Analyse des résultats pour ce plan d'exécution :\n",
    "\n",
    "---\n",
    "\n",
    "#### Structure du plan d'exécution :\n",
    "1. **Nœud principal : Unique**\n",
    "   - **Coût estimé :** **0.34..4672.29**\n",
    "   - **Temps réel d'exécution :** **0.038..24.861 ms**\n",
    "   - **Nombre estimé de lignes en sortie :** **50,000 rows**\n",
    "   - Le nœud `Unique` s'assure que les résultats finaux ne contiennent que des lignes distinctes sur la base des colonnes `nump` et `nomp`.\n",
    "\n",
    "2. **Sous-opération : Incremental Sort**\n",
    "   - **Coût estimé :** **0.34..4422.29**\n",
    "   - **Temps réel d'exécution :** **0.037..16.762 ms**\n",
    "   - **Sort Key :** `nump, nomp` (tri final sur ces colonnes).\n",
    "   - **Presorted Key :** `nump` (les données sont partiellement triées par l'index utilisé).\n",
    "   - **Sort Method :** `quicksort` avec une mémoire moyenne de **26kB**.\n",
    "   - **Nombre de groupes triés (Full-sort Groups) :** **1563**, indiquant que la majeure partie des données étaient déjà triées par l'index.\n",
    "\n",
    "3. **Sous-opération : Index Scan**\n",
    "   - **Index utilisé :** `produits_pkey` (probablement un index sur la clé primaire `nump`).\n",
    "   - **Coût estimé :** **0.29..2172.29**\n",
    "   - **Temps réel d'exécution :** **0.020..9.053 ms**\n",
    "   - **Nombre de lignes générées :** **50,000 rows**\n",
    "   - **Buffers utilisés :** **shared hit=1001**, indiquant que toutes les données nécessaires étaient déjà en cache.\n",
    "\n",
    "4. **Temps total d'exécution :**\n",
    "   - **Planning Time :** **0.128 ms**\n",
    "   - **Execution Time :** **26.775 ms**\n",
    "\n",
    "---\n",
    "\n",
    "#### Observations détaillées :\n",
    "\n",
    "1. **Coût estimé et temps réel :**\n",
    "   - Le coût total estimé est **4672.29**, mais le temps réel total est de **26.775 ms**, ce qui indique une efficacité du cache (toutes les données étaient accessibles en mémoire).\n",
    "\n",
    "2. **Algorithmes utilisés :**\n",
    "   - **Index Scan** : Accès direct aux données via un index (rapide).\n",
    "   - **Incremental Sort** : PostgreSQL optimise le tri en tenant compte des données déjà triées partiellement grâce à l'index.\n",
    "   - **Unique** : Supprime les doublons sur les colonnes `nump` et `nomp`.\n",
    "\n",
    "3. **Utilisation de mémoire et buffers :**\n",
    "   - Le tri incrémental utilise très peu de mémoire (26kB), ce qui est efficace.\n",
    "   - Tous les **1001 buffers** nécessaires étaient dans le cache partagé (**shared hit**), donc pas d'accès disque.\n",
    "\n",
    "4. **Nœud le plus coûteux :**\n",
    "   - **Incremental Sort** est le nœud le plus coûteux dans ce plan d'exécution, bien qu'il soit optimisé par l'utilisation de l'index.\n",
    "\n",
    "5. **Effet de l'index :**\n",
    "   - L'utilisation de l'index `produits_pkey` réduit considérablement le coût initial de lecture des données, facilitant le tri partiel (`Presorted Key : nump`).\n",
    "\n",
    "---\n",
    "\n",
    "#### Recommandations :\n",
    "\n",
    "1. **Performance :**\n",
    "   - Le plan est performant grâce à l'utilisation de l'index et de l'algorithme de tri incrémental.\n",
    "   - Pour des volumes de données plus importants, il pourrait être utile d'augmenter la mémoire allouée pour le tri dans PostgreSQL (`work_mem`) afin de réduire le risque de tri sur disque.\n",
    "\n",
    "2. **Améliorations potentielles :**\n",
    "   - Si cette requête est fréquente, un index sur les colonnes `nump, nomp` (par exemple, un **index composite**) pourrait améliorer davantage les performances, en évitant complètement l'opération de tri.\n",
    "\n",
    "En l'état, ce plan d'exécution est bien optimisé et tire parti des ressources disponibles (cache et index). La faible utilisation de mémoire pour le tri indique un bon paramétrage de PostgreSQL.\n",
    "\n",
    "![alt text](pl2.png \"Plan\")"
   ]
  },
  {
   "cell_type": "code",
   "execution_count": 81,
   "metadata": {},
   "outputs": [
    {
     "data": {
      "text/html": [
       "<span style=\"None\">Running query in &#x27;pg&#x27;</span>"
      ],
      "text/plain": [
       "Running query in 'pg'"
      ]
     },
     "metadata": {},
     "output_type": "display_data"
    },
    {
     "data": {
      "text/html": [
       "<span style=\"color: green\">6 rows affected.</span>"
      ],
      "text/plain": [
       "6 rows affected."
      ]
     },
     "metadata": {},
     "output_type": "display_data"
    },
    {
     "data": {
      "text/html": [
       "<table>\n",
       "    <thead>\n",
       "        <tr>\n",
       "            <th>QUERY PLAN</th>\n",
       "        </tr>\n",
       "    </thead>\n",
       "    <tbody>\n",
       "        <tr>\n",
       "            <td>Seq Scan on produits  (cost=0.00..1488.00 rows=2 width=111) (actual time=0.266..1.717 rows=2 loops=1)</td>\n",
       "        </tr>\n",
       "        <tr>\n",
       "            <td>&nbsp;&nbsp;Filter: ((nomp)::text = 'nomp_327'::text)</td>\n",
       "        </tr>\n",
       "        <tr>\n",
       "            <td>&nbsp;&nbsp;Rows Removed by Filter: 49998</td>\n",
       "        </tr>\n",
       "        <tr>\n",
       "            <td>&nbsp;&nbsp;Buffers: shared hit=863</td>\n",
       "        </tr>\n",
       "        <tr>\n",
       "            <td>Planning Time: 0.043 ms</td>\n",
       "        </tr>\n",
       "        <tr>\n",
       "            <td>Execution Time: 1.724 ms</td>\n",
       "        </tr>\n",
       "    </tbody>\n",
       "</table>"
      ],
      "text/plain": [
       "+-------------------------------------------------------------------------------------------------------+\n",
       "|                                               QUERY PLAN                                              |\n",
       "+-------------------------------------------------------------------------------------------------------+\n",
       "| Seq Scan on produits  (cost=0.00..1488.00 rows=2 width=111) (actual time=0.266..1.717 rows=2 loops=1) |\n",
       "|                                Filter: ((nomp)::text = 'nomp_327'::text)                              |\n",
       "|                                      Rows Removed by Filter: 49998                                    |\n",
       "|                                         Buffers: shared hit=863                                       |\n",
       "|                                        Planning Time: 0.043 ms                                        |\n",
       "|                                        Execution Time: 1.724 ms                                       |\n",
       "+-------------------------------------------------------------------------------------------------------+"
      ]
     },
     "execution_count": 81,
     "metadata": {},
     "output_type": "execute_result"
    }
   ],
   "source": [
    "%%sql\n",
    "EXPLAIN (analyse,buffers) \n",
    "SELECT * FROM produits WHERE nomp='nomp_327'"
   ]
  },
  {
   "cell_type": "markdown",
   "metadata": {},
   "source": [
    "### Analyse des résultats pour ce plan d'exécution :\n",
    "\n",
    "---\n",
    "\n",
    "#### Structure du plan d'exécution :\n",
    "1. **Nœud principal : Seq Scan (Sequential Scan)**\n",
    "   - **Coût estimé :** **0.00..1488.00**\n",
    "   - **Temps réel d'exécution :** **0.713..2.166 ms**\n",
    "   - **Nombre estimé de lignes en sortie :** **2 rows**\n",
    "   - **Nombre réel de lignes générées :** **1 row**\n",
    "   - **Filtre appliqué :** `(nomp)::text = 'nomp_327'::text`\n",
    "   - **Lignes exclues par le filtre :** **49,999 rows**\n",
    "   - **Buffers utilisés :** **shared hit=863**, indiquant que toutes les données nécessaires étaient déjà en cache.\n",
    "\n",
    "2. **Temps total d'exécution :**\n",
    "   - **Planning Time :** **0.041 ms**\n",
    "   - **Execution Time :** **2.175 ms**\n",
    "\n",
    "---\n",
    "\n",
    "#### Observations détaillées :\n",
    "\n",
    "1. **Coût estimé et temps réel :**\n",
    "   - Le coût estimé par PostgreSQL est **1488.00**, mais le temps réel est **2.175 ms**, ce qui reflète une lecture rapide grâce à la présence des données dans le cache partagé.\n",
    "\n",
    "2. **Filtrage des données :**\n",
    "   - La condition `(nomp)::text = 'nomp_327'::text` a été appliquée en filtrant les lignes pendant le scan séquentiel.\n",
    "   - Sur les **50,000 lignes**, **49,999** ont été ignorées (Rows Removed by Filter).\n",
    "\n",
    "3. **Algorithmes utilisés :**\n",
    "   - PostgreSQL a utilisé un **Seq Scan**, ce qui signifie que toute la table a été scannée ligne par ligne pour appliquer le filtre.\n",
    "\n",
    "4. **Utilisation des buffers :**\n",
    "   - Les **863 buffers** utilisés étaient entièrement en cache (**shared hit**), donc aucun accès disque supplémentaire n'a été nécessaire.\n",
    "\n",
    "5. **Efficacité du Seq Scan :**\n",
    "   - Bien que le scan séquentiel ait trouvé une seule ligne, il a dû parcourir les **50,000 lignes** de la table, ce qui est inefficace pour une recherche aussi spécifique.\n",
    "\n",
    "6. **Estimation vs Réalité :**\n",
    "   - PostgreSQL avait estimé que **2 lignes** seraient retournées, mais la requête n'en a trouvé qu'**1**. Cette légère différence pourrait être due à des statistiques obsolètes ou imprécises pour la colonne `nomp`.\n",
    "\n",
    "---\n",
    "\n",
    "#### Recommandations :\n",
    "\n",
    "1. **Amélioration des performances :**\n",
    "   - Créer un index sur la colonne `nomp` pourrait accélérer cette requête en évitant le scan séquentiel :\n",
    "     ```sql\n",
    "     CREATE INDEX idx_produits_nomp ON produits(nomp);\n",
    "     ```\n",
    "   - Avec cet index, PostgreSQL pourrait utiliser un **Index Scan** ou un **Bitmap Index Scan** pour rechercher directement les lignes correspondant au filtre.\n",
    "\n",
    "2. **Actualisation des statistiques :**\n",
    "   - Si les estimations sont régulièrement imprécises, mettre à jour les statistiques de la table pourrait améliorer les performances des requêtes :\n",
    "     ```sql\n",
    "     ANALYZE optimisation.produits;\n",
    "     ```\n",
    "\n",
    "3. **Alternative :**\n",
    "   - Si des recherches similaires sont fréquentes, il pourrait être judicieux d'utiliser un index textuel pour des colonnes de type texte, surtout si elles sont sujettes à des recherches exactes ou partielles.\n",
    "\n",
    "---\n",
    "\n",
    "#### Conclusion :\n",
    "Le plan actuel est sous-optimal pour cette requête, car il scanne toute la table pour trouver une seule ligne. Un index sur la colonne `nomp` améliorerait considérablement les performances et éviterait le scan séquentiel. Toutefois, le temps d'exécution reste acceptable grâce à l'utilisation du cache.\n",
    "\n",
    "![alt text](pl3.png \"Plan\")"
   ]
  },
  {
   "cell_type": "code",
   "execution_count": 82,
   "metadata": {},
   "outputs": [
    {
     "data": {
      "text/html": [
       "<span style=\"None\">Running query in &#x27;pg&#x27;</span>"
      ],
      "text/plain": [
       "Running query in 'pg'"
      ]
     },
     "metadata": {},
     "output_type": "display_data"
    },
    {
     "data": {
      "text/html": [
       "<span style=\"color: green\">10 rows affected.</span>"
      ],
      "text/plain": [
       "10 rows affected."
      ]
     },
     "metadata": {},
     "output_type": "display_data"
    },
    {
     "data": {
      "text/html": [
       "<table>\n",
       "    <thead>\n",
       "        <tr>\n",
       "            <th>QUERY PLAN</th>\n",
       "        </tr>\n",
       "    </thead>\n",
       "    <tbody>\n",
       "        <tr>\n",
       "            <td>HashAggregate  (cost=6445.49..6863.85 rows=41836 width=12) (actual time=32.651..35.388 rows=49126 loops=1)</td>\n",
       "        </tr>\n",
       "        <tr>\n",
       "            <td>&nbsp;&nbsp;Group Key: numc</td>\n",
       "        </tr>\n",
       "        <tr>\n",
       "            <td>&nbsp;&nbsp;Batches: 1  Memory Usage: 4625kB</td>\n",
       "        </tr>\n",
       "        <tr>\n",
       "            <td>&nbsp;&nbsp;Buffers: shared hit=3447</td>\n",
       "        </tr>\n",
       "        <tr>\n",
       "            <td>&nbsp;&nbsp;->  Seq Scan on commandes  (cost=0.00..5445.99 rows=199899 width=4) (actual time=0.004..7.580 rows=199899 loops=1)</td>\n",
       "        </tr>\n",
       "        <tr>\n",
       "            <td>&nbsp;&nbsp;&nbsp;&nbsp;&nbsp;&nbsp;&nbsp;&nbsp;Buffers: shared hit=3447</td>\n",
       "        </tr>\n",
       "        <tr>\n",
       "            <td>Planning:</td>\n",
       "        </tr>\n",
       "        <tr>\n",
       "            <td>&nbsp;&nbsp;Buffers: shared hit=29</td>\n",
       "        </tr>\n",
       "        <tr>\n",
       "            <td>Planning Time: 0.097 ms</td>\n",
       "        </tr>\n",
       "        <tr>\n",
       "            <td>Execution Time: 36.446 ms</td>\n",
       "        </tr>\n",
       "    </tbody>\n",
       "</table>"
      ],
      "text/plain": [
       "+----------------------------------------------------------------------------------------------------------------------+\n",
       "|                                                      QUERY PLAN                                                      |\n",
       "+----------------------------------------------------------------------------------------------------------------------+\n",
       "|      HashAggregate  (cost=6445.49..6863.85 rows=41836 width=12) (actual time=32.651..35.388 rows=49126 loops=1)      |\n",
       "|                                                    Group Key: numc                                                   |\n",
       "|                                            Batches: 1  Memory Usage: 4625kB                                          |\n",
       "|                                                Buffers: shared hit=3447                                              |\n",
       "|   ->  Seq Scan on commandes  (cost=0.00..5445.99 rows=199899 width=4) (actual time=0.004..7.580 rows=199899 loops=1) |\n",
       "|                                                   Buffers: shared hit=3447                                           |\n",
       "|                                                      Planning:                                                       |\n",
       "|                                                 Buffers: shared hit=29                                               |\n",
       "|                                               Planning Time: 0.097 ms                                                |\n",
       "|                                              Execution Time: 36.446 ms                                               |\n",
       "+----------------------------------------------------------------------------------------------------------------------+"
      ]
     },
     "execution_count": 82,
     "metadata": {},
     "output_type": "execute_result"
    }
   ],
   "source": [
    "%%sql\n",
    "EXPLAIN (analyse,buffers) \n",
    "SELECT numc, COUNT(*) AS nombre_commandes\n",
    "FROM commandes\n",
    "GROUP BY numc;"
   ]
  },
  {
   "cell_type": "markdown",
   "metadata": {},
   "source": [
    "### Analyse du plan d'exécution :\n",
    "\n",
    "---\n",
    "\n",
    "#### Structure du plan :\n",
    "\n",
    "1. **Nœud principal : HashAggregate**\n",
    "   - **Coût estimé :** **6445.30..6869.36**\n",
    "   - **Temps réel d'exécution :** **78.207..81.435 ms**\n",
    "   - **Nombre estimé de lignes en sortie :** **42,406 rows**\n",
    "   - **Nombre réel de lignes en sortie :** **49,081 rows**\n",
    "   - **Mémoire utilisée :** **4625kB**, tout le traitement a été réalisé en mémoire (1 seul batch).\n",
    "   - **Clé de regroupement :** `numc`.\n",
    "\n",
    "2. **Sous-opération : Seq Scan**\n",
    "   - **Table scannée :** `commandes`\n",
    "   - **Coût estimé :** **0.00..5445.87**\n",
    "   - **Temps réel d'exécution :** **0.009..13.626 ms**\n",
    "   - **Nombre de lignes générées :** **199,887 rows**\n",
    "   - **Buffers utilisés :** **shared hit=3447**, ce qui indique que toutes les données nécessaires étaient dans le cache.\n",
    "\n",
    "3. **Temps total d'exécution :**\n",
    "   - **Planning Time :** **0.160 ms**\n",
    "   - **Execution Time :** **82.612 ms**\n",
    "\n",
    "---\n",
    "\n",
    "#### Observations détaillées :\n",
    "\n",
    "1. **Coût estimé vs Temps réel :**\n",
    "   - Le coût estimé par PostgreSQL pour la requête est cohérent avec le temps réel observé. Le traitement principal est l'agrégation (HashAggregate).\n",
    "\n",
    "2. **HashAggregate :**\n",
    "   - Le regroupement (`GROUP BY numc`) est réalisé avec un **HashAggregate**, qui est adapté dans ce cas puisque les données tiennent en mémoire (batch unique).\n",
    "   - La mémoire utilisée (**4625kB**) reste raisonnable pour traiter environ **199,887 lignes**.\n",
    "\n",
    "3. **Seq Scan :**\n",
    "   - La table `commandes` est lue entièrement via un **Seq Scan**.\n",
    "   - Cette méthode est utilisée car il n'y a pas d'index spécifique sur `numc` qui permettrait d'accélérer cette opération.\n",
    "\n",
    "4. **Utilisation des buffers :**\n",
    "   - Tous les **3447 buffers** nécessaires étaient déjà en cache partagé (**shared hit**), donc aucun accès disque n'a été nécessaire, ce qui améliore le temps d'exécution.\n",
    "\n",
    "5. **Estimation vs Réalité :**\n",
    "   - PostgreSQL a estimé que **42,406** groupes seraient créés, mais le résultat réel est de **49,081 groupes**. Cette différence pourrait refléter une légère imprécision dans les statistiques de la colonne `numc`.\n",
    "\n",
    "---\n",
    "\n",
    "#### Recommandations pour amélioration :\n",
    "\n",
    "1. **Création d’un index sur `numc` :**\n",
    "   - Si cette requête ou des requêtes similaires sont fréquentes, un index sur `numc` pourrait accélérer l’opération :\n",
    "     ```sql\n",
    "     CREATE INDEX idx_commandes_numc ON commandes(numc);\n",
    "     ```\n",
    "\n",
    "2. **Mise à jour des statistiques :**\n",
    "   - Les statistiques de la colonne `numc` pourraient être mises à jour pour affiner les estimations :\n",
    "     ```sql\n",
    "     ANALYZE optimisation.commandes;\n",
    "     ```\n",
    "\n",
    "3. **Partitionnement éventuel :**\n",
    "   - Si la table `commandes` devient beaucoup plus volumineuse, envisagez un partitionnement basé sur `numc` pour réduire le coût des scans.\n",
    "\n",
    "---\n",
    "\n",
    "#### Conclusion :\n",
    "Le plan actuel est performant grâce à l’utilisation du cache, mais un **Seq Scan** pour une opération d’agrégation sur une colonne spécifique (`numc`) peut être optimisé avec un index. Le temps d’exécution total est acceptable pour cette taille de données.\n",
    "\n",
    "\n",
    "![alt text](pl4.png \"Plan\")"
   ]
  },
  {
   "cell_type": "code",
   "execution_count": 83,
   "metadata": {},
   "outputs": [
    {
     "data": {
      "text/html": [
       "<span style=\"None\">Running query in &#x27;pg&#x27;</span>"
      ],
      "text/plain": [
       "Running query in 'pg'"
      ]
     },
     "metadata": {},
     "output_type": "display_data"
    },
    {
     "data": {
      "text/html": [
       "<span style=\"color: green\">14 rows affected.</span>"
      ],
      "text/plain": [
       "14 rows affected."
      ]
     },
     "metadata": {},
     "output_type": "display_data"
    },
    {
     "data": {
      "text/html": [
       "<table>\n",
       "    <thead>\n",
       "        <tr>\n",
       "            <th>QUERY PLAN</th>\n",
       "        </tr>\n",
       "    </thead>\n",
       "    <tbody>\n",
       "        <tr>\n",
       "            <td>Hash Join  (cost=1988.00..7958.77 rows=199899 width=14) (actual time=5.395..35.894 rows=199899 loops=1)</td>\n",
       "        </tr>\n",
       "        <tr>\n",
       "            <td>&nbsp;&nbsp;Hash Cond: (co.numc = cl.numc)</td>\n",
       "        </tr>\n",
       "        <tr>\n",
       "            <td>&nbsp;&nbsp;Buffers: shared hit=4310</td>\n",
       "        </tr>\n",
       "        <tr>\n",
       "            <td>&nbsp;&nbsp;->  Seq Scan on commandes co  (cost=0.00..5445.99 rows=199899 width=8) (actual time=0.006..10.865 rows=199899 loops=1)</td>\n",
       "        </tr>\n",
       "        <tr>\n",
       "            <td>&nbsp;&nbsp;&nbsp;&nbsp;&nbsp;&nbsp;&nbsp;&nbsp;Buffers: shared hit=3447</td>\n",
       "        </tr>\n",
       "        <tr>\n",
       "            <td>&nbsp;&nbsp;->  Hash  (cost=1363.00..1363.00 rows=50000 width=14) (actual time=5.380..5.381 rows=50000 loops=1)</td>\n",
       "        </tr>\n",
       "        <tr>\n",
       "            <td>&nbsp;&nbsp;&nbsp;&nbsp;&nbsp;&nbsp;&nbsp;&nbsp;Buckets: 65536  Batches: 1  Memory Usage: 2856kB</td>\n",
       "        </tr>\n",
       "        <tr>\n",
       "            <td>&nbsp;&nbsp;&nbsp;&nbsp;&nbsp;&nbsp;&nbsp;&nbsp;Buffers: shared hit=863</td>\n",
       "        </tr>\n",
       "        <tr>\n",
       "            <td>&nbsp;&nbsp;&nbsp;&nbsp;&nbsp;&nbsp;&nbsp;&nbsp;->  Seq Scan on clients cl  (cost=0.00..1363.00 rows=50000 width=14) (actual time=0.003..2.390 rows=50000 loops=1)</td>\n",
       "        </tr>\n",
       "        <tr>\n",
       "            <td>&nbsp;&nbsp;&nbsp;&nbsp;&nbsp;&nbsp;&nbsp;&nbsp;&nbsp;&nbsp;&nbsp;&nbsp;&nbsp;&nbsp;Buffers: shared hit=863</td>\n",
       "        </tr>\n",
       "        <tr>\n",
       "            <td>Planning:</td>\n",
       "        </tr>\n",
       "        <tr>\n",
       "            <td>&nbsp;&nbsp;Buffers: shared hit=39</td>\n",
       "        </tr>\n",
       "        <tr>\n",
       "            <td>Planning Time: 0.166 ms</td>\n",
       "        </tr>\n",
       "        <tr>\n",
       "            <td>Execution Time: 39.658 ms</td>\n",
       "        </tr>\n",
       "    </tbody>\n",
       "</table>"
      ],
      "text/plain": [
       "+----------------------------------------------------------------------------------------------------------------------------+\n",
       "|                                                         QUERY PLAN                                                         |\n",
       "+----------------------------------------------------------------------------------------------------------------------------+\n",
       "|          Hash Join  (cost=1988.00..7958.77 rows=199899 width=14) (actual time=5.395..35.894 rows=199899 loops=1)           |\n",
       "|                                                Hash Cond: (co.numc = cl.numc)                                              |\n",
       "|                                                   Buffers: shared hit=4310                                                 |\n",
       "|    ->  Seq Scan on commandes co  (cost=0.00..5445.99 rows=199899 width=8) (actual time=0.006..10.865 rows=199899 loops=1)  |\n",
       "|                                                      Buffers: shared hit=3447                                              |\n",
       "|             ->  Hash  (cost=1363.00..1363.00 rows=50000 width=14) (actual time=5.380..5.381 rows=50000 loops=1)            |\n",
       "|                                          Buckets: 65536  Batches: 1  Memory Usage: 2856kB                                  |\n",
       "|                                                      Buffers: shared hit=863                                               |\n",
       "|         ->  Seq Scan on clients cl  (cost=0.00..1363.00 rows=50000 width=14) (actual time=0.003..2.390 rows=50000 loops=1) |\n",
       "|                                                         Buffers: shared hit=863                                            |\n",
       "|                                                         Planning:                                                          |\n",
       "|                                                    Buffers: shared hit=39                                                  |\n",
       "|                                                  Planning Time: 0.166 ms                                                   |\n",
       "|                                                 Execution Time: 39.658 ms                                                  |\n",
       "+----------------------------------------------------------------------------------------------------------------------------+"
      ]
     },
     "execution_count": 83,
     "metadata": {},
     "output_type": "execute_result"
    }
   ],
   "source": [
    "%%sql\n",
    "-- Variante 1 : Utilisation de la syntaxe explicite JOIN\n",
    "EXPLAIN (analyse,buffers) \n",
    "SELECT cl.nomc, co.datecom\n",
    "FROM optimisation.clients cl\n",
    "JOIN optimisation.commandes co\n",
    "ON cl.numc = co.numc;\n"
   ]
  },
  {
   "cell_type": "code",
   "execution_count": 84,
   "metadata": {},
   "outputs": [
    {
     "data": {
      "text/html": [
       "<span style=\"None\">Running query in &#x27;pg&#x27;</span>"
      ],
      "text/plain": [
       "Running query in 'pg'"
      ]
     },
     "metadata": {},
     "output_type": "display_data"
    },
    {
     "data": {
      "text/html": [
       "<span style=\"color: green\">14 rows affected.</span>"
      ],
      "text/plain": [
       "14 rows affected."
      ]
     },
     "metadata": {},
     "output_type": "display_data"
    },
    {
     "data": {
      "text/html": [
       "<table>\n",
       "    <thead>\n",
       "        <tr>\n",
       "            <th>QUERY PLAN</th>\n",
       "        </tr>\n",
       "    </thead>\n",
       "    <tbody>\n",
       "        <tr>\n",
       "            <td>Hash Join  (cost=1988.00..7958.77 rows=199899 width=14) (actual time=5.343..34.321 rows=199899 loops=1)</td>\n",
       "        </tr>\n",
       "        <tr>\n",
       "            <td>&nbsp;&nbsp;Hash Cond: (co.numc = cl.numc)</td>\n",
       "        </tr>\n",
       "        <tr>\n",
       "            <td>&nbsp;&nbsp;Buffers: shared hit=4310</td>\n",
       "        </tr>\n",
       "        <tr>\n",
       "            <td>&nbsp;&nbsp;->  Seq Scan on commandes co  (cost=0.00..5445.99 rows=199899 width=8) (actual time=0.005..9.321 rows=199899 loops=1)</td>\n",
       "        </tr>\n",
       "        <tr>\n",
       "            <td>&nbsp;&nbsp;&nbsp;&nbsp;&nbsp;&nbsp;&nbsp;&nbsp;Buffers: shared hit=3447</td>\n",
       "        </tr>\n",
       "        <tr>\n",
       "            <td>&nbsp;&nbsp;->  Hash  (cost=1363.00..1363.00 rows=50000 width=14) (actual time=5.329..5.330 rows=50000 loops=1)</td>\n",
       "        </tr>\n",
       "        <tr>\n",
       "            <td>&nbsp;&nbsp;&nbsp;&nbsp;&nbsp;&nbsp;&nbsp;&nbsp;Buckets: 65536  Batches: 1  Memory Usage: 2856kB</td>\n",
       "        </tr>\n",
       "        <tr>\n",
       "            <td>&nbsp;&nbsp;&nbsp;&nbsp;&nbsp;&nbsp;&nbsp;&nbsp;Buffers: shared hit=863</td>\n",
       "        </tr>\n",
       "        <tr>\n",
       "            <td>&nbsp;&nbsp;&nbsp;&nbsp;&nbsp;&nbsp;&nbsp;&nbsp;->  Seq Scan on clients cl  (cost=0.00..1363.00 rows=50000 width=14) (actual time=0.003..2.403 rows=50000 loops=1)</td>\n",
       "        </tr>\n",
       "        <tr>\n",
       "            <td>&nbsp;&nbsp;&nbsp;&nbsp;&nbsp;&nbsp;&nbsp;&nbsp;&nbsp;&nbsp;&nbsp;&nbsp;&nbsp;&nbsp;Buffers: shared hit=863</td>\n",
       "        </tr>\n",
       "        <tr>\n",
       "            <td>Planning:</td>\n",
       "        </tr>\n",
       "        <tr>\n",
       "            <td>&nbsp;&nbsp;Buffers: shared hit=6</td>\n",
       "        </tr>\n",
       "        <tr>\n",
       "            <td>Planning Time: 0.089 ms</td>\n",
       "        </tr>\n",
       "        <tr>\n",
       "            <td>Execution Time: 38.077 ms</td>\n",
       "        </tr>\n",
       "    </tbody>\n",
       "</table>"
      ],
      "text/plain": [
       "+----------------------------------------------------------------------------------------------------------------------------+\n",
       "|                                                         QUERY PLAN                                                         |\n",
       "+----------------------------------------------------------------------------------------------------------------------------+\n",
       "|          Hash Join  (cost=1988.00..7958.77 rows=199899 width=14) (actual time=5.343..34.321 rows=199899 loops=1)           |\n",
       "|                                                Hash Cond: (co.numc = cl.numc)                                              |\n",
       "|                                                   Buffers: shared hit=4310                                                 |\n",
       "|    ->  Seq Scan on commandes co  (cost=0.00..5445.99 rows=199899 width=8) (actual time=0.005..9.321 rows=199899 loops=1)   |\n",
       "|                                                      Buffers: shared hit=3447                                              |\n",
       "|             ->  Hash  (cost=1363.00..1363.00 rows=50000 width=14) (actual time=5.329..5.330 rows=50000 loops=1)            |\n",
       "|                                          Buckets: 65536  Batches: 1  Memory Usage: 2856kB                                  |\n",
       "|                                                      Buffers: shared hit=863                                               |\n",
       "|         ->  Seq Scan on clients cl  (cost=0.00..1363.00 rows=50000 width=14) (actual time=0.003..2.403 rows=50000 loops=1) |\n",
       "|                                                         Buffers: shared hit=863                                            |\n",
       "|                                                         Planning:                                                          |\n",
       "|                                                    Buffers: shared hit=6                                                   |\n",
       "|                                                  Planning Time: 0.089 ms                                                   |\n",
       "|                                                 Execution Time: 38.077 ms                                                  |\n",
       "+----------------------------------------------------------------------------------------------------------------------------+"
      ]
     },
     "execution_count": 84,
     "metadata": {},
     "output_type": "execute_result"
    }
   ],
   "source": [
    "%%sql\n",
    "-- Variante 2 : Utilisation de la syntaxe implicite JOIN\n",
    "EXPLAIN (analyse,buffers) \n",
    "SELECT cl.nomc, co.datecom\n",
    "FROM optimisation.clients cl, optimisation.commandes co\n",
    "WHERE cl.numc = co.numc;"
   ]
  },
  {
   "cell_type": "code",
   "execution_count": 85,
   "metadata": {},
   "outputs": [
    {
     "data": {
      "text/html": [
       "<span style=\"None\">Running query in &#x27;pg&#x27;</span>"
      ],
      "text/plain": [
       "Running query in 'pg'"
      ]
     },
     "metadata": {},
     "output_type": "display_data"
    },
    {
     "data": {
      "text/html": [
       "<span style=\"color: green\">24 rows affected.</span>"
      ],
      "text/plain": [
       "24 rows affected."
      ]
     },
     "metadata": {},
     "output_type": "display_data"
    },
    {
     "data": {
      "text/html": [
       "<table>\n",
       "    <thead>\n",
       "        <tr>\n",
       "            <th>QUERY PLAN</th>\n",
       "        </tr>\n",
       "    </thead>\n",
       "    <tbody>\n",
       "        <tr>\n",
       "            <td>Unique  (cost=46368.40..1543341524.16 rows=675217725 width=20)</td>\n",
       "        </tr>\n",
       "        <tr>\n",
       "            <td>&nbsp;&nbsp;->  Nested Loop  (cost=46368.40..1102420785.18 rows=88184147796 width=20)</td>\n",
       "        </tr>\n",
       "        <tr>\n",
       "            <td>&nbsp;&nbsp;&nbsp;&nbsp;&nbsp;&nbsp;&nbsp;&nbsp;->  Gather Merge  (cost=46368.40..116160.24 rows=599244 width=20)</td>\n",
       "        </tr>\n",
       "        <tr>\n",
       "            <td>&nbsp;&nbsp;&nbsp;&nbsp;&nbsp;&nbsp;&nbsp;&nbsp;&nbsp;&nbsp;&nbsp;&nbsp;&nbsp;&nbsp;Workers Planned: 2</td>\n",
       "        </tr>\n",
       "        <tr>\n",
       "            <td>&nbsp;&nbsp;&nbsp;&nbsp;&nbsp;&nbsp;&nbsp;&nbsp;&nbsp;&nbsp;&nbsp;&nbsp;&nbsp;&nbsp;->  Sort  (cost=45368.38..45992.59 rows=249685 width=20)</td>\n",
       "        </tr>\n",
       "        <tr>\n",
       "            <td>&nbsp;&nbsp;&nbsp;&nbsp;&nbsp;&nbsp;&nbsp;&nbsp;&nbsp;&nbsp;&nbsp;&nbsp;&nbsp;&nbsp;&nbsp;&nbsp;&nbsp;&nbsp;&nbsp;&nbsp;Sort Key: clients.nomc, produits.nomp</td>\n",
       "        </tr>\n",
       "        <tr>\n",
       "            <td>&nbsp;&nbsp;&nbsp;&nbsp;&nbsp;&nbsp;&nbsp;&nbsp;&nbsp;&nbsp;&nbsp;&nbsp;&nbsp;&nbsp;&nbsp;&nbsp;&nbsp;&nbsp;&nbsp;&nbsp;->  Parallel Hash Join  (cost=9505.28..17863.93 rows=249685 width=20)</td>\n",
       "        </tr>\n",
       "        <tr>\n",
       "            <td>&nbsp;&nbsp;&nbsp;&nbsp;&nbsp;&nbsp;&nbsp;&nbsp;&nbsp;&nbsp;&nbsp;&nbsp;&nbsp;&nbsp;&nbsp;&nbsp;&nbsp;&nbsp;&nbsp;&nbsp;&nbsp;&nbsp;&nbsp;&nbsp;&nbsp;&nbsp;Hash Cond: ((clients.numc = commandes.numc) AND (concerne.datecom = commandes.datecom))</td>\n",
       "        </tr>\n",
       "        <tr>\n",
       "            <td>&nbsp;&nbsp;&nbsp;&nbsp;&nbsp;&nbsp;&nbsp;&nbsp;&nbsp;&nbsp;&nbsp;&nbsp;&nbsp;&nbsp;&nbsp;&nbsp;&nbsp;&nbsp;&nbsp;&nbsp;&nbsp;&nbsp;&nbsp;&nbsp;&nbsp;&nbsp;->  Hash Join  (cost=3976.00..11023.81 rows=249685 width=32)</td>\n",
       "        </tr>\n",
       "        <tr>\n",
       "            <td>&nbsp;&nbsp;&nbsp;&nbsp;&nbsp;&nbsp;&nbsp;&nbsp;&nbsp;&nbsp;&nbsp;&nbsp;&nbsp;&nbsp;&nbsp;&nbsp;&nbsp;&nbsp;&nbsp;&nbsp;&nbsp;&nbsp;&nbsp;&nbsp;&nbsp;&nbsp;&nbsp;&nbsp;&nbsp;&nbsp;&nbsp;&nbsp;Hash Cond: (concerne.nump = produits.nump)</td>\n",
       "        </tr>\n",
       "        <tr>\n",
       "            <td>&nbsp;&nbsp;&nbsp;&nbsp;&nbsp;&nbsp;&nbsp;&nbsp;&nbsp;&nbsp;&nbsp;&nbsp;&nbsp;&nbsp;&nbsp;&nbsp;&nbsp;&nbsp;&nbsp;&nbsp;&nbsp;&nbsp;&nbsp;&nbsp;&nbsp;&nbsp;&nbsp;&nbsp;&nbsp;&nbsp;&nbsp;&nbsp;->  Hash Join  (cost=1988.00..8380.33 rows=249685 width=26)</td>\n",
       "        </tr>\n",
       "        <tr>\n",
       "            <td>&nbsp;&nbsp;&nbsp;&nbsp;&nbsp;&nbsp;&nbsp;&nbsp;&nbsp;&nbsp;&nbsp;&nbsp;&nbsp;&nbsp;&nbsp;&nbsp;&nbsp;&nbsp;&nbsp;&nbsp;&nbsp;&nbsp;&nbsp;&nbsp;&nbsp;&nbsp;&nbsp;&nbsp;&nbsp;&nbsp;&nbsp;&nbsp;&nbsp;&nbsp;&nbsp;&nbsp;&nbsp;&nbsp;Hash Cond: (concerne.numc = clients.numc)</td>\n",
       "        </tr>\n",
       "        <tr>\n",
       "            <td>&nbsp;&nbsp;&nbsp;&nbsp;&nbsp;&nbsp;&nbsp;&nbsp;&nbsp;&nbsp;&nbsp;&nbsp;&nbsp;&nbsp;&nbsp;&nbsp;&nbsp;&nbsp;&nbsp;&nbsp;&nbsp;&nbsp;&nbsp;&nbsp;&nbsp;&nbsp;&nbsp;&nbsp;&nbsp;&nbsp;&nbsp;&nbsp;&nbsp;&nbsp;&nbsp;&nbsp;&nbsp;&nbsp;->  Parallel Seq Scan on concerne  (cost=0.00..5736.85 rows=249685 width=12)</td>\n",
       "        </tr>\n",
       "        <tr>\n",
       "            <td>&nbsp;&nbsp;&nbsp;&nbsp;&nbsp;&nbsp;&nbsp;&nbsp;&nbsp;&nbsp;&nbsp;&nbsp;&nbsp;&nbsp;&nbsp;&nbsp;&nbsp;&nbsp;&nbsp;&nbsp;&nbsp;&nbsp;&nbsp;&nbsp;&nbsp;&nbsp;&nbsp;&nbsp;&nbsp;&nbsp;&nbsp;&nbsp;&nbsp;&nbsp;&nbsp;&nbsp;&nbsp;&nbsp;->  Hash  (cost=1363.00..1363.00 rows=50000 width=14)</td>\n",
       "        </tr>\n",
       "        <tr>\n",
       "            <td>&nbsp;&nbsp;&nbsp;&nbsp;&nbsp;&nbsp;&nbsp;&nbsp;&nbsp;&nbsp;&nbsp;&nbsp;&nbsp;&nbsp;&nbsp;&nbsp;&nbsp;&nbsp;&nbsp;&nbsp;&nbsp;&nbsp;&nbsp;&nbsp;&nbsp;&nbsp;&nbsp;&nbsp;&nbsp;&nbsp;&nbsp;&nbsp;&nbsp;&nbsp;&nbsp;&nbsp;&nbsp;&nbsp;&nbsp;&nbsp;&nbsp;&nbsp;&nbsp;&nbsp;->  Seq Scan on clients  (cost=0.00..1363.00 rows=50000 width=14)</td>\n",
       "        </tr>\n",
       "        <tr>\n",
       "            <td>&nbsp;&nbsp;&nbsp;&nbsp;&nbsp;&nbsp;&nbsp;&nbsp;&nbsp;&nbsp;&nbsp;&nbsp;&nbsp;&nbsp;&nbsp;&nbsp;&nbsp;&nbsp;&nbsp;&nbsp;&nbsp;&nbsp;&nbsp;&nbsp;&nbsp;&nbsp;&nbsp;&nbsp;&nbsp;&nbsp;&nbsp;&nbsp;->  Hash  (cost=1363.00..1363.00 rows=50000 width=14)</td>\n",
       "        </tr>\n",
       "        <tr>\n",
       "            <td>&nbsp;&nbsp;&nbsp;&nbsp;&nbsp;&nbsp;&nbsp;&nbsp;&nbsp;&nbsp;&nbsp;&nbsp;&nbsp;&nbsp;&nbsp;&nbsp;&nbsp;&nbsp;&nbsp;&nbsp;&nbsp;&nbsp;&nbsp;&nbsp;&nbsp;&nbsp;&nbsp;&nbsp;&nbsp;&nbsp;&nbsp;&nbsp;&nbsp;&nbsp;&nbsp;&nbsp;&nbsp;&nbsp;->  Seq Scan on produits  (cost=0.00..1363.00 rows=50000 width=14)</td>\n",
       "        </tr>\n",
       "        <tr>\n",
       "            <td>&nbsp;&nbsp;&nbsp;&nbsp;&nbsp;&nbsp;&nbsp;&nbsp;&nbsp;&nbsp;&nbsp;&nbsp;&nbsp;&nbsp;&nbsp;&nbsp;&nbsp;&nbsp;&nbsp;&nbsp;&nbsp;&nbsp;&nbsp;&nbsp;&nbsp;&nbsp;->  Parallel Hash  (cost=4279.91..4279.91 rows=83291 width=8)</td>\n",
       "        </tr>\n",
       "        <tr>\n",
       "            <td>&nbsp;&nbsp;&nbsp;&nbsp;&nbsp;&nbsp;&nbsp;&nbsp;&nbsp;&nbsp;&nbsp;&nbsp;&nbsp;&nbsp;&nbsp;&nbsp;&nbsp;&nbsp;&nbsp;&nbsp;&nbsp;&nbsp;&nbsp;&nbsp;&nbsp;&nbsp;&nbsp;&nbsp;&nbsp;&nbsp;&nbsp;&nbsp;->  Parallel Seq Scan on commandes  (cost=0.00..4279.91 rows=83291 width=8)</td>\n",
       "        </tr>\n",
       "        <tr>\n",
       "            <td>&nbsp;&nbsp;&nbsp;&nbsp;&nbsp;&nbsp;&nbsp;&nbsp;->  Materialize  (cost=0.00..3145.39 rows=147159 width=0)</td>\n",
       "        </tr>\n",
       "        <tr>\n",
       "            <td>&nbsp;&nbsp;&nbsp;&nbsp;&nbsp;&nbsp;&nbsp;&nbsp;&nbsp;&nbsp;&nbsp;&nbsp;&nbsp;&nbsp;->  Seq Scan on livraisons  (cost=0.00..2409.59 rows=147159 width=0)</td>\n",
       "        </tr>\n",
       "        <tr>\n",
       "            <td>JIT:</td>\n",
       "        </tr>\n",
       "        <tr>\n",
       "            <td>&nbsp;&nbsp;Functions: 31</td>\n",
       "        </tr>\n",
       "        <tr>\n",
       "            <td>&nbsp;&nbsp;Options: Inlining true, Optimization true, Expressions true, Deforming true</td>\n",
       "        </tr>\n",
       "    </tbody>\n",
       "</table>"
      ],
      "text/plain": [
       "+--------------------------------------------------------------------------------------------------------------------+\n",
       "|                                                     QUERY PLAN                                                     |\n",
       "+--------------------------------------------------------------------------------------------------------------------+\n",
       "|                           Unique  (cost=46368.40..1543341524.16 rows=675217725 width=20)                           |\n",
       "|                      ->  Nested Loop  (cost=46368.40..1102420785.18 rows=88184147796 width=20)                     |\n",
       "|                             ->  Gather Merge  (cost=46368.40..116160.24 rows=599244 width=20)                      |\n",
       "|                                                        Workers Planned: 2                                          |\n",
       "|                                     ->  Sort  (cost=45368.38..45992.59 rows=249685 width=20)                       |\n",
       "|                                                 Sort Key: clients.nomc, produits.nomp                              |\n",
       "|                                 ->  Parallel Hash Join  (cost=9505.28..17863.93 rows=249685 width=20)              |\n",
       "|                           Hash Cond: ((clients.numc = commandes.numc) AND (concerne.datecom = commandes.datecom))  |\n",
       "|                                         ->  Hash Join  (cost=3976.00..11023.81 rows=249685 width=32)               |\n",
       "|                                                     Hash Cond: (concerne.nump = produits.nump)                     |\n",
       "|                                            ->  Hash Join  (cost=1988.00..8380.33 rows=249685 width=26)             |\n",
       "|                                                        Hash Cond: (concerne.numc = clients.numc)                   |\n",
       "|                                       ->  Parallel Seq Scan on concerne  (cost=0.00..5736.85 rows=249685 width=12) |\n",
       "|                                                  ->  Hash  (cost=1363.00..1363.00 rows=50000 width=14)             |\n",
       "|                                               ->  Seq Scan on clients  (cost=0.00..1363.00 rows=50000 width=14)    |\n",
       "|                                               ->  Hash  (cost=1363.00..1363.00 rows=50000 width=14)                |\n",
       "|                                            ->  Seq Scan on produits  (cost=0.00..1363.00 rows=50000 width=14)      |\n",
       "|                                        ->  Parallel Hash  (cost=4279.91..4279.91 rows=83291 width=8)               |\n",
       "|                                    ->  Parallel Seq Scan on commandes  (cost=0.00..4279.91 rows=83291 width=8)     |\n",
       "|                                 ->  Materialize  (cost=0.00..3145.39 rows=147159 width=0)                          |\n",
       "|                               ->  Seq Scan on livraisons  (cost=0.00..2409.59 rows=147159 width=0)                 |\n",
       "|                                                        JIT:                                                        |\n",
       "|                                                    Functions: 31                                                   |\n",
       "|                     Options: Inlining true, Optimization true, Expressions true, Deforming true                    |\n",
       "+--------------------------------------------------------------------------------------------------------------------+"
      ]
     },
     "execution_count": 85,
     "metadata": {},
     "output_type": "execute_result"
    }
   ],
   "source": [
    "%%sql\n",
    "explain -- Attention, pas de mot clé \"analyse\" ici car la requête ne termine pas !\n",
    "select distinct nomc, nomp\n",
    "from clients, produits, concerne, commandes, livraisons\n",
    "where\tclients.numC = commandes.numc\n",
    "\tand commandes.datecom = concerne.datecom\n",
    "\tand commandes.numc=concerne.numc\n",
    "\tand produits.nump=concerne.nump"
   ]
  },
  {
   "cell_type": "markdown",
   "metadata": {},
   "source": [
    "![alt text](pl5.png \"Plan\")"
   ]
  },
  {
   "cell_type": "markdown",
   "metadata": {},
   "source": [
    "Requête réécrite pour optimisation\n",
    "Pour améliorer la requête, plusieurs actions peuvent être prises :\n",
    "Utiliser la syntaxe explicite JOIN pour réduire le risque d’un produit cartésien.\n",
    "Éliminer les combinaisons inutiles en ne joignant que les tables réellement nécessaires.\n",
    "Ajouter des index sur les colonnes de jointure si cela n’a pas encore été fait.\n",
    "Retarder l’application de DISTINCT en réduisant au maximum les données intermédiaires."
   ]
  },
  {
   "cell_type": "code",
   "execution_count": 87,
   "metadata": {},
   "outputs": [
    {
     "data": {
      "text/html": [
       "<span style=\"None\">Running query in &#x27;pg&#x27;</span>"
      ],
      "text/plain": [
       "Running query in 'pg'"
      ]
     },
     "metadata": {},
     "output_type": "display_data"
    },
    {
     "data": {
      "text/html": [
       "<span style=\"color: green\">16 rows affected.</span>"
      ],
      "text/plain": [
       "16 rows affected."
      ]
     },
     "metadata": {},
     "output_type": "display_data"
    },
    {
     "data": {
      "text/html": [
       "<table>\n",
       "    <thead>\n",
       "        <tr>\n",
       "            <th>QUERY PLAN</th>\n",
       "        </tr>\n",
       "    </thead>\n",
       "    <tbody>\n",
       "        <tr>\n",
       "            <td>HashAggregate  (cost=78429.91..91444.74 rows=599244 width=20)</td>\n",
       "        </tr>\n",
       "        <tr>\n",
       "            <td>&nbsp;&nbsp;Group Key: cl.nomc, pr.nomp</td>\n",
       "        </tr>\n",
       "        <tr>\n",
       "            <td>&nbsp;&nbsp;Planned Partitions: 16</td>\n",
       "        </tr>\n",
       "        <tr>\n",
       "            <td>&nbsp;&nbsp;->  Hash Join  (cost=13201.48..35359.24 rows=599244 width=20)</td>\n",
       "        </tr>\n",
       "        <tr>\n",
       "            <td>&nbsp;&nbsp;&nbsp;&nbsp;&nbsp;&nbsp;&nbsp;&nbsp;Hash Cond: (cn.nump = pr.nump)</td>\n",
       "        </tr>\n",
       "        <tr>\n",
       "            <td>&nbsp;&nbsp;&nbsp;&nbsp;&nbsp;&nbsp;&nbsp;&nbsp;->  Hash Join  (cost=11213.48..31798.10 rows=599244 width=14)</td>\n",
       "        </tr>\n",
       "        <tr>\n",
       "            <td>&nbsp;&nbsp;&nbsp;&nbsp;&nbsp;&nbsp;&nbsp;&nbsp;&nbsp;&nbsp;&nbsp;&nbsp;&nbsp;&nbsp;Hash Cond: (co.numc = cl.numc)</td>\n",
       "        </tr>\n",
       "        <tr>\n",
       "            <td>&nbsp;&nbsp;&nbsp;&nbsp;&nbsp;&nbsp;&nbsp;&nbsp;&nbsp;&nbsp;&nbsp;&nbsp;&nbsp;&nbsp;->  Hash Join  (cost=9225.48..28236.95 rows=599244 width=12)</td>\n",
       "        </tr>\n",
       "        <tr>\n",
       "            <td>&nbsp;&nbsp;&nbsp;&nbsp;&nbsp;&nbsp;&nbsp;&nbsp;&nbsp;&nbsp;&nbsp;&nbsp;&nbsp;&nbsp;&nbsp;&nbsp;&nbsp;&nbsp;&nbsp;&nbsp;Hash Cond: ((cn.numc = co.numc) AND (cn.datecom = co.datecom))</td>\n",
       "        </tr>\n",
       "        <tr>\n",
       "            <td>&nbsp;&nbsp;&nbsp;&nbsp;&nbsp;&nbsp;&nbsp;&nbsp;&nbsp;&nbsp;&nbsp;&nbsp;&nbsp;&nbsp;&nbsp;&nbsp;&nbsp;&nbsp;&nbsp;&nbsp;->  Seq Scan on concerne cn  (cost=0.00..9232.44 rows=599244 width=12)</td>\n",
       "        </tr>\n",
       "        <tr>\n",
       "            <td>&nbsp;&nbsp;&nbsp;&nbsp;&nbsp;&nbsp;&nbsp;&nbsp;&nbsp;&nbsp;&nbsp;&nbsp;&nbsp;&nbsp;&nbsp;&nbsp;&nbsp;&nbsp;&nbsp;&nbsp;->  Hash  (cost=5445.99..5445.99 rows=199899 width=8)</td>\n",
       "        </tr>\n",
       "        <tr>\n",
       "            <td>&nbsp;&nbsp;&nbsp;&nbsp;&nbsp;&nbsp;&nbsp;&nbsp;&nbsp;&nbsp;&nbsp;&nbsp;&nbsp;&nbsp;&nbsp;&nbsp;&nbsp;&nbsp;&nbsp;&nbsp;&nbsp;&nbsp;&nbsp;&nbsp;&nbsp;&nbsp;->  Seq Scan on commandes co  (cost=0.00..5445.99 rows=199899 width=8)</td>\n",
       "        </tr>\n",
       "        <tr>\n",
       "            <td>&nbsp;&nbsp;&nbsp;&nbsp;&nbsp;&nbsp;&nbsp;&nbsp;&nbsp;&nbsp;&nbsp;&nbsp;&nbsp;&nbsp;->  Hash  (cost=1363.00..1363.00 rows=50000 width=14)</td>\n",
       "        </tr>\n",
       "        <tr>\n",
       "            <td>&nbsp;&nbsp;&nbsp;&nbsp;&nbsp;&nbsp;&nbsp;&nbsp;&nbsp;&nbsp;&nbsp;&nbsp;&nbsp;&nbsp;&nbsp;&nbsp;&nbsp;&nbsp;&nbsp;&nbsp;->  Seq Scan on clients cl  (cost=0.00..1363.00 rows=50000 width=14)</td>\n",
       "        </tr>\n",
       "        <tr>\n",
       "            <td>&nbsp;&nbsp;&nbsp;&nbsp;&nbsp;&nbsp;&nbsp;&nbsp;->  Hash  (cost=1363.00..1363.00 rows=50000 width=14)</td>\n",
       "        </tr>\n",
       "        <tr>\n",
       "            <td>&nbsp;&nbsp;&nbsp;&nbsp;&nbsp;&nbsp;&nbsp;&nbsp;&nbsp;&nbsp;&nbsp;&nbsp;&nbsp;&nbsp;->  Seq Scan on produits pr  (cost=0.00..1363.00 rows=50000 width=14)</td>\n",
       "        </tr>\n",
       "    </tbody>\n",
       "</table>"
      ],
      "text/plain": [
       "+--------------------------------------------------------------------------------------------------+\n",
       "|                                            QUERY PLAN                                            |\n",
       "+--------------------------------------------------------------------------------------------------+\n",
       "|                  HashAggregate  (cost=78429.91..91444.74 rows=599244 width=20)                   |\n",
       "|                                    Group Key: cl.nomc, pr.nomp                                   |\n",
       "|                                       Planned Partitions: 16                                     |\n",
       "|                   ->  Hash Join  (cost=13201.48..35359.24 rows=599244 width=20)                  |\n",
       "|                                      Hash Cond: (cn.nump = pr.nump)                              |\n",
       "|                      ->  Hash Join  (cost=11213.48..31798.10 rows=599244 width=14)               |\n",
       "|                                         Hash Cond: (co.numc = cl.numc)                           |\n",
       "|                          ->  Hash Join  (cost=9225.48..28236.95 rows=599244 width=12)            |\n",
       "|                            Hash Cond: ((cn.numc = co.numc) AND (cn.datecom = co.datecom))        |\n",
       "|                        ->  Seq Scan on concerne cn  (cost=0.00..9232.44 rows=599244 width=12)    |\n",
       "|                                ->  Hash  (cost=5445.99..5445.99 rows=199899 width=8)             |\n",
       "|                           ->  Seq Scan on commandes co  (cost=0.00..5445.99 rows=199899 width=8) |\n",
       "|                             ->  Hash  (cost=1363.00..1363.00 rows=50000 width=14)                |\n",
       "|                         ->  Seq Scan on clients cl  (cost=0.00..1363.00 rows=50000 width=14)     |\n",
       "|                          ->  Hash  (cost=1363.00..1363.00 rows=50000 width=14)                   |\n",
       "|                     ->  Seq Scan on produits pr  (cost=0.00..1363.00 rows=50000 width=14)        |\n",
       "+--------------------------------------------------------------------------------------------------+"
      ]
     },
     "execution_count": 87,
     "metadata": {},
     "output_type": "execute_result"
    }
   ],
   "source": [
    "%%sql\n",
    "explain -- Attention, pas de mot clé \"analyse\" ici car la requête ne termine pas !\n",
    "SELECT DISTINCT cl.nomc, pr.nomp\n",
    "FROM optimisation.clients cl\n",
    "JOIN optimisation.commandes co ON cl.numc = co.numc\n",
    "JOIN optimisation.concerne cn ON co.numc = cn.numc AND co.datecom = cn.datecom\n",
    "JOIN optimisation.produits pr ON cn.nump = pr.nump;"
   ]
  },
  {
   "cell_type": "markdown",
   "metadata": {},
   "source": [
    "![alt text](pl6.png \"Plan\")"
   ]
  },
  {
   "cell_type": "code",
   "execution_count": 88,
   "metadata": {},
   "outputs": [],
   "source": [
    "%config SqlMagic.autocommit = False #commit automatique après chaque requête"
   ]
  },
  {
   "cell_type": "code",
   "execution_count": 119,
   "metadata": {},
   "outputs": [
    {
     "data": {
      "text/html": [
       "<span style=\"None\">Running query in &#x27;pg&#x27;</span>"
      ],
      "text/plain": [
       "Running query in 'pg'"
      ]
     },
     "metadata": {},
     "output_type": "display_data"
    },
    {
     "data": {
      "text/html": [
       "<span style=\"color: green\">4 rows affected.</span>"
      ],
      "text/plain": [
       "4 rows affected."
      ]
     },
     "metadata": {},
     "output_type": "display_data"
    },
    {
     "data": {
      "text/html": [
       "<table>\n",
       "    <thead>\n",
       "        <tr>\n",
       "            <th>QUERY PLAN</th>\n",
       "        </tr>\n",
       "    </thead>\n",
       "    <tbody>\n",
       "        <tr>\n",
       "            <td>Index Scan using commandes_pkey on commandes  (cost=0.42..8.44 rows=1 width=105) (actual time=0.020..0.020 rows=0 loops=1)</td>\n",
       "        </tr>\n",
       "        <tr>\n",
       "            <td>&nbsp;&nbsp;Index Cond: ((datecom = '2020-03-31'::date) AND (numc = 109000))</td>\n",
       "        </tr>\n",
       "        <tr>\n",
       "            <td>Planning Time: 0.183 ms</td>\n",
       "        </tr>\n",
       "        <tr>\n",
       "            <td>Execution Time: 0.039 ms</td>\n",
       "        </tr>\n",
       "    </tbody>\n",
       "</table>"
      ],
      "text/plain": [
       "+----------------------------------------------------------------------------------------------------------------------------+\n",
       "|                                                         QUERY PLAN                                                         |\n",
       "+----------------------------------------------------------------------------------------------------------------------------+\n",
       "| Index Scan using commandes_pkey on commandes  (cost=0.42..8.44 rows=1 width=105) (actual time=0.020..0.020 rows=0 loops=1) |\n",
       "|                               Index Cond: ((datecom = '2020-03-31'::date) AND (numc = 109000))                             |\n",
       "|                                                  Planning Time: 0.183 ms                                                   |\n",
       "|                                                  Execution Time: 0.039 ms                                                  |\n",
       "+----------------------------------------------------------------------------------------------------------------------------+"
      ]
     },
     "execution_count": 119,
     "metadata": {},
     "output_type": "execute_result"
    }
   ],
   "source": [
    "%%sql\n",
    "Explain analyse\n",
    "Select *\n",
    "from commandes\n",
    "where\tnumC='109000' and datecom='2020-03-31';"
   ]
  },
  {
   "cell_type": "code",
   "execution_count": 117,
   "metadata": {},
   "outputs": [
    {
     "data": {
      "text/html": [
       "<span style=\"None\">Running query in &#x27;pg&#x27;</span>"
      ],
      "text/plain": [
       "Running query in 'pg'"
      ]
     },
     "metadata": {},
     "output_type": "display_data"
    },
    {
     "data": {
      "text/html": [
       "<span style=\"color: green\">4 rows affected.</span>"
      ],
      "text/plain": [
       "4 rows affected."
      ]
     },
     "metadata": {},
     "output_type": "display_data"
    },
    {
     "data": {
      "text/html": [
       "<table>\n",
       "    <thead>\n",
       "        <tr>\n",
       "            <th>QUERY PLAN</th>\n",
       "        </tr>\n",
       "    </thead>\n",
       "    <tbody>\n",
       "        <tr>\n",
       "            <td>Index Scan using idx_clients_numc on commandes  (cost=0.42..8.44 rows=1 width=105) (actual time=0.013..0.013 rows=0 loops=1)</td>\n",
       "        </tr>\n",
       "        <tr>\n",
       "            <td>&nbsp;&nbsp;Index Cond: ((numc = 109000) AND (datecom = '2020-03-31'::date))</td>\n",
       "        </tr>\n",
       "        <tr>\n",
       "            <td>Planning Time: 0.112 ms</td>\n",
       "        </tr>\n",
       "        <tr>\n",
       "            <td>Execution Time: 0.022 ms</td>\n",
       "        </tr>\n",
       "    </tbody>\n",
       "</table>"
      ],
      "text/plain": [
       "+------------------------------------------------------------------------------------------------------------------------------+\n",
       "|                                                          QUERY PLAN                                                          |\n",
       "+------------------------------------------------------------------------------------------------------------------------------+\n",
       "| Index Scan using idx_clients_numc on commandes  (cost=0.42..8.44 rows=1 width=105) (actual time=0.013..0.013 rows=0 loops=1) |\n",
       "|                                Index Cond: ((numc = 109000) AND (datecom = '2020-03-31'::date))                              |\n",
       "|                                                   Planning Time: 0.112 ms                                                    |\n",
       "|                                                   Execution Time: 0.022 ms                                                   |\n",
       "+------------------------------------------------------------------------------------------------------------------------------+"
      ]
     },
     "execution_count": 117,
     "metadata": {},
     "output_type": "execute_result"
    }
   ],
   "source": [
    "%%sql\n",
    "\n",
    "begin;\n",
    "  CREATE UNIQUE INDEX idx_clients_numc ON commandes(numc,datecom);\n",
    "\n",
    "Explain analyse\n",
    "Select *\n",
    "from commandes\n",
    "where\tnumC='109000' and datecom='2020-03-31';\n",
    "\n",
    "\n",
    "\n"
   ]
  },
  {
   "cell_type": "code",
   "execution_count": 118,
   "metadata": {},
   "outputs": [
    {
     "data": {
      "text/html": [
       "<span style=\"None\">Running query in &#x27;pg&#x27;</span>"
      ],
      "text/plain": [
       "Running query in 'pg'"
      ]
     },
     "metadata": {},
     "output_type": "display_data"
    },
    {
     "data": {
      "text/html": [
       "<table>\n",
       "    <thead>\n",
       "        <tr>\n",
       "        </tr>\n",
       "    </thead>\n",
       "    <tbody>\n",
       "    </tbody>\n",
       "</table>"
      ],
      "text/plain": [
       "++\n",
       "||\n",
       "++\n",
       "++"
      ]
     },
     "execution_count": 118,
     "metadata": {},
     "output_type": "execute_result"
    }
   ],
   "source": [
    "%%sql\n",
    "rollback;"
   ]
  },
  {
   "cell_type": "code",
   "execution_count": 123,
   "metadata": {},
   "outputs": [
    {
     "data": {
      "text/html": [
       "<span style=\"None\">Running query in &#x27;pg&#x27;</span>"
      ],
      "text/plain": [
       "Running query in 'pg'"
      ]
     },
     "metadata": {},
     "output_type": "display_data"
    },
    {
     "data": {
      "text/html": [
       "<span style=\"color: green\">4 rows affected.</span>"
      ],
      "text/plain": [
       "4 rows affected."
      ]
     },
     "metadata": {},
     "output_type": "display_data"
    },
    {
     "data": {
      "text/html": [
       "<table>\n",
       "    <thead>\n",
       "        <tr>\n",
       "            <th>QUERY PLAN</th>\n",
       "        </tr>\n",
       "    </thead>\n",
       "    <tbody>\n",
       "        <tr>\n",
       "            <td>Index Scan using commandes_pkey on commandes  (cost=0.42..4131.71 rows=5 width=105) (actual time=8.514..8.516 rows=0 loops=1)</td>\n",
       "        </tr>\n",
       "        <tr>\n",
       "            <td>&nbsp;&nbsp;Index Cond: (numc = 109000)</td>\n",
       "        </tr>\n",
       "        <tr>\n",
       "            <td>Planning Time: 0.113 ms</td>\n",
       "        </tr>\n",
       "        <tr>\n",
       "            <td>Execution Time: 8.536 ms</td>\n",
       "        </tr>\n",
       "    </tbody>\n",
       "</table>"
      ],
      "text/plain": [
       "+-------------------------------------------------------------------------------------------------------------------------------+\n",
       "|                                                           QUERY PLAN                                                          |\n",
       "+-------------------------------------------------------------------------------------------------------------------------------+\n",
       "| Index Scan using commandes_pkey on commandes  (cost=0.42..4131.71 rows=5 width=105) (actual time=8.514..8.516 rows=0 loops=1) |\n",
       "|                                                   Index Cond: (numc = 109000)                                                 |\n",
       "|                                                    Planning Time: 0.113 ms                                                    |\n",
       "|                                                    Execution Time: 8.536 ms                                                   |\n",
       "+-------------------------------------------------------------------------------------------------------------------------------+"
      ]
     },
     "execution_count": 123,
     "metadata": {},
     "output_type": "execute_result"
    }
   ],
   "source": [
    "%%sql\n",
    "Explain analyse\n",
    "Select *\n",
    "from commandes\n",
    "where numC='109000';"
   ]
  },
  {
   "cell_type": "code",
   "execution_count": 124,
   "metadata": {},
   "outputs": [
    {
     "data": {
      "text/html": [
       "<span style=\"None\">Running query in &#x27;pg&#x27;</span>"
      ],
      "text/plain": [
       "Running query in 'pg'"
      ]
     },
     "metadata": {},
     "output_type": "display_data"
    },
    {
     "data": {
      "text/html": [
       "<span style=\"color: green\">6 rows affected.</span>"
      ],
      "text/plain": [
       "6 rows affected."
      ]
     },
     "metadata": {},
     "output_type": "display_data"
    },
    {
     "data": {
      "text/html": [
       "<table>\n",
       "    <thead>\n",
       "        <tr>\n",
       "            <th>QUERY PLAN</th>\n",
       "        </tr>\n",
       "    </thead>\n",
       "    <tbody>\n",
       "        <tr>\n",
       "            <td>Bitmap Heap Scan on commandes  (cost=4.46..23.95 rows=5 width=105) (actual time=0.015..0.016 rows=0 loops=1)</td>\n",
       "        </tr>\n",
       "        <tr>\n",
       "            <td>&nbsp;&nbsp;Recheck Cond: (numc = 109000)</td>\n",
       "        </tr>\n",
       "        <tr>\n",
       "            <td>&nbsp;&nbsp;->  Bitmap Index Scan on idx_clients_numc  (cost=0.00..4.46 rows=5 width=0) (actual time=0.013..0.013 rows=0 loops=1)</td>\n",
       "        </tr>\n",
       "        <tr>\n",
       "            <td>&nbsp;&nbsp;&nbsp;&nbsp;&nbsp;&nbsp;&nbsp;&nbsp;Index Cond: (numc = 109000)</td>\n",
       "        </tr>\n",
       "        <tr>\n",
       "            <td>Planning Time: 0.101 ms</td>\n",
       "        </tr>\n",
       "        <tr>\n",
       "            <td>Execution Time: 0.025 ms</td>\n",
       "        </tr>\n",
       "    </tbody>\n",
       "</table>"
      ],
      "text/plain": [
       "+-------------------------------------------------------------------------------------------------------------------------+\n",
       "|                                                        QUERY PLAN                                                       |\n",
       "+-------------------------------------------------------------------------------------------------------------------------+\n",
       "|       Bitmap Heap Scan on commandes  (cost=4.46..23.95 rows=5 width=105) (actual time=0.015..0.016 rows=0 loops=1)      |\n",
       "|                                               Recheck Cond: (numc = 109000)                                             |\n",
       "|   ->  Bitmap Index Scan on idx_clients_numc  (cost=0.00..4.46 rows=5 width=0) (actual time=0.013..0.013 rows=0 loops=1) |\n",
       "|                                                   Index Cond: (numc = 109000)                                           |\n",
       "|                                                 Planning Time: 0.101 ms                                                 |\n",
       "|                                                 Execution Time: 0.025 ms                                                |\n",
       "+-------------------------------------------------------------------------------------------------------------------------+"
      ]
     },
     "execution_count": 124,
     "metadata": {},
     "output_type": "execute_result"
    }
   ],
   "source": [
    "%%sql\n",
    "\n",
    "begin;\n",
    "  CREATE UNIQUE INDEX idx_clients_numc ON commandes(numc,datecom);\n",
    "\n",
    "Explain analyse\n",
    "Select *\n",
    "from commandes\n",
    "where numC='109000';\n",
    "\n",
    "\n",
    "\n"
   ]
  },
  {
   "cell_type": "code",
   "execution_count": 125,
   "metadata": {},
   "outputs": [
    {
     "data": {
      "text/html": [
       "<span style=\"None\">Running query in &#x27;pg&#x27;</span>"
      ],
      "text/plain": [
       "Running query in 'pg'"
      ]
     },
     "metadata": {},
     "output_type": "display_data"
    },
    {
     "data": {
      "text/html": [
       "<table>\n",
       "    <thead>\n",
       "        <tr>\n",
       "        </tr>\n",
       "    </thead>\n",
       "    <tbody>\n",
       "    </tbody>\n",
       "</table>"
      ],
      "text/plain": [
       "++\n",
       "||\n",
       "++\n",
       "++"
      ]
     },
     "execution_count": 125,
     "metadata": {},
     "output_type": "execute_result"
    }
   ],
   "source": [
    "%%sql\n",
    "rollback;"
   ]
  },
  {
   "cell_type": "code",
   "execution_count": 126,
   "metadata": {},
   "outputs": [
    {
     "data": {
      "text/html": [
       "<span style=\"None\">Running query in &#x27;pg&#x27;</span>"
      ],
      "text/plain": [
       "Running query in 'pg'"
      ]
     },
     "metadata": {},
     "output_type": "display_data"
    },
    {
     "data": {
      "text/html": [
       "<span style=\"color: green\">18 rows affected.</span>"
      ],
      "text/plain": [
       "18 rows affected."
      ]
     },
     "metadata": {},
     "output_type": "display_data"
    },
    {
     "data": {
      "text/html": [
       "<table>\n",
       "    <thead>\n",
       "        <tr>\n",
       "            <th>QUERY PLAN</th>\n",
       "        </tr>\n",
       "    </thead>\n",
       "    <tbody>\n",
       "        <tr>\n",
       "            <td>Gather  (cost=1012.36..7409.94 rows=24 width=10) (actual time=5.475..20.692 rows=29 loops=1)</td>\n",
       "        </tr>\n",
       "        <tr>\n",
       "            <td>&nbsp;&nbsp;Workers Planned: 2</td>\n",
       "        </tr>\n",
       "        <tr>\n",
       "            <td>&nbsp;&nbsp;Workers Launched: 2</td>\n",
       "        </tr>\n",
       "        <tr>\n",
       "            <td>&nbsp;&nbsp;->  Nested Loop  (cost=12.36..6407.54 rows=10 width=10) (actual time=2.845..13.627 rows=10 loops=3)</td>\n",
       "        </tr>\n",
       "        <tr>\n",
       "            <td>&nbsp;&nbsp;&nbsp;&nbsp;&nbsp;&nbsp;&nbsp;&nbsp;->  Hash Join  (cost=12.07..6404.40 rows=10 width=4) (actual time=2.835..13.590 rows=10 loops=3)</td>\n",
       "        </tr>\n",
       "        <tr>\n",
       "            <td>&nbsp;&nbsp;&nbsp;&nbsp;&nbsp;&nbsp;&nbsp;&nbsp;&nbsp;&nbsp;&nbsp;&nbsp;&nbsp;&nbsp;Hash Cond: (co.numc = c.numc)</td>\n",
       "        </tr>\n",
       "        <tr>\n",
       "            <td>&nbsp;&nbsp;&nbsp;&nbsp;&nbsp;&nbsp;&nbsp;&nbsp;&nbsp;&nbsp;&nbsp;&nbsp;&nbsp;&nbsp;->  Parallel Seq Scan on concerne co  (cost=0.00..5736.85 rows=249685 width=8) (actual time=0.007..6.303 rows=199748 loops=3)</td>\n",
       "        </tr>\n",
       "        <tr>\n",
       "            <td>&nbsp;&nbsp;&nbsp;&nbsp;&nbsp;&nbsp;&nbsp;&nbsp;&nbsp;&nbsp;&nbsp;&nbsp;&nbsp;&nbsp;->  Hash  (cost=12.04..12.04 rows=2 width=4) (actual time=0.024..0.025 rows=2 loops=3)</td>\n",
       "        </tr>\n",
       "        <tr>\n",
       "            <td>&nbsp;&nbsp;&nbsp;&nbsp;&nbsp;&nbsp;&nbsp;&nbsp;&nbsp;&nbsp;&nbsp;&nbsp;&nbsp;&nbsp;&nbsp;&nbsp;&nbsp;&nbsp;&nbsp;&nbsp;Buckets: 1024  Batches: 1  Memory Usage: 9kB</td>\n",
       "        </tr>\n",
       "        <tr>\n",
       "            <td>&nbsp;&nbsp;&nbsp;&nbsp;&nbsp;&nbsp;&nbsp;&nbsp;&nbsp;&nbsp;&nbsp;&nbsp;&nbsp;&nbsp;&nbsp;&nbsp;&nbsp;&nbsp;&nbsp;&nbsp;->  Bitmap Heap Scan on clients c  (cost=4.31..12.04 rows=2 width=4) (actual time=0.018..0.022 rows=2 loops=3)</td>\n",
       "        </tr>\n",
       "        <tr>\n",
       "            <td>&nbsp;&nbsp;&nbsp;&nbsp;&nbsp;&nbsp;&nbsp;&nbsp;&nbsp;&nbsp;&nbsp;&nbsp;&nbsp;&nbsp;&nbsp;&nbsp;&nbsp;&nbsp;&nbsp;&nbsp;&nbsp;&nbsp;&nbsp;&nbsp;&nbsp;&nbsp;Recheck Cond: ((nomc)::text = 'nomc_1287'::text)</td>\n",
       "        </tr>\n",
       "        <tr>\n",
       "            <td>&nbsp;&nbsp;&nbsp;&nbsp;&nbsp;&nbsp;&nbsp;&nbsp;&nbsp;&nbsp;&nbsp;&nbsp;&nbsp;&nbsp;&nbsp;&nbsp;&nbsp;&nbsp;&nbsp;&nbsp;&nbsp;&nbsp;&nbsp;&nbsp;&nbsp;&nbsp;Heap Blocks: exact=2</td>\n",
       "        </tr>\n",
       "        <tr>\n",
       "            <td>&nbsp;&nbsp;&nbsp;&nbsp;&nbsp;&nbsp;&nbsp;&nbsp;&nbsp;&nbsp;&nbsp;&nbsp;&nbsp;&nbsp;&nbsp;&nbsp;&nbsp;&nbsp;&nbsp;&nbsp;&nbsp;&nbsp;&nbsp;&nbsp;&nbsp;&nbsp;->  Bitmap Index Scan on idx_clients_nomc  (cost=0.00..4.30 rows=2 width=0) (actual time=0.013..0.013 rows=2 loops=3)</td>\n",
       "        </tr>\n",
       "        <tr>\n",
       "            <td>&nbsp;&nbsp;&nbsp;&nbsp;&nbsp;&nbsp;&nbsp;&nbsp;&nbsp;&nbsp;&nbsp;&nbsp;&nbsp;&nbsp;&nbsp;&nbsp;&nbsp;&nbsp;&nbsp;&nbsp;&nbsp;&nbsp;&nbsp;&nbsp;&nbsp;&nbsp;&nbsp;&nbsp;&nbsp;&nbsp;&nbsp;&nbsp;Index Cond: ((nomc)::text = 'nomc_1287'::text)</td>\n",
       "        </tr>\n",
       "        <tr>\n",
       "            <td>&nbsp;&nbsp;&nbsp;&nbsp;&nbsp;&nbsp;&nbsp;&nbsp;->  Index Scan using produits_pkey on produits p  (cost=0.29..0.31 rows=1 width=14) (actual time=0.003..0.003 rows=1 loops=29)</td>\n",
       "        </tr>\n",
       "        <tr>\n",
       "            <td>&nbsp;&nbsp;&nbsp;&nbsp;&nbsp;&nbsp;&nbsp;&nbsp;&nbsp;&nbsp;&nbsp;&nbsp;&nbsp;&nbsp;Index Cond: (nump = co.nump)</td>\n",
       "        </tr>\n",
       "        <tr>\n",
       "            <td>Planning Time: 0.286 ms</td>\n",
       "        </tr>\n",
       "        <tr>\n",
       "            <td>Execution Time: 20.709 ms</td>\n",
       "        </tr>\n",
       "    </tbody>\n",
       "</table>"
      ],
      "text/plain": [
       "+-------------------------------------------------------------------------------------------------------------------------------------------------+\n",
       "|                                                                    QUERY PLAN                                                                   |\n",
       "+-------------------------------------------------------------------------------------------------------------------------------------------------+\n",
       "|                           Gather  (cost=1012.36..7409.94 rows=24 width=10) (actual time=5.475..20.692 rows=29 loops=1)                          |\n",
       "|                                                                 Workers Planned: 2                                                              |\n",
       "|                                                                Workers Launched: 2                                                              |\n",
       "|                        ->  Nested Loop  (cost=12.36..6407.54 rows=10 width=10) (actual time=2.845..13.627 rows=10 loops=3)                      |\n",
       "|                             ->  Hash Join  (cost=12.07..6404.40 rows=10 width=4) (actual time=2.835..13.590 rows=10 loops=3)                    |\n",
       "|                                                                 Hash Cond: (co.numc = c.numc)                                                   |\n",
       "|                 ->  Parallel Seq Scan on concerne co  (cost=0.00..5736.85 rows=249685 width=8) (actual time=0.007..6.303 rows=199748 loops=3)   |\n",
       "|                                     ->  Hash  (cost=12.04..12.04 rows=2 width=4) (actual time=0.024..0.025 rows=2 loops=3)                      |\n",
       "|                                                             Buckets: 1024  Batches: 1  Memory Usage: 9kB                                        |\n",
       "|                            ->  Bitmap Heap Scan on clients c  (cost=4.31..12.04 rows=2 width=4) (actual time=0.018..0.022 rows=2 loops=3)       |\n",
       "|                                                              Recheck Cond: ((nomc)::text = 'nomc_1287'::text)                                   |\n",
       "|                                                                            Heap Blocks: exact=2                                                 |\n",
       "|                           ->  Bitmap Index Scan on idx_clients_nomc  (cost=0.00..4.30 rows=2 width=0) (actual time=0.013..0.013 rows=2 loops=3) |\n",
       "|                                                                  Index Cond: ((nomc)::text = 'nomc_1287'::text)                                 |\n",
       "|              ->  Index Scan using produits_pkey on produits p  (cost=0.29..0.31 rows=1 width=14) (actual time=0.003..0.003 rows=1 loops=29)     |\n",
       "|                                                                  Index Cond: (nump = co.nump)                                                   |\n",
       "|                                                             Planning Time: 0.286 ms                                                             |\n",
       "|                                                            Execution Time: 20.709 ms                                                            |\n",
       "+-------------------------------------------------------------------------------------------------------------------------------------------------+"
      ]
     },
     "execution_count": 126,
     "metadata": {},
     "output_type": "execute_result"
    }
   ],
   "source": [
    "%%sql\n",
    "\n",
    "begin;\n",
    "  CREATE INDEX idx_concerne_nump_numc ON optimisation.concerne(nump, numc);\n",
    "  CREATE INDEX idx_clients_nomc ON optimisation.clients(nomc);\n",
    "\n",
    "\n",
    "EXPLAIN ANALYZE\n",
    "SELECT nomp\n",
    "FROM optimisation.produits p\n",
    "JOIN optimisation.concerne co USING(nump)\n",
    "JOIN optimisation.clients c USING(numc)\n",
    "WHERE c.nomc = 'nomc_1287';\n"
   ]
  },
  {
   "cell_type": "code",
   "execution_count": 127,
   "metadata": {},
   "outputs": [
    {
     "data": {
      "text/html": [
       "<span style=\"None\">Running query in &#x27;pg&#x27;</span>"
      ],
      "text/plain": [
       "Running query in 'pg'"
      ]
     },
     "metadata": {},
     "output_type": "display_data"
    },
    {
     "data": {
      "text/html": [
       "<table>\n",
       "    <thead>\n",
       "        <tr>\n",
       "        </tr>\n",
       "    </thead>\n",
       "    <tbody>\n",
       "    </tbody>\n",
       "</table>"
      ],
      "text/plain": [
       "++\n",
       "||\n",
       "++\n",
       "++"
      ]
     },
     "execution_count": 127,
     "metadata": {},
     "output_type": "execute_result"
    }
   ],
   "source": [
    "%%sql\n",
    "rollback;"
   ]
  },
  {
   "cell_type": "code",
   "execution_count": 128,
   "metadata": {},
   "outputs": [
    {
     "data": {
      "text/html": [
       "<span style=\"None\">Running query in &#x27;pg&#x27;</span>"
      ],
      "text/plain": [
       "Running query in 'pg'"
      ]
     },
     "metadata": {},
     "output_type": "display_data"
    },
    {
     "data": {
      "text/html": [
       "<span style=\"color: green\">12 rows affected.</span>"
      ],
      "text/plain": [
       "12 rows affected."
      ]
     },
     "metadata": {},
     "output_type": "display_data"
    },
    {
     "data": {
      "text/html": [
       "<table>\n",
       "    <thead>\n",
       "        <tr>\n",
       "            <th>QUERY PLAN</th>\n",
       "        </tr>\n",
       "    </thead>\n",
       "    <tbody>\n",
       "        <tr>\n",
       "            <td>Index Only Scan using clients_pkey on clients  (cost=2777.78..4208.78 rows=25000 width=4) (actual time=41.819..49.727 rows=9467 loops=1)</td>\n",
       "        </tr>\n",
       "        <tr>\n",
       "            <td>&nbsp;&nbsp;Filter: (NOT (ANY (numc = (hashed SubPlan 1).col1)))</td>\n",
       "        </tr>\n",
       "        <tr>\n",
       "            <td>&nbsp;&nbsp;Rows Removed by Filter: 40533</td>\n",
       "        </tr>\n",
       "        <tr>\n",
       "            <td>&nbsp;&nbsp;Heap Fetches: 0</td>\n",
       "        </tr>\n",
       "        <tr>\n",
       "            <td>&nbsp;&nbsp;Buffers: shared hit=1077</td>\n",
       "        </tr>\n",
       "        <tr>\n",
       "            <td>&nbsp;&nbsp;SubPlan 1</td>\n",
       "        </tr>\n",
       "        <tr>\n",
       "            <td>&nbsp;&nbsp;&nbsp;&nbsp;->  Seq Scan on livraisons  (cost=0.00..2409.59 rows=147159 width=4) (actual time=0.008..12.638 rows=147159 loops=1)</td>\n",
       "        </tr>\n",
       "        <tr>\n",
       "            <td>&nbsp;&nbsp;&nbsp;&nbsp;&nbsp;&nbsp;&nbsp;&nbsp;&nbsp;&nbsp;Buffers: shared hit=938</td>\n",
       "        </tr>\n",
       "        <tr>\n",
       "            <td>Planning:</td>\n",
       "        </tr>\n",
       "        <tr>\n",
       "            <td>&nbsp;&nbsp;Buffers: shared hit=13 dirtied=1</td>\n",
       "        </tr>\n",
       "        <tr>\n",
       "            <td>Planning Time: 0.238 ms</td>\n",
       "        </tr>\n",
       "        <tr>\n",
       "            <td>Execution Time: 50.027 ms</td>\n",
       "        </tr>\n",
       "    </tbody>\n",
       "</table>"
      ],
      "text/plain": [
       "+------------------------------------------------------------------------------------------------------------------------------------------+\n",
       "|                                                                QUERY PLAN                                                                |\n",
       "+------------------------------------------------------------------------------------------------------------------------------------------+\n",
       "| Index Only Scan using clients_pkey on clients  (cost=2777.78..4208.78 rows=25000 width=4) (actual time=41.819..49.727 rows=9467 loops=1) |\n",
       "|                                            Filter: (NOT (ANY (numc = (hashed SubPlan 1).col1)))                                          |\n",
       "|                                                       Rows Removed by Filter: 40533                                                      |\n",
       "|                                                              Heap Fetches: 0                                                             |\n",
       "|                                                          Buffers: shared hit=1077                                                        |\n",
       "|                                                                 SubPlan 1                                                                |\n",
       "|             ->  Seq Scan on livraisons  (cost=0.00..2409.59 rows=147159 width=4) (actual time=0.008..12.638 rows=147159 loops=1)         |\n",
       "|                                                              Buffers: shared hit=938                                                     |\n",
       "|                                                                Planning:                                                                 |\n",
       "|                                                      Buffers: shared hit=13 dirtied=1                                                    |\n",
       "|                                                         Planning Time: 0.238 ms                                                          |\n",
       "|                                                        Execution Time: 50.027 ms                                                         |\n",
       "+------------------------------------------------------------------------------------------------------------------------------------------+"
      ]
     },
     "execution_count": 128,
     "metadata": {},
     "output_type": "execute_result"
    }
   ],
   "source": [
    "%%sql\n",
    "EXPLAIN (analyse,buffers) \n",
    "Select numc\n",
    "  from clients \n",
    "  where numc not in (select numc from livraisons); "
   ]
  },
  {
   "cell_type": "code",
   "execution_count": 129,
   "metadata": {},
   "outputs": [
    {
     "data": {
      "text/html": [
       "<span style=\"None\">Running query in &#x27;pg&#x27;</span>"
      ],
      "text/plain": [
       "Running query in 'pg'"
      ]
     },
     "metadata": {},
     "output_type": "display_data"
    },
    {
     "data": {
      "text/html": [
       "<span style=\"color: green\">15 rows affected.</span>"
      ],
      "text/plain": [
       "15 rows affected."
      ]
     },
     "metadata": {},
     "output_type": "display_data"
    },
    {
     "data": {
      "text/html": [
       "<table>\n",
       "    <thead>\n",
       "        <tr>\n",
       "            <th>QUERY PLAN</th>\n",
       "        </tr>\n",
       "    </thead>\n",
       "    <tbody>\n",
       "        <tr>\n",
       "            <td>HashSetOp Except  (cost=0.29..7166.16 rows=50000 width=8) (actual time=71.474..72.287 rows=9467 loops=1)</td>\n",
       "        </tr>\n",
       "        <tr>\n",
       "            <td>&nbsp;&nbsp;Buffers: shared hit=1077</td>\n",
       "        </tr>\n",
       "        <tr>\n",
       "            <td>&nbsp;&nbsp;->  Append  (cost=0.29..6673.27 rows=197159 width=8) (actual time=0.030..44.094 rows=197159 loops=1)</td>\n",
       "        </tr>\n",
       "        <tr>\n",
       "            <td>&nbsp;&nbsp;&nbsp;&nbsp;&nbsp;&nbsp;&nbsp;&nbsp;Buffers: shared hit=1077</td>\n",
       "        </tr>\n",
       "        <tr>\n",
       "            <td>&nbsp;&nbsp;&nbsp;&nbsp;&nbsp;&nbsp;&nbsp;&nbsp;->  Subquery Scan on \"*SELECT* 1\"  (cost=0.29..1806.29 rows=50000 width=8) (actual time=0.030..11.830 rows=50000 loops=1)</td>\n",
       "        </tr>\n",
       "        <tr>\n",
       "            <td>&nbsp;&nbsp;&nbsp;&nbsp;&nbsp;&nbsp;&nbsp;&nbsp;&nbsp;&nbsp;&nbsp;&nbsp;&nbsp;&nbsp;Buffers: shared hit=139</td>\n",
       "        </tr>\n",
       "        <tr>\n",
       "            <td>&nbsp;&nbsp;&nbsp;&nbsp;&nbsp;&nbsp;&nbsp;&nbsp;&nbsp;&nbsp;&nbsp;&nbsp;&nbsp;&nbsp;->  Index Only Scan using clients_pkey on clients  (cost=0.29..1306.29 rows=50000 width=4) (actual time=0.028..5.811 rows=50000 loops=1)</td>\n",
       "        </tr>\n",
       "        <tr>\n",
       "            <td>&nbsp;&nbsp;&nbsp;&nbsp;&nbsp;&nbsp;&nbsp;&nbsp;&nbsp;&nbsp;&nbsp;&nbsp;&nbsp;&nbsp;&nbsp;&nbsp;&nbsp;&nbsp;&nbsp;&nbsp;Heap Fetches: 0</td>\n",
       "        </tr>\n",
       "        <tr>\n",
       "            <td>&nbsp;&nbsp;&nbsp;&nbsp;&nbsp;&nbsp;&nbsp;&nbsp;&nbsp;&nbsp;&nbsp;&nbsp;&nbsp;&nbsp;&nbsp;&nbsp;&nbsp;&nbsp;&nbsp;&nbsp;Buffers: shared hit=139</td>\n",
       "        </tr>\n",
       "        <tr>\n",
       "            <td>&nbsp;&nbsp;&nbsp;&nbsp;&nbsp;&nbsp;&nbsp;&nbsp;->  Subquery Scan on \"*SELECT* 2\"  (cost=0.00..3881.18 rows=147159 width=8) (actual time=0.020..19.730 rows=147159 loops=1)</td>\n",
       "        </tr>\n",
       "        <tr>\n",
       "            <td>&nbsp;&nbsp;&nbsp;&nbsp;&nbsp;&nbsp;&nbsp;&nbsp;&nbsp;&nbsp;&nbsp;&nbsp;&nbsp;&nbsp;Buffers: shared hit=938</td>\n",
       "        </tr>\n",
       "        <tr>\n",
       "            <td>&nbsp;&nbsp;&nbsp;&nbsp;&nbsp;&nbsp;&nbsp;&nbsp;&nbsp;&nbsp;&nbsp;&nbsp;&nbsp;&nbsp;->  Seq Scan on livraisons  (cost=0.00..2409.59 rows=147159 width=4) (actual time=0.019..9.592 rows=147159 loops=1)</td>\n",
       "        </tr>\n",
       "        <tr>\n",
       "            <td>&nbsp;&nbsp;&nbsp;&nbsp;&nbsp;&nbsp;&nbsp;&nbsp;&nbsp;&nbsp;&nbsp;&nbsp;&nbsp;&nbsp;&nbsp;&nbsp;&nbsp;&nbsp;&nbsp;&nbsp;Buffers: shared hit=938</td>\n",
       "        </tr>\n",
       "        <tr>\n",
       "            <td>Planning Time: 0.110 ms</td>\n",
       "        </tr>\n",
       "        <tr>\n",
       "            <td>Execution Time: 72.680 ms</td>\n",
       "        </tr>\n",
       "    </tbody>\n",
       "</table>"
      ],
      "text/plain": [
       "+--------------------------------------------------------------------------------------------------------------------------------------------------------+\n",
       "|                                                                       QUERY PLAN                                                                       |\n",
       "+--------------------------------------------------------------------------------------------------------------------------------------------------------+\n",
       "|                        HashSetOp Except  (cost=0.29..7166.16 rows=50000 width=8) (actual time=71.474..72.287 rows=9467 loops=1)                        |\n",
       "|                                                                 Buffers: shared hit=1077                                                               |\n",
       "|                           ->  Append  (cost=0.29..6673.27 rows=197159 width=8) (actual time=0.030..44.094 rows=197159 loops=1)                         |\n",
       "|                                                                    Buffers: shared hit=1077                                                            |\n",
       "|                   ->  Subquery Scan on \"*SELECT* 1\"  (cost=0.29..1806.29 rows=50000 width=8) (actual time=0.030..11.830 rows=50000 loops=1)            |\n",
       "|                                                                       Buffers: shared hit=139                                                          |\n",
       "|               ->  Index Only Scan using clients_pkey on clients  (cost=0.29..1306.29 rows=50000 width=4) (actual time=0.028..5.811 rows=50000 loops=1) |\n",
       "|                                                                              Heap Fetches: 0                                                           |\n",
       "|                                                                          Buffers: shared hit=139                                                       |\n",
       "|                  ->  Subquery Scan on \"*SELECT* 2\"  (cost=0.00..3881.18 rows=147159 width=8) (actual time=0.020..19.730 rows=147159 loops=1)           |\n",
       "|                                                                       Buffers: shared hit=938                                                          |\n",
       "|                         ->  Seq Scan on livraisons  (cost=0.00..2409.59 rows=147159 width=4) (actual time=0.019..9.592 rows=147159 loops=1)            |\n",
       "|                                                                          Buffers: shared hit=938                                                       |\n",
       "|                                                                Planning Time: 0.110 ms                                                                 |\n",
       "|                                                               Execution Time: 72.680 ms                                                                |\n",
       "+--------------------------------------------------------------------------------------------------------------------------------------------------------+"
      ]
     },
     "execution_count": 129,
     "metadata": {},
     "output_type": "execute_result"
    }
   ],
   "source": [
    "%%sql\n",
    "EXPLAIN (analyse,buffers) \n",
    " Select numc\n",
    "  from clients \n",
    "      except\n",
    "  select numc \n",
    "  from livraisons; "
   ]
  },
  {
   "cell_type": "code",
   "execution_count": 130,
   "metadata": {},
   "outputs": [
    {
     "data": {
      "text/html": [
       "<span style=\"None\">Running query in &#x27;pg&#x27;</span>"
      ],
      "text/plain": [
       "Running query in 'pg'"
      ]
     },
     "metadata": {},
     "output_type": "display_data"
    },
    {
     "data": {
      "text/html": [
       "<span style=\"color: green\">15 rows affected.</span>"
      ],
      "text/plain": [
       "15 rows affected."
      ]
     },
     "metadata": {},
     "output_type": "display_data"
    },
    {
     "data": {
      "text/html": [
       "<table>\n",
       "    <thead>\n",
       "        <tr>\n",
       "            <th>QUERY PLAN</th>\n",
       "        </tr>\n",
       "    </thead>\n",
       "    <tbody>\n",
       "        <tr>\n",
       "            <td>Hash Right Anti Join  (cost=1931.29..5796.85 rows=17331 width=4) (actual time=55.259..56.610 rows=9467 loops=1)</td>\n",
       "        </tr>\n",
       "        <tr>\n",
       "            <td>&nbsp;&nbsp;Hash Cond: (livraisons.numc = clients.numc)</td>\n",
       "        </tr>\n",
       "        <tr>\n",
       "            <td>&nbsp;&nbsp;Buffers: shared hit=1077</td>\n",
       "        </tr>\n",
       "        <tr>\n",
       "            <td>&nbsp;&nbsp;->  Seq Scan on livraisons  (cost=0.00..2409.59 rows=147159 width=4) (actual time=0.034..10.734 rows=147159 loops=1)</td>\n",
       "        </tr>\n",
       "        <tr>\n",
       "            <td>&nbsp;&nbsp;&nbsp;&nbsp;&nbsp;&nbsp;&nbsp;&nbsp;Buffers: shared hit=938</td>\n",
       "        </tr>\n",
       "        <tr>\n",
       "            <td>&nbsp;&nbsp;->  Hash  (cost=1306.29..1306.29 rows=50000 width=4) (actual time=20.770..20.771 rows=50000 loops=1)</td>\n",
       "        </tr>\n",
       "        <tr>\n",
       "            <td>&nbsp;&nbsp;&nbsp;&nbsp;&nbsp;&nbsp;&nbsp;&nbsp;Buckets: 65536  Batches: 1  Memory Usage: 2270kB</td>\n",
       "        </tr>\n",
       "        <tr>\n",
       "            <td>&nbsp;&nbsp;&nbsp;&nbsp;&nbsp;&nbsp;&nbsp;&nbsp;Buffers: shared hit=139</td>\n",
       "        </tr>\n",
       "        <tr>\n",
       "            <td>&nbsp;&nbsp;&nbsp;&nbsp;&nbsp;&nbsp;&nbsp;&nbsp;->  Index Only Scan using clients_pkey on clients  (cost=0.29..1306.29 rows=50000 width=4) (actual time=0.014..8.773 rows=50000 loops=1)</td>\n",
       "        </tr>\n",
       "        <tr>\n",
       "            <td>&nbsp;&nbsp;&nbsp;&nbsp;&nbsp;&nbsp;&nbsp;&nbsp;&nbsp;&nbsp;&nbsp;&nbsp;&nbsp;&nbsp;Heap Fetches: 0</td>\n",
       "        </tr>\n",
       "        <tr>\n",
       "            <td>&nbsp;&nbsp;&nbsp;&nbsp;&nbsp;&nbsp;&nbsp;&nbsp;&nbsp;&nbsp;&nbsp;&nbsp;&nbsp;&nbsp;Buffers: shared hit=139</td>\n",
       "        </tr>\n",
       "        <tr>\n",
       "            <td>Planning:</td>\n",
       "        </tr>\n",
       "        <tr>\n",
       "            <td>&nbsp;&nbsp;Buffers: shared hit=10</td>\n",
       "        </tr>\n",
       "        <tr>\n",
       "            <td>Planning Time: 0.236 ms</td>\n",
       "        </tr>\n",
       "        <tr>\n",
       "            <td>Execution Time: 56.967 ms</td>\n",
       "        </tr>\n",
       "    </tbody>\n",
       "</table>"
      ],
      "text/plain": [
       "+--------------------------------------------------------------------------------------------------------------------------------------------------+\n",
       "|                                                                    QUERY PLAN                                                                    |\n",
       "+--------------------------------------------------------------------------------------------------------------------------------------------------+\n",
       "|                 Hash Right Anti Join  (cost=1931.29..5796.85 rows=17331 width=4) (actual time=55.259..56.610 rows=9467 loops=1)                  |\n",
       "|                                                    Hash Cond: (livraisons.numc = clients.numc)                                                   |\n",
       "|                                                              Buffers: shared hit=1077                                                            |\n",
       "|                ->  Seq Scan on livraisons  (cost=0.00..2409.59 rows=147159 width=4) (actual time=0.034..10.734 rows=147159 loops=1)              |\n",
       "|                                                                 Buffers: shared hit=938                                                          |\n",
       "|                        ->  Hash  (cost=1306.29..1306.29 rows=50000 width=4) (actual time=20.770..20.771 rows=50000 loops=1)                      |\n",
       "|                                                     Buckets: 65536  Batches: 1  Memory Usage: 2270kB                                             |\n",
       "|                                                                 Buffers: shared hit=139                                                          |\n",
       "|         ->  Index Only Scan using clients_pkey on clients  (cost=0.29..1306.29 rows=50000 width=4) (actual time=0.014..8.773 rows=50000 loops=1) |\n",
       "|                                                                        Heap Fetches: 0                                                           |\n",
       "|                                                                    Buffers: shared hit=139                                                       |\n",
       "|                                                                    Planning:                                                                     |\n",
       "|                                                               Buffers: shared hit=10                                                             |\n",
       "|                                                             Planning Time: 0.236 ms                                                              |\n",
       "|                                                            Execution Time: 56.967 ms                                                             |\n",
       "+--------------------------------------------------------------------------------------------------------------------------------------------------+"
      ]
     },
     "execution_count": 130,
     "metadata": {},
     "output_type": "execute_result"
    }
   ],
   "source": [
    "%%sql\n",
    "EXPLAIN (analyse,buffers) \n",
    "Select numc\n",
    "  from clients \n",
    "  where not exists (select numc from livraisons\n",
    "                    where livraisons.numc=clients.numc);"
   ]
  },
  {
   "cell_type": "markdown",
   "metadata": {},
   "source": [
    "![alt text](pl11.png \"Plan\")\n",
    "![alt text](pl12.png \"Plan\")\n",
    "![alt text](pl13.png \"Plan\")"
   ]
  },
  {
   "cell_type": "code",
   "execution_count": 131,
   "metadata": {},
   "outputs": [
    {
     "data": {
      "text/html": [
       "<span style=\"None\">Running query in &#x27;pg&#x27;</span>"
      ],
      "text/plain": [
       "Running query in 'pg'"
      ]
     },
     "metadata": {},
     "output_type": "display_data"
    },
    {
     "data": {
      "text/html": [
       "<span style=\"color: green\">7 rows affected.</span>"
      ],
      "text/plain": [
       "7 rows affected."
      ]
     },
     "metadata": {},
     "output_type": "display_data"
    },
    {
     "data": {
      "text/html": [
       "<table>\n",
       "    <thead>\n",
       "        <tr>\n",
       "            <th>QUERY PLAN</th>\n",
       "        </tr>\n",
       "    </thead>\n",
       "    <tbody>\n",
       "        <tr>\n",
       "            <td>Bitmap Heap Scan on clients  (cost=6.23..555.64 rows=250 width=129) (actual time=0.019..0.019 rows=1 loops=1)</td>\n",
       "        </tr>\n",
       "        <tr>\n",
       "            <td>&nbsp;&nbsp;Recheck Cond: (upper((nomc)::text) = 'NOMC_1725'::text)</td>\n",
       "        </tr>\n",
       "        <tr>\n",
       "            <td>&nbsp;&nbsp;Heap Blocks: exact=1</td>\n",
       "        </tr>\n",
       "        <tr>\n",
       "            <td>&nbsp;&nbsp;->  Bitmap Index Scan on idx_clients_upper_nomc  (cost=0.00..6.17 rows=250 width=0) (actual time=0.009..0.009 rows=1 loops=1)</td>\n",
       "        </tr>\n",
       "        <tr>\n",
       "            <td>&nbsp;&nbsp;&nbsp;&nbsp;&nbsp;&nbsp;&nbsp;&nbsp;Index Cond: (upper((nomc)::text) = 'NOMC_1725'::text)</td>\n",
       "        </tr>\n",
       "        <tr>\n",
       "            <td>Planning Time: 0.093 ms</td>\n",
       "        </tr>\n",
       "        <tr>\n",
       "            <td>Execution Time: 0.028 ms</td>\n",
       "        </tr>\n",
       "    </tbody>\n",
       "</table>"
      ],
      "text/plain": [
       "+---------------------------------------------------------------------------------------------------------------------------------+\n",
       "|                                                            QUERY PLAN                                                           |\n",
       "+---------------------------------------------------------------------------------------------------------------------------------+\n",
       "|          Bitmap Heap Scan on clients  (cost=6.23..555.64 rows=250 width=129) (actual time=0.019..0.019 rows=1 loops=1)          |\n",
       "|                                      Recheck Cond: (upper((nomc)::text) = 'NOMC_1725'::text)                                    |\n",
       "|                                                        Heap Blocks: exact=1                                                     |\n",
       "|   ->  Bitmap Index Scan on idx_clients_upper_nomc  (cost=0.00..6.17 rows=250 width=0) (actual time=0.009..0.009 rows=1 loops=1) |\n",
       "|                                          Index Cond: (upper((nomc)::text) = 'NOMC_1725'::text)                                  |\n",
       "|                                                     Planning Time: 0.093 ms                                                     |\n",
       "|                                                     Execution Time: 0.028 ms                                                    |\n",
       "+---------------------------------------------------------------------------------------------------------------------------------+"
      ]
     },
     "execution_count": 131,
     "metadata": {},
     "output_type": "execute_result"
    }
   ],
   "source": [
    "%%sql\n",
    "\n",
    "begin;\n",
    "  CREATE INDEX idx_clients_upper_nomc ON clients (UPPER(nomc));\n",
    "\n",
    "\n",
    "\n",
    "EXPLAIN ANALYZE\n",
    "SELECT UPPER(nomc), adressec\n",
    "FROM clients\n",
    "WHERE UPPER(nomc) = 'NOMC_1725';\n",
    "\n"
   ]
  },
  {
   "cell_type": "code",
   "execution_count": 132,
   "metadata": {},
   "outputs": [
    {
     "data": {
      "text/html": [
       "<span style=\"None\">Running query in &#x27;pg&#x27;</span>"
      ],
      "text/plain": [
       "Running query in 'pg'"
      ]
     },
     "metadata": {},
     "output_type": "display_data"
    },
    {
     "data": {
      "text/html": [
       "<table>\n",
       "    <thead>\n",
       "        <tr>\n",
       "        </tr>\n",
       "    </thead>\n",
       "    <tbody>\n",
       "    </tbody>\n",
       "</table>"
      ],
      "text/plain": [
       "++\n",
       "||\n",
       "++\n",
       "++"
      ]
     },
     "execution_count": 132,
     "metadata": {},
     "output_type": "execute_result"
    }
   ],
   "source": [
    "%%sql\n",
    "rollback;"
   ]
  },
  {
   "cell_type": "code",
   "execution_count": 133,
   "metadata": {},
   "outputs": [
    {
     "data": {
      "text/html": [
       "<span style=\"None\">Running query in &#x27;pg&#x27;</span>"
      ],
      "text/plain": [
       "Running query in 'pg'"
      ]
     },
     "metadata": {},
     "output_type": "display_data"
    },
    {
     "data": {
      "text/html": [
       "<span style=\"color: green\">8 rows affected.</span>"
      ],
      "text/plain": [
       "8 rows affected."
      ]
     },
     "metadata": {},
     "output_type": "display_data"
    },
    {
     "data": {
      "text/html": [
       "<table>\n",
       "    <thead>\n",
       "        <tr>\n",
       "            <th>QUERY PLAN</th>\n",
       "        </tr>\n",
       "    </thead>\n",
       "    <tbody>\n",
       "        <tr>\n",
       "            <td>Delete on commandes  (cost=10.53..6103.60 rows=0 width=0)</td>\n",
       "        </tr>\n",
       "        <tr>\n",
       "            <td>&nbsp;&nbsp;->  Hash Semi Join  (cost=10.53..6103.60 rows=10997 width=34)</td>\n",
       "        </tr>\n",
       "        <tr>\n",
       "            <td>&nbsp;&nbsp;&nbsp;&nbsp;&nbsp;&nbsp;&nbsp;&nbsp;Hash Cond: (commandes.datecom = \"ANY_subquery\".datecom)</td>\n",
       "        </tr>\n",
       "        <tr>\n",
       "            <td>&nbsp;&nbsp;&nbsp;&nbsp;&nbsp;&nbsp;&nbsp;&nbsp;->  Seq Scan on commandes  (cost=0.00..5445.99 rows=199899 width=10)</td>\n",
       "        </tr>\n",
       "        <tr>\n",
       "            <td>&nbsp;&nbsp;&nbsp;&nbsp;&nbsp;&nbsp;&nbsp;&nbsp;->  Hash  (cost=8.03..8.03 rows=200 width=32)</td>\n",
       "        </tr>\n",
       "        <tr>\n",
       "            <td>&nbsp;&nbsp;&nbsp;&nbsp;&nbsp;&nbsp;&nbsp;&nbsp;&nbsp;&nbsp;&nbsp;&nbsp;&nbsp;&nbsp;->  Subquery Scan on \"ANY_subquery\"  (cost=0.42..8.03 rows=200 width=32)</td>\n",
       "        </tr>\n",
       "        <tr>\n",
       "            <td>&nbsp;&nbsp;&nbsp;&nbsp;&nbsp;&nbsp;&nbsp;&nbsp;&nbsp;&nbsp;&nbsp;&nbsp;&nbsp;&nbsp;&nbsp;&nbsp;&nbsp;&nbsp;&nbsp;&nbsp;->  Limit  (cost=0.42..6.03 rows=200 width=4)</td>\n",
       "        </tr>\n",
       "        <tr>\n",
       "            <td>&nbsp;&nbsp;&nbsp;&nbsp;&nbsp;&nbsp;&nbsp;&nbsp;&nbsp;&nbsp;&nbsp;&nbsp;&nbsp;&nbsp;&nbsp;&nbsp;&nbsp;&nbsp;&nbsp;&nbsp;&nbsp;&nbsp;&nbsp;&nbsp;&nbsp;&nbsp;->  Index Only Scan using commandes_pkey on commandes commandes_1  (cost=0.42..5610.90 rows=199899 width=4)</td>\n",
       "        </tr>\n",
       "    </tbody>\n",
       "</table>"
      ],
      "text/plain": [
       "+---------------------------------------------------------------------------------------------------------------------------------------+\n",
       "|                                                               QUERY PLAN                                                              |\n",
       "+---------------------------------------------------------------------------------------------------------------------------------------+\n",
       "|                                       Delete on commandes  (cost=10.53..6103.60 rows=0 width=0)                                       |\n",
       "|                                      ->  Hash Semi Join  (cost=10.53..6103.60 rows=10997 width=34)                                    |\n",
       "|                                            Hash Cond: (commandes.datecom = \"ANY_subquery\".datecom)                                    |\n",
       "|                                      ->  Seq Scan on commandes  (cost=0.00..5445.99 rows=199899 width=10)                             |\n",
       "|                                                 ->  Hash  (cost=8.03..8.03 rows=200 width=32)                                         |\n",
       "|                                       ->  Subquery Scan on \"ANY_subquery\"  (cost=0.42..8.03 rows=200 width=32)                        |\n",
       "|                                                       ->  Limit  (cost=0.42..6.03 rows=200 width=4)                                   |\n",
       "|                           ->  Index Only Scan using commandes_pkey on commandes commandes_1  (cost=0.42..5610.90 rows=199899 width=4) |\n",
       "+---------------------------------------------------------------------------------------------------------------------------------------+"
      ]
     },
     "execution_count": 133,
     "metadata": {},
     "output_type": "execute_result"
    }
   ],
   "source": [
    "%%sql\n",
    "begin;\n",
    "  explain\n",
    "  delete from commandes\n",
    "  where datecom in (  select datecom\t\n",
    "  \t\t\t\t            from commandes\n",
    "  \t\t\t            \torder by datecom\n",
    "  \t\t\t            \tlimit 200);\n",
    "  "
   ]
  },
  {
   "cell_type": "code",
   "execution_count": 134,
   "metadata": {},
   "outputs": [
    {
     "data": {
      "text/html": [
       "<span style=\"None\">Running query in &#x27;pg&#x27;</span>"
      ],
      "text/plain": [
       "Running query in 'pg'"
      ]
     },
     "metadata": {},
     "output_type": "display_data"
    },
    {
     "data": {
      "text/html": [
       "<table>\n",
       "    <thead>\n",
       "        <tr>\n",
       "        </tr>\n",
       "    </thead>\n",
       "    <tbody>\n",
       "    </tbody>\n",
       "</table>"
      ],
      "text/plain": [
       "++\n",
       "||\n",
       "++\n",
       "++"
      ]
     },
     "execution_count": 134,
     "metadata": {},
     "output_type": "execute_result"
    }
   ],
   "source": [
    "%%sql\n",
    "rollback;"
   ]
  },
  {
   "cell_type": "markdown",
   "metadata": {},
   "source": [
    "Explications des résultats\n",
    "Temps consacré à la sous-requête (SELECT) :\n",
    "Le tri de la table entière sur datecom est coûteux si la table est grande et qu’il n’y a pas d’index sur cette colonne. PostgreSQL pourrait effectuer un Seq Scan suivi d’un tri.\n",
    "Temps consacré à la suppression :\n",
    "PostgreSQL doit rechercher chaque ligne correspondant aux 200 dates extraites. Si un index n’existe pas sur datecom, cela implique un scan séquentiel pour chaque suppression.\n",
    "Coût global :\n",
    "L’absence d’index sur datecom rend l’opération plus lente, car PostgreSQL effectue des recherches répétées sans optimisation."
   ]
  },
  {
   "cell_type": "code",
   "execution_count": null,
   "metadata": {},
   "outputs": [],
   "source": [
    "%%sql\n",
    "EXPLAIN (analyse,buffers) \n",
    "SELECT DISTINCT nump, nomp FROM produits"
   ]
  },
  {
   "cell_type": "code",
   "execution_count": 135,
   "metadata": {},
   "outputs": [
    {
     "data": {
      "text/html": [
       "<span style=\"None\">Running query in &#x27;pg&#x27;</span>"
      ],
      "text/plain": [
       "Running query in 'pg'"
      ]
     },
     "metadata": {},
     "output_type": "display_data"
    },
    {
     "data": {
      "text/html": [
       "<span style=\"color: green\">8 rows affected.</span>"
      ],
      "text/plain": [
       "8 rows affected."
      ]
     },
     "metadata": {},
     "output_type": "display_data"
    },
    {
     "data": {
      "text/html": [
       "<table>\n",
       "    <thead>\n",
       "        <tr>\n",
       "            <th>QUERY PLAN</th>\n",
       "        </tr>\n",
       "    </thead>\n",
       "    <tbody>\n",
       "        <tr>\n",
       "            <td>Delete on commandes  (cost=8.49..6101.56 rows=0 width=0)</td>\n",
       "        </tr>\n",
       "        <tr>\n",
       "            <td>&nbsp;&nbsp;->  Hash Semi Join  (cost=8.49..6101.56 rows=10997 width=34)</td>\n",
       "        </tr>\n",
       "        <tr>\n",
       "            <td>&nbsp;&nbsp;&nbsp;&nbsp;&nbsp;&nbsp;&nbsp;&nbsp;Hash Cond: (commandes.datecom = \"ANY_subquery\".datecom)</td>\n",
       "        </tr>\n",
       "        <tr>\n",
       "            <td>&nbsp;&nbsp;&nbsp;&nbsp;&nbsp;&nbsp;&nbsp;&nbsp;->  Seq Scan on commandes  (cost=0.00..5445.99 rows=199899 width=10)</td>\n",
       "        </tr>\n",
       "        <tr>\n",
       "            <td>&nbsp;&nbsp;&nbsp;&nbsp;&nbsp;&nbsp;&nbsp;&nbsp;->  Hash  (cost=5.99..5.99 rows=200 width=32)</td>\n",
       "        </tr>\n",
       "        <tr>\n",
       "            <td>&nbsp;&nbsp;&nbsp;&nbsp;&nbsp;&nbsp;&nbsp;&nbsp;&nbsp;&nbsp;&nbsp;&nbsp;&nbsp;&nbsp;->  Subquery Scan on \"ANY_subquery\"  (cost=0.29..5.99 rows=200 width=32)</td>\n",
       "        </tr>\n",
       "        <tr>\n",
       "            <td>&nbsp;&nbsp;&nbsp;&nbsp;&nbsp;&nbsp;&nbsp;&nbsp;&nbsp;&nbsp;&nbsp;&nbsp;&nbsp;&nbsp;&nbsp;&nbsp;&nbsp;&nbsp;&nbsp;&nbsp;->  Limit  (cost=0.29..3.99 rows=200 width=4)</td>\n",
       "        </tr>\n",
       "        <tr>\n",
       "            <td>&nbsp;&nbsp;&nbsp;&nbsp;&nbsp;&nbsp;&nbsp;&nbsp;&nbsp;&nbsp;&nbsp;&nbsp;&nbsp;&nbsp;&nbsp;&nbsp;&nbsp;&nbsp;&nbsp;&nbsp;&nbsp;&nbsp;&nbsp;&nbsp;&nbsp;&nbsp;->  Index Only Scan using idx_commandes_datecom on commandes commandes_1  (cost=0.29..3694.78 rows=199899 width=4)</td>\n",
       "        </tr>\n",
       "    </tbody>\n",
       "</table>"
      ],
      "text/plain": [
       "+----------------------------------------------------------------------------------------------------------------------------------------------+\n",
       "|                                                                  QUERY PLAN                                                                  |\n",
       "+----------------------------------------------------------------------------------------------------------------------------------------------+\n",
       "|                                           Delete on commandes  (cost=8.49..6101.56 rows=0 width=0)                                           |\n",
       "|                                          ->  Hash Semi Join  (cost=8.49..6101.56 rows=10997 width=34)                                        |\n",
       "|                                               Hash Cond: (commandes.datecom = \"ANY_subquery\".datecom)                                        |\n",
       "|                                         ->  Seq Scan on commandes  (cost=0.00..5445.99 rows=199899 width=10)                                 |\n",
       "|                                                    ->  Hash  (cost=5.99..5.99 rows=200 width=32)                                             |\n",
       "|                                          ->  Subquery Scan on \"ANY_subquery\"  (cost=0.29..5.99 rows=200 width=32)                            |\n",
       "|                                                          ->  Limit  (cost=0.29..3.99 rows=200 width=4)                                       |\n",
       "|                           ->  Index Only Scan using idx_commandes_datecom on commandes commandes_1  (cost=0.29..3694.78 rows=199899 width=4) |\n",
       "+----------------------------------------------------------------------------------------------------------------------------------------------+"
      ]
     },
     "execution_count": 135,
     "metadata": {},
     "output_type": "execute_result"
    }
   ],
   "source": [
    "%%sql\n",
    "CREATE INDEX idx_commandes_datecom ON commandes(datecom);\n",
    "begin;\n",
    "  explain\n",
    "  delete from commandes\n",
    "  where datecom in (  select datecom\t\n",
    "  \t\t\t\t            from commandes\n",
    "  \t\t\t            \torder by datecom\n",
    "  \t\t\t            \tlimit 200);\n",
    "  "
   ]
  },
  {
   "cell_type": "code",
   "execution_count": 136,
   "metadata": {},
   "outputs": [
    {
     "data": {
      "text/html": [
       "<span style=\"None\">Running query in &#x27;pg&#x27;</span>"
      ],
      "text/plain": [
       "Running query in 'pg'"
      ]
     },
     "metadata": {},
     "output_type": "display_data"
    },
    {
     "data": {
      "text/html": [
       "<table>\n",
       "    <thead>\n",
       "        <tr>\n",
       "        </tr>\n",
       "    </thead>\n",
       "    <tbody>\n",
       "    </tbody>\n",
       "</table>"
      ],
      "text/plain": [
       "++\n",
       "||\n",
       "++\n",
       "++"
      ]
     },
     "execution_count": 136,
     "metadata": {},
     "output_type": "execute_result"
    }
   ],
   "source": [
    "%%sql\n",
    "rollback;"
   ]
  },
  {
   "cell_type": "code",
   "execution_count": 139,
   "metadata": {},
   "outputs": [
    {
     "data": {
      "text/html": [
       "<span style=\"None\">Running query in &#x27;pg&#x27;</span>"
      ],
      "text/plain": [
       "Running query in 'pg'"
      ]
     },
     "metadata": {},
     "output_type": "display_data"
    },
    {
     "data": {
      "text/html": [
       "<table>\n",
       "    <thead>\n",
       "        <tr>\n",
       "        </tr>\n",
       "    </thead>\n",
       "    <tbody>\n",
       "    </tbody>\n",
       "</table>"
      ],
      "text/plain": [
       "++\n",
       "||\n",
       "++\n",
       "++"
      ]
     },
     "execution_count": 139,
     "metadata": {},
     "output_type": "execute_result"
    }
   ],
   "source": [
    "%%sql\n",
    "CREATE SCHEMA optimisationpartition;\n",
    "\n",
    "CREATE TABLE optimisationpartition.concerne (\n",
    "    numc INT,\n",
    "    datecom DATE,\n",
    "    nump INT,\n",
    "    PRIMARY KEY (numc, datecom, nump)\n",
    ") PARTITION BY RANGE (datecom);\n",
    "\n",
    "CREATE TABLE optimisationpartition.concerne_old PARTITION OF optimisationpartition.concerne\n",
    "FOR VALUES FROM (MINVALUE) TO (CURRENT_DATE - INTERVAL '3 years');\n",
    "\n",
    "\n",
    "\n",
    "CREATE TABLE optimisationpartition.concerne_recent PARTITION OF optimisationpartition.concerne\n",
    "FOR VALUES FROM (CURRENT_DATE - INTERVAL '3 years') TO (CURRENT_DATE - INTERVAL '1 year');\n",
    "\n",
    "\n",
    "CREATE TABLE optimisationpartition.concerne_current PARTITION OF optimisationpartition.concerne\n",
    "FOR VALUES FROM (CURRENT_DATE - INTERVAL '1 year') TO (MAXVALUE);\n",
    "\n",
    "\n"
   ]
  },
  {
   "cell_type": "code",
   "execution_count": 141,
   "metadata": {},
   "outputs": [
    {
     "data": {
      "text/html": [
       "<span style=\"None\">Running query in &#x27;pg&#x27;</span>"
      ],
      "text/plain": [
       "Running query in 'pg'"
      ]
     },
     "metadata": {},
     "output_type": "display_data"
    },
    {
     "name": "stderr",
     "output_type": "stream",
     "text": [
      "RuntimeError: (psycopg2.errors.UniqueViolation) duplicate key value violates unique constraint \"concerne_current_pkey\"\n",
      "DETAIL:  Key (numc, datecom, nump)=(8756, 2024-01-11, 648) already exists.\n",
      "\n",
      "[SQL: INSERT INTO optimisationpartition.concerne (numc, datecom, nump)\n",
      "SELECT numc, datecom, nump\n",
      "FROM optimisation.concerne;]\n",
      "(Background on this error at: https://sqlalche.me/e/20/gkpj)\n",
      "If you need help solving this issue, send us a message: https://ploomber.io/community\n"
     ]
    }
   ],
   "source": [
    "%%sql\n",
    "INSERT INTO optimisationpartition.concerne (numc, datecom, nump)\n",
    "SELECT numc, datecom, nump\n",
    "FROM optimisation.concerne;\n",
    "\n",
    "SELECT * FROM optimisationpartition.concerne_old;\n",
    "SELECT * FROM optimisationpartition.concerne_recent;\n",
    "SELECT * FROM optimisationpartition.concerne_current;\n"
   ]
  },
  {
   "cell_type": "code",
   "execution_count": 142,
   "metadata": {},
   "outputs": [
    {
     "data": {
      "text/html": [
       "<span style=\"None\">Running query in &#x27;pg&#x27;</span>"
      ],
      "text/plain": [
       "Running query in 'pg'"
      ]
     },
     "metadata": {},
     "output_type": "display_data"
    },
    {
     "data": {
      "text/html": [
       "<span style=\"color: green\">6 rows affected.</span>"
      ],
      "text/plain": [
       "6 rows affected."
      ]
     },
     "metadata": {},
     "output_type": "display_data"
    },
    {
     "data": {
      "text/html": [
       "<table>\n",
       "    <thead>\n",
       "        <tr>\n",
       "            <th>QUERY PLAN</th>\n",
       "        </tr>\n",
       "    </thead>\n",
       "    <tbody>\n",
       "        <tr>\n",
       "            <td>Append  (cost=0.00..15821.75 rows=418995 width=12) (actual time=0.009..67.932 rows=419021 loops=1)</td>\n",
       "        </tr>\n",
       "        <tr>\n",
       "            <td>&nbsp;&nbsp;Subplans Removed: 2</td>\n",
       "        </tr>\n",
       "        <tr>\n",
       "            <td>&nbsp;&nbsp;->  Seq Scan on concerne_old concerne_1  (cost=0.00..9597.87 rows=418981 width=12) (actual time=0.008..48.165 rows=419021 loops=1)</td>\n",
       "        </tr>\n",
       "        <tr>\n",
       "            <td>&nbsp;&nbsp;&nbsp;&nbsp;&nbsp;&nbsp;&nbsp;&nbsp;Filter: (datecom < (CURRENT_DATE - '3 years'::interval))</td>\n",
       "        </tr>\n",
       "        <tr>\n",
       "            <td>Planning Time: 0.361 ms</td>\n",
       "        </tr>\n",
       "        <tr>\n",
       "            <td>Execution Time: 77.780 ms</td>\n",
       "        </tr>\n",
       "    </tbody>\n",
       "</table>"
      ],
      "text/plain": [
       "+--------------------------------------------------------------------------------------------------------------------------------------+\n",
       "|                                                              QUERY PLAN                                                              |\n",
       "+--------------------------------------------------------------------------------------------------------------------------------------+\n",
       "|                  Append  (cost=0.00..15821.75 rows=418995 width=12) (actual time=0.009..67.932 rows=419021 loops=1)                  |\n",
       "|                                                          Subplans Removed: 2                                                         |\n",
       "|   ->  Seq Scan on concerne_old concerne_1  (cost=0.00..9597.87 rows=418981 width=12) (actual time=0.008..48.165 rows=419021 loops=1) |\n",
       "|                                           Filter: (datecom < (CURRENT_DATE - '3 years'::interval))                                   |\n",
       "|                                                       Planning Time: 0.361 ms                                                        |\n",
       "|                                                      Execution Time: 77.780 ms                                                       |\n",
       "+--------------------------------------------------------------------------------------------------------------------------------------+"
      ]
     },
     "execution_count": 142,
     "metadata": {},
     "output_type": "execute_result"
    }
   ],
   "source": [
    "%%sql\n",
    "EXPLAIN ANALYZE\n",
    "SELECT * FROM optimisationpartition.concerne\n",
    "WHERE datecom < CURRENT_DATE - INTERVAL '3 years';\n"
   ]
  },
  {
   "cell_type": "code",
   "execution_count": 143,
   "metadata": {},
   "outputs": [
    {
     "data": {
      "text/html": [
       "<span style=\"None\">Running query in &#x27;pg&#x27;</span>"
      ],
      "text/plain": [
       "Running query in 'pg'"
      ]
     },
     "metadata": {},
     "output_type": "display_data"
    },
    {
     "data": {
      "text/html": [
       "<span style=\"color: green\">6 rows affected.</span>"
      ],
      "text/plain": [
       "6 rows affected."
      ]
     },
     "metadata": {},
     "output_type": "display_data"
    },
    {
     "data": {
      "text/html": [
       "<table>\n",
       "    <thead>\n",
       "        <tr>\n",
       "            <th>QUERY PLAN</th>\n",
       "        </tr>\n",
       "    </thead>\n",
       "    <tbody>\n",
       "        <tr>\n",
       "            <td>Append  (cost=0.00..14027.26 rows=60097 width=12) (actual time=0.008..20.297 rows=60051 loops=1)</td>\n",
       "        </tr>\n",
       "        <tr>\n",
       "            <td>&nbsp;&nbsp;Subplans Removed: 2</td>\n",
       "        </tr>\n",
       "        <tr>\n",
       "            <td>&nbsp;&nbsp;->  Seq Scan on concerne_current concerne_1  (cost=0.00..1375.89 rows=60047 width=12) (actual time=0.007..14.882 rows=60051 loops=1)</td>\n",
       "        </tr>\n",
       "        <tr>\n",
       "            <td>&nbsp;&nbsp;&nbsp;&nbsp;&nbsp;&nbsp;&nbsp;&nbsp;Filter: (datecom >= (CURRENT_DATE - '1 year'::interval))</td>\n",
       "        </tr>\n",
       "        <tr>\n",
       "            <td>Planning Time: 0.122 ms</td>\n",
       "        </tr>\n",
       "        <tr>\n",
       "            <td>Execution Time: 22.767 ms</td>\n",
       "        </tr>\n",
       "    </tbody>\n",
       "</table>"
      ],
      "text/plain": [
       "+----------------------------------------------------------------------------------------------------------------------------------------+\n",
       "|                                                               QUERY PLAN                                                               |\n",
       "+----------------------------------------------------------------------------------------------------------------------------------------+\n",
       "|                    Append  (cost=0.00..14027.26 rows=60097 width=12) (actual time=0.008..20.297 rows=60051 loops=1)                    |\n",
       "|                                                           Subplans Removed: 2                                                          |\n",
       "|   ->  Seq Scan on concerne_current concerne_1  (cost=0.00..1375.89 rows=60047 width=12) (actual time=0.007..14.882 rows=60051 loops=1) |\n",
       "|                                            Filter: (datecom >= (CURRENT_DATE - '1 year'::interval))                                    |\n",
       "|                                                        Planning Time: 0.122 ms                                                         |\n",
       "|                                                       Execution Time: 22.767 ms                                                        |\n",
       "+----------------------------------------------------------------------------------------------------------------------------------------+"
      ]
     },
     "execution_count": 143,
     "metadata": {},
     "output_type": "execute_result"
    }
   ],
   "source": [
    "%%sql\n",
    "EXPLAIN ANALYZE\n",
    "SELECT * FROM optimisationpartition.concerne\n",
    "WHERE datecom >= CURRENT_DATE - INTERVAL '1 year';"
   ]
  }
 ],
 "metadata": {
  "kernelspec": {
   "display_name": "Python 3 (ipykernel)",
   "language": "python",
   "name": "python3"
  }
 },
 "nbformat": 4,
 "nbformat_minor": 2
}
