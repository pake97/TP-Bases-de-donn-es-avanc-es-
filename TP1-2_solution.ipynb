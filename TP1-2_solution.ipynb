{
 "cells": [
  {
   "cell_type": "markdown",
   "metadata": {},
   "source": [
    "# Résultats des requêtes du TP \"movies\""
   ]
  },
  {
   "cell_type": "code",
   "execution_count": 8,
   "metadata": {},
   "outputs": [
    {
     "name": "stdout",
     "output_type": "stream",
     "text": [
      "Mocodo 4.2.2 loaded.\n"
     ]
    },
    {
     "data": {
      "text/html": [
       "<span style=\"None\">Connecting to &#x27;pg&#x27;</span>"
      ],
      "text/plain": [
       "Connecting to 'pg'"
      ]
     },
     "metadata": {},
     "output_type": "display_data"
    }
   ],
   "source": [
    "%reload_ext sql\n",
    "%reload_ext mocodo\n",
    "%config SqlMagic.displaylimit = 30 # limite dans le nombre de tuples du résultat\n",
    "%config SqlMagic.dsn_filename = \"connexion_BD.ini\" \n",
    "# ajouter ou changer ce fichier pour définir sa connexion. Le fichier doit être de la forme\n",
    "# [pg]\n",
    "# drivername = postgresql # pour psycopg2\n",
    "# username = \n",
    "# password = \n",
    "# host = \n",
    "# port = 5432\n",
    "# database = [login étudiant]\n",
    "%sql --section pg \n",
    "#initialise la connection en utilisant la connexion [pg] définie dans le fichier"
   ]
  },
  {
   "cell_type": "markdown",
   "metadata": {},
   "source": [
    "## Création du schéma"
   ]
  },
  {
   "cell_type": "code",
   "execution_count": 9,
   "metadata": {},
   "outputs": [
    {
     "data": {
      "image/svg+xml": [
       "<svg xmlns=\"http://www.w3.org/2000/svg\" width=\"392\" height=\"212\" viewBox=\"0 0 392 212\">\n",
       "<rect x=\"0\" y=\"0\" width=\"392\" height=\"212\" fill=\"none\" stroke=\"none\" stroke-width=\"0\"/>\n",
       "\n",
       "<!-- Association RATINGS -->\n",
       "<g>\n",
       "\t<line x1=\"326\" y1=\"148\" x2=\"196\" y2=\"148\" stroke=\"#726f83\" stroke-width=\"1\"/>\n",
       "\t<line x1=\"66\" y1=\"148\" x2=\"196\" y2=\"148\" stroke=\"#726f83\" stroke-width=\"1\"/>\n",
       "\t<line x1=\"196\" y1=\"39\" x2=\"196\" y2=\"148\" stroke=\"#726f83\" stroke-width=\"1\"/>\n",
       "\t<g>\n",
       "\t\t<path d=\"M226 119 a14 14 90 0 1 14 14 V147 h-88 V133 a14 14 90 0 1 14 -14\" fill=\"#b2bba4\" stroke=\"#b2bba4\" stroke-width=\"0\"/>\n",
       "\t\t<path d=\"M240 147 v16 a14 14 90 0 1 -14 14 H166 a14 14 90 0 1 -14 -14 V147 H88\" fill=\"#ccd6ba\" stroke=\"#ccd6ba\" stroke-width=\"0\"/>\n",
       "\t\t<rect x=\"152\" y=\"119\" width=\"88\" height=\"58\" fill=\"none\" rx=\"14\" stroke=\"#85956b\" stroke-width=\"1.5\"/>\n",
       "\t\t<line x1=\"152\" y1=\"147\" x2=\"240\" y2=\"147\" stroke=\"#85956b\" stroke-width=\"1.5\"/>\n",
       "\t\t<text x=\"161\" y=\"140.3\" fill=\"#27360c\" font-family=\"Copperplate\" font-size=\"18\">ratings</text>\n",
       "\t\t<text x=\"159\" y=\"165.1\" fill=\"#607734\" font-family=\"Gill Sans\" font-size=\"15\">stars_rating</text>\n",
       "\t</g>\n",
       "\t<text x=\"245\" y=\"164\" fill=\"#726f83\" font-family=\"Futura\" font-size=\"11\">0,N</text>\n",
       "\t<text x=\"128\" y=\"164\" fill=\"#726f83\" font-family=\"Futura\" font-size=\"11\">0,N</text>\n",
       "\t<text x=\"201\" y=\"85\" fill=\"#726f83\" font-family=\"Futura\" font-size=\"11\">0,N</text>\n",
       "</g>\n",
       "\n",
       "<!-- Entity DATES -->\n",
       "<g>\n",
       "\t<g>\n",
       "\t\t<rect x=\"149\" y=\"9\" width=\"94\" height=\"30\" fill=\"#97b8ff\" stroke=\"none\" stroke-width=\"0\" opacity=\"1\"/>\n",
       "\t\t<rect x=\"149\" y=\"39\" width=\"94\" height=\"30\" fill=\"#c0d4ff\" stroke=\"none\" stroke-width=\"0\" opacity=\"1\"/>\n",
       "\t\t<rect x=\"149\" y=\"9\" width=\"94\" height=\"60\" fill=\"none\" stroke=\"#578dff\" stroke-width=\"1.5\" opacity=\"1\"/>\n",
       "\t\t<line x1=\"149\" y1=\"39\" x2=\"243\" y2=\"39\" stroke=\"#578dff\" stroke-width=\"1.5\"/>\n",
       "\t</g>\n",
       "\t<text x=\"171\" y=\"30.3\" fill=\"#131114\" font-family=\"Copperplate\" font-size=\"18\">dates</text>\n",
       "\t<text x=\"157\" y=\"56.1\" fill=\"#3e3c42\" font-family=\"Gill Sans\" font-size=\"15\">date_ratings</text>\n",
       "\t<line x1=\"157\" y1=\"59\" x2=\"234\" y2=\"59\" stroke=\"#3e3c42\" stroke-width=\"1\"/>\n",
       "</g>\n",
       "\n",
       "<!-- Entity REVIEWERS -->\n",
       "<g>\n",
       "\t<g>\n",
       "\t\t<rect x=\"9\" y=\"110\" width=\"114\" height=\"30\" fill=\"#97b8ff\" stroke=\"none\" stroke-width=\"0\" opacity=\"1\"/>\n",
       "\t\t<rect x=\"9\" y=\"140\" width=\"114\" height=\"46\" fill=\"#c0d4ff\" stroke=\"none\" stroke-width=\"0\" opacity=\"1\"/>\n",
       "\t\t<rect x=\"9\" y=\"110\" width=\"114\" height=\"76\" fill=\"none\" stroke=\"#578dff\" stroke-width=\"1.5\" opacity=\"1\"/>\n",
       "\t\t<line x1=\"9\" y1=\"140\" x2=\"123\" y2=\"140\" stroke=\"#578dff\" stroke-width=\"1.5\"/>\n",
       "\t</g>\n",
       "\t<text x=\"20\" y=\"131.3\" fill=\"#131114\" font-family=\"Copperplate\" font-size=\"18\">reviewers</text>\n",
       "\t<text x=\"17\" y=\"157.1\" fill=\"#3e3c42\" font-family=\"Gill Sans\" font-size=\"15\">id_reviewer</text>\n",
       "\t<line x1=\"17\" y1=\"160\" x2=\"93\" y2=\"160\" stroke=\"#3e3c42\" stroke-width=\"1\"/>\n",
       "\t<text x=\"17\" y=\"174.1\" fill=\"#3e3c42\" font-family=\"Gill Sans\" font-size=\"15\">name_reviewer</text>\n",
       "</g>\n",
       "\n",
       "<!-- Entity MOVIES -->\n",
       "<g>\n",
       "\t<g>\n",
       "\t\t<rect x=\"269\" y=\"93\" width=\"114\" height=\"30\" fill=\"#97b8ff\" stroke=\"none\" stroke-width=\"0\" opacity=\"1\"/>\n",
       "\t\t<rect x=\"269\" y=\"123\" width=\"114\" height=\"80\" fill=\"#c0d4ff\" stroke=\"none\" stroke-width=\"0\" opacity=\"1\"/>\n",
       "\t\t<rect x=\"269\" y=\"93\" width=\"114\" height=\"110\" fill=\"none\" stroke=\"#578dff\" stroke-width=\"1.5\" opacity=\"1\"/>\n",
       "\t\t<line x1=\"269\" y1=\"123\" x2=\"383\" y2=\"123\" stroke=\"#578dff\" stroke-width=\"1.5\"/>\n",
       "\t</g>\n",
       "\t<text x=\"296\" y=\"114.3\" fill=\"#131114\" font-family=\"Copperplate\" font-size=\"18\">movies</text>\n",
       "\t<text x=\"277\" y=\"140.1\" fill=\"#3e3c42\" font-family=\"Gill Sans\" font-size=\"15\">id_movie</text>\n",
       "\t<line x1=\"277\" y1=\"143\" x2=\"335\" y2=\"143\" stroke=\"#3e3c42\" stroke-width=\"1\"/>\n",
       "\t<text x=\"277\" y=\"157.1\" fill=\"#3e3c42\" font-family=\"Gill Sans\" font-size=\"15\">title_movie</text>\n",
       "\t<text x=\"277\" y=\"174.1\" fill=\"#3e3c42\" font-family=\"Gill Sans\" font-size=\"15\">year_movie</text>\n",
       "\t<text x=\"277\" y=\"191\" fill=\"#3e3c42\" font-family=\"Gill Sans\" font-size=\"15\">director_movie</text>\n",
       "</g>\n",
       "</svg>"
      ],
      "text/plain": [
       "<IPython.core.display.SVG object>"
      ]
     },
     "metadata": {},
     "output_type": "display_data"
    }
   ],
   "source": [
    "%%mocodo --select mcd -t arrange --svg_to pdf --colors ocean\n",
    "movies: id_movie [integer] ,title_movie, year_movie [integer], director_movie\n",
    "reviewers : id_reviewer [integer], name_reviewer\n",
    "dates : date_ratings [date]\n",
    "\n",
    "ratings, 0N movies, 0N reviewers, 0N dates : stars_rating"
   ]
  },
  {
   "cell_type": "code",
   "execution_count": 10,
   "metadata": {},
   "outputs": [
    {
     "data": {
      "text/markdown": [
       "\n",
       "<div style=\"position: relative; height: 3ex; background-color: transparent\">\n",
       "<hr style=\"margin: 1ex 0 0 0; border-top: 1px solid #BBB\">\n",
       "<span style=\"position: absolute; right: 0; color: #BBB\">\n",
       "<tt>\n",
       "mocodo_notebook/sandbox_mld.md\n",
       "</tt>\n",
       "</span>\n",
       "</div>\n"
      ],
      "text/plain": [
       "<IPython.core.display.Markdown object>"
      ]
     },
     "metadata": {},
     "output_type": "display_data"
    },
    {
     "data": {
      "text/markdown": [
       "- **movies** (<ins>id_movie</ins>, title_movie, year_movie, director_movie)\n",
       "- **ratings** (<ins>_#id_movie_</ins>, <ins>_#id_reviewer_</ins>, <ins>date_ratings</ins>, stars_rating)\n",
       "- **reviewers** (<ins>id_reviewer</ins>, name_reviewer)\n"
      ],
      "text/plain": [
       "<IPython.core.display.Markdown object>"
      ]
     },
     "metadata": {},
     "output_type": "display_data"
    }
   ],
   "source": [
    "%mocodo -i mocodo_notebook/sandbox -t mld"
   ]
  },
  {
   "cell_type": "code",
   "execution_count": 11,
   "metadata": {},
   "outputs": [
    {
     "data": {
      "text/markdown": [
       "\n",
       "<div style=\"position: relative; height: 3ex; background-color: transparent\">\n",
       "<hr style=\"margin: 1ex 0 0 0; border-top: 1px solid #BBB\">\n",
       "<span style=\"position: absolute; right: 0; color: #BBB\">\n",
       "<tt>\n",
       "mocodo_notebook/sandbox_ddl_postgresql.sql\n",
       "</tt>\n",
       "</span>\n",
       "</div>\n"
      ],
      "text/plain": [
       "<IPython.core.display.Markdown object>"
      ]
     },
     "metadata": {},
     "output_type": "display_data"
    },
    {
     "data": {
      "text/markdown": [
       "```sql\n",
       "CREATE TABLE movies (\n",
       "  PRIMARY KEY (id_movie),\n",
       "  id_movie       integer NOT NULL,\n",
       "  title_movie    text,\n",
       "  year_movie     integer,\n",
       "  director_movie text\n",
       ");\n",
       "\n",
       "CREATE TABLE ratings (\n",
       "  PRIMARY KEY (id_movie, id_reviewer, date_ratings),\n",
       "  id_movie     integer NOT NULL,\n",
       "  id_reviewer  integer NOT NULL,\n",
       "  date_ratings date NOT NULL,\n",
       "  stars_rating text\n",
       ");\n",
       "\n",
       "CREATE TABLE reviewers (\n",
       "  PRIMARY KEY (id_reviewer),\n",
       "  id_reviewer   integer NOT NULL,\n",
       "  name_reviewer text\n",
       ");\n",
       "\n",
       "ALTER TABLE ratings ADD FOREIGN KEY (id_reviewer) REFERENCES reviewers (id_reviewer);\n",
       "ALTER TABLE ratings ADD FOREIGN KEY (id_movie) REFERENCES movies (id_movie);\n",
       "\n",
       "```"
      ],
      "text/plain": [
       "<IPython.core.display.Markdown object>"
      ]
     },
     "metadata": {},
     "output_type": "display_data"
    }
   ],
   "source": [
    "%mocodo -i mocodo_notebook/sandbox --select sql -t postgresql create:types=text"
   ]
  },
  {
   "cell_type": "code",
   "execution_count": 12,
   "metadata": {
    "vscode": {
     "languageId": "sql"
    }
   },
   "outputs": [
    {
     "data": {
      "text/html": [
       "<span style=\"None\">Running query in &#x27;pg&#x27;</span>"
      ],
      "text/plain": [
       "Running query in 'pg'"
      ]
     },
     "metadata": {},
     "output_type": "display_data"
    },
    {
     "data": {
      "text/html": [
       "<table>\n",
       "    <thead>\n",
       "        <tr>\n",
       "        </tr>\n",
       "    </thead>\n",
       "    <tbody>\n",
       "    </tbody>\n",
       "</table>"
      ],
      "text/plain": [
       "++\n",
       "||\n",
       "++\n",
       "++"
      ]
     },
     "execution_count": 12,
     "metadata": {},
     "output_type": "execute_result"
    }
   ],
   "source": [
    "%%sql\n",
    "drop schema if exists cinema cascade;\n",
    "create schema cinema;\n",
    "set search_path to cinema, \"$user\", public;\n",
    "\n",
    "create table reviewers (\n",
    "  id_reviewer integer,\n",
    "  name_reviewer text not null,\n",
    "\n",
    "  primary key (id_reviewer)\n",
    ");\n",
    "\n",
    "create table movies (\n",
    "  id_movie integer,\n",
    "  title_movie text not null,\n",
    "  year_movie integer not null,\n",
    "  director_movie text,\n",
    "\n",
    "  primary key(id_movie)\n",
    ");\n",
    "\n",
    "create table ratings (\n",
    "  id_reviewer integer,\n",
    "  id_movie integer,\n",
    "  stars_rating integer not null check (stars_rating between 1 and 5),\n",
    "  date_rating date,\n",
    "\n",
    "  primary key (id_reviewer, id_movie, date_rating),\n",
    "  foreign key (id_reviewer) references reviewers, \n",
    "  foreign key (id_movie) references movies\n",
    ");\n",
    "\n",
    "alter table movies add constraint uk_title_year unique (title_movie, year_movie);\n"
   ]
  },
  {
   "cell_type": "code",
   "execution_count": 13,
   "metadata": {},
   "outputs": [],
   "source": [
    "## Insertion des tuples"
   ]
  },
  {
   "cell_type": "code",
   "execution_count": 14,
   "metadata": {
    "vscode": {
     "languageId": "sql"
    }
   },
   "outputs": [
    {
     "data": {
      "text/html": [
       "<span style=\"None\">Running query in &#x27;pg&#x27;</span>"
      ],
      "text/plain": [
       "Running query in 'pg'"
      ]
     },
     "metadata": {},
     "output_type": "display_data"
    },
    {
     "data": {
      "text/html": [
       "<span style=\"color: green\">9 rows affected.</span>"
      ],
      "text/plain": [
       "9 rows affected."
      ]
     },
     "metadata": {},
     "output_type": "display_data"
    },
    {
     "data": {
      "text/html": [
       "<span style=\"color: green\">8 rows affected.</span>"
      ],
      "text/plain": [
       "8 rows affected."
      ]
     },
     "metadata": {},
     "output_type": "display_data"
    },
    {
     "data": {
      "text/html": [
       "<span style=\"color: green\">21 rows affected.</span>"
      ],
      "text/plain": [
       "21 rows affected."
      ]
     },
     "metadata": {},
     "output_type": "display_data"
    },
    {
     "data": {
      "text/html": [
       "<table>\n",
       "    <thead>\n",
       "        <tr>\n",
       "        </tr>\n",
       "    </thead>\n",
       "    <tbody>\n",
       "    </tbody>\n",
       "</table>"
      ],
      "text/plain": [
       "++\n",
       "||\n",
       "++\n",
       "++"
      ]
     },
     "execution_count": 14,
     "metadata": {},
     "output_type": "execute_result"
    }
   ],
   "source": [
    "%%sql\n",
    "\n",
    "\n",
    "insert into movies(id_movie, title_movie, year_movie, director_movie) values\n",
    "    (101, 'Gone with the Wind', 1939, 'Victor Fleming'),\n",
    "    (102, 'Star Wars', 1977, 'George Lucas'),\n",
    "    (109, 'Star Wars', 1980, 'Georges Lucas'),\n",
    "    (103, 'The Sound of Music', 1965, 'Robert Wise'),\n",
    "    (104, 'E.T.', 1982, 'Steven Spielberg'),\n",
    "    (105, 'Titanic', 1997, 'James Cameron'),\n",
    "    (106, 'Snow White', 1937, null),\n",
    "    (107, 'Avatar', 2009, 'James Cameron'),\n",
    "    (108, 'Raiders of the Lost Ark', 1981, 'Steven Spielberg')\n",
    ";\n",
    "\n",
    "\n",
    "insert into reviewers(id_reviewer, name_reviewer) values\n",
    "    (201, 'Sarah Martinez'),\n",
    "    (202, 'Daniel Lewis'),\n",
    "    (203, 'Brittany Harris'),\n",
    "    (204, 'Mike Anderson'),\n",
    "    (205, 'Chris Jackson'),\n",
    "    (206, 'Sarah Martinez'),\n",
    "    (207, 'James Cameron'),\n",
    "    (208, 'Ashley White')\n",
    ";\n",
    "\n",
    "INSERT INTO ratings(id_reviewer, id_movie, stars_rating, date_rating) values\n",
    "    (201, 101, 2, '2011-01-22'),\n",
    "    (201, 101, 4, '2015-01-27'),\n",
    "    (202, 106, 4, '2021-02-04'),\n",
    "    (203, 103, 2, '2011-01-20'),\n",
    "    (203, 108, 4, '2011-01-12'),\n",
    "    (203, 108, 2, '2016-01-30'),\n",
    "    (204, 101, 3, '2020-01-09'),\n",
    "    (205, 103, 3, '2011-01-27'),\n",
    "    (205, 104, 2, '2011-01-22'),\n",
    "    (205, 108, 4, '2020-01-27'),\n",
    "    (206, 107, 3, '2015-01-15'),\n",
    "    (206, 106, 5, '2021-01-19'),\n",
    "    (207, 107, 5, '2014-01-20'),\n",
    "    (208, 104, 3, '2021-01-02'),\n",
    "    (203, 102, 3, '2011-01-27'),\n",
    "    (203, 109, 4, '2013-04-01'),\n",
    "    (203, 101, 2, '2011-02-27'),\n",
    "    (203, 104, 2, '2011-03-27'),\n",
    "    (203, 105, 2, '2011-04-27'),\n",
    "    (203, 106, 4, '2011-05-27'),\n",
    "    (203, 107, 5, '2011-06-27')\n",
    ";\n",
    "\n",
    "ANALYZE movies, reviewers, ratings;"
   ]
  },
  {
   "cell_type": "markdown",
   "metadata": {},
   "source": [
    "## Exercice 2 - Requêtes simples"
   ]
  },
  {
   "cell_type": "markdown",
   "metadata": {},
   "source": [
    "- le nom du relecteur 205"
   ]
  },
  {
   "cell_type": "code",
   "execution_count": 15,
   "metadata": {
    "vscode": {
     "languageId": "sql"
    }
   },
   "outputs": [
    {
     "data": {
      "text/html": [
       "<span style=\"None\">Running query in &#x27;pg&#x27;</span>"
      ],
      "text/plain": [
       "Running query in 'pg'"
      ]
     },
     "metadata": {},
     "output_type": "display_data"
    },
    {
     "data": {
      "text/html": [
       "<span style=\"color: green\">1 rows affected.</span>"
      ],
      "text/plain": [
       "1 rows affected."
      ]
     },
     "metadata": {},
     "output_type": "display_data"
    },
    {
     "data": {
      "text/html": [
       "<table>\n",
       "    <thead>\n",
       "        <tr>\n",
       "            <th>nom</th>\n",
       "        </tr>\n",
       "    </thead>\n",
       "    <tbody>\n",
       "        <tr>\n",
       "            <td>Chris Jackson</td>\n",
       "        </tr>\n",
       "    </tbody>\n",
       "</table>"
      ],
      "text/plain": [
       "+---------------+\n",
       "|      nom      |\n",
       "+---------------+\n",
       "| Chris Jackson |\n",
       "+---------------+"
      ]
     },
     "execution_count": 15,
     "metadata": {},
     "output_type": "execute_result"
    }
   ],
   "source": [
    "%%sql\n",
    "\n",
    "\n",
    "-- le nom du relecteur 205\n",
    "select name_reviewer \"nom\"\n",
    "from   reviewers r\n",
    "where  r.id_reviewer = 205\n",
    ";\n"
   ]
  },
  {
   "cell_type": "markdown",
   "metadata": {},
   "source": [
    "- les titres de films. "
   ]
  },
  {
   "cell_type": "code",
   "execution_count": 16,
   "metadata": {
    "vscode": {
     "languageId": "sql"
    }
   },
   "outputs": [
    {
     "data": {
      "text/html": [
       "<span style=\"None\">Running query in &#x27;pg&#x27;</span>"
      ],
      "text/plain": [
       "Running query in 'pg'"
      ]
     },
     "metadata": {},
     "output_type": "display_data"
    },
    {
     "data": {
      "text/html": [
       "<span style=\"color: green\">9 rows affected.</span>"
      ],
      "text/plain": [
       "9 rows affected."
      ]
     },
     "metadata": {},
     "output_type": "display_data"
    },
    {
     "data": {
      "text/html": [
       "<table>\n",
       "    <thead>\n",
       "        <tr>\n",
       "            <th>titre</th>\n",
       "        </tr>\n",
       "    </thead>\n",
       "    <tbody>\n",
       "        <tr>\n",
       "            <td>Gone with the Wind</td>\n",
       "        </tr>\n",
       "        <tr>\n",
       "            <td>Star Wars</td>\n",
       "        </tr>\n",
       "        <tr>\n",
       "            <td>Star Wars</td>\n",
       "        </tr>\n",
       "        <tr>\n",
       "            <td>The Sound of Music</td>\n",
       "        </tr>\n",
       "        <tr>\n",
       "            <td>E.T.</td>\n",
       "        </tr>\n",
       "        <tr>\n",
       "            <td>Titanic</td>\n",
       "        </tr>\n",
       "        <tr>\n",
       "            <td>Snow White</td>\n",
       "        </tr>\n",
       "        <tr>\n",
       "            <td>Avatar</td>\n",
       "        </tr>\n",
       "        <tr>\n",
       "            <td>Raiders of the Lost Ark</td>\n",
       "        </tr>\n",
       "    </tbody>\n",
       "</table>"
      ],
      "text/plain": [
       "+-------------------------+\n",
       "|          titre          |\n",
       "+-------------------------+\n",
       "|    Gone with the Wind   |\n",
       "|        Star Wars        |\n",
       "|        Star Wars        |\n",
       "|    The Sound of Music   |\n",
       "|           E.T.          |\n",
       "|         Titanic         |\n",
       "|        Snow White       |\n",
       "|          Avatar         |\n",
       "| Raiders of the Lost Ark |\n",
       "+-------------------------+"
      ]
     },
     "execution_count": 16,
     "metadata": {},
     "output_type": "execute_result"
    }
   ],
   "source": [
    "%%sql\n",
    "\n",
    "select title_movie \"titre\"\n",
    "from   movies m\n",
    ";\n"
   ]
  },
  {
   "cell_type": "markdown",
   "metadata": {},
   "source": [
    "- les titres de films par ordre croissant."
   ]
  },
  {
   "cell_type": "code",
   "execution_count": 17,
   "metadata": {
    "vscode": {
     "languageId": "sql"
    }
   },
   "outputs": [
    {
     "data": {
      "text/html": [
       "<span style=\"None\">Running query in &#x27;pg&#x27;</span>"
      ],
      "text/plain": [
       "Running query in 'pg'"
      ]
     },
     "metadata": {},
     "output_type": "display_data"
    },
    {
     "data": {
      "text/html": [
       "<span style=\"color: green\">9 rows affected.</span>"
      ],
      "text/plain": [
       "9 rows affected."
      ]
     },
     "metadata": {},
     "output_type": "display_data"
    },
    {
     "data": {
      "text/html": [
       "<table>\n",
       "    <thead>\n",
       "        <tr>\n",
       "            <th>titre</th>\n",
       "        </tr>\n",
       "    </thead>\n",
       "    <tbody>\n",
       "        <tr>\n",
       "            <td>Avatar</td>\n",
       "        </tr>\n",
       "        <tr>\n",
       "            <td>E.T.</td>\n",
       "        </tr>\n",
       "        <tr>\n",
       "            <td>Gone with the Wind</td>\n",
       "        </tr>\n",
       "        <tr>\n",
       "            <td>Raiders of the Lost Ark</td>\n",
       "        </tr>\n",
       "        <tr>\n",
       "            <td>Snow White</td>\n",
       "        </tr>\n",
       "        <tr>\n",
       "            <td>Star Wars</td>\n",
       "        </tr>\n",
       "        <tr>\n",
       "            <td>Star Wars</td>\n",
       "        </tr>\n",
       "        <tr>\n",
       "            <td>The Sound of Music</td>\n",
       "        </tr>\n",
       "        <tr>\n",
       "            <td>Titanic</td>\n",
       "        </tr>\n",
       "    </tbody>\n",
       "</table>"
      ],
      "text/plain": [
       "+-------------------------+\n",
       "|          titre          |\n",
       "+-------------------------+\n",
       "|          Avatar         |\n",
       "|           E.T.          |\n",
       "|    Gone with the Wind   |\n",
       "| Raiders of the Lost Ark |\n",
       "|        Snow White       |\n",
       "|        Star Wars        |\n",
       "|        Star Wars        |\n",
       "|    The Sound of Music   |\n",
       "|         Titanic         |\n",
       "+-------------------------+"
      ]
     },
     "execution_count": 17,
     "metadata": {},
     "output_type": "execute_result"
    }
   ],
   "source": [
    "%%sql\n",
    "\n",
    "select   m.title_movie \"titre\"\n",
    "from     movies m\n",
    "order by \"titre\"\n",
    ";\n"
   ]
  },
  {
   "cell_type": "markdown",
   "metadata": {},
   "source": [
    "- les films réalisés par steven spielberg"
   ]
  },
  {
   "cell_type": "code",
   "execution_count": 18,
   "metadata": {
    "vscode": {
     "languageId": "sql"
    }
   },
   "outputs": [
    {
     "data": {
      "text/html": [
       "<span style=\"None\">Running query in &#x27;pg&#x27;</span>"
      ],
      "text/plain": [
       "Running query in 'pg'"
      ]
     },
     "metadata": {},
     "output_type": "display_data"
    },
    {
     "data": {
      "text/html": [
       "<span style=\"color: green\">2 rows affected.</span>"
      ],
      "text/plain": [
       "2 rows affected."
      ]
     },
     "metadata": {},
     "output_type": "display_data"
    },
    {
     "data": {
      "text/html": [
       "<table>\n",
       "    <thead>\n",
       "        <tr>\n",
       "            <th>titre</th>\n",
       "        </tr>\n",
       "    </thead>\n",
       "    <tbody>\n",
       "        <tr>\n",
       "            <td>E.T.</td>\n",
       "        </tr>\n",
       "        <tr>\n",
       "            <td>Raiders of the Lost Ark</td>\n",
       "        </tr>\n",
       "    </tbody>\n",
       "</table>"
      ],
      "text/plain": [
       "+-------------------------+\n",
       "|          titre          |\n",
       "+-------------------------+\n",
       "|           E.T.          |\n",
       "| Raiders of the Lost Ark |\n",
       "+-------------------------+"
      ]
     },
     "execution_count": 18,
     "metadata": {},
     "output_type": "execute_result"
    }
   ],
   "source": [
    "%%sql\n",
    "\n",
    "select m.title_movie \"titre\"\n",
    "from   movies m \n",
    "where  m.director_movie = 'Steven Spielberg'\n",
    ";\n"
   ]
  },
  {
   "cell_type": "markdown",
   "metadata": {},
   "source": [
    "- les titres de films dont le réalisateur n'est pas renseigné"
   ]
  },
  {
   "cell_type": "code",
   "execution_count": 19,
   "metadata": {
    "vscode": {
     "languageId": "sql"
    }
   },
   "outputs": [
    {
     "data": {
      "text/html": [
       "<span style=\"None\">Running query in &#x27;pg&#x27;</span>"
      ],
      "text/plain": [
       "Running query in 'pg'"
      ]
     },
     "metadata": {},
     "output_type": "display_data"
    },
    {
     "data": {
      "text/html": [
       "<span style=\"color: green\">1 rows affected.</span>"
      ],
      "text/plain": [
       "1 rows affected."
      ]
     },
     "metadata": {},
     "output_type": "display_data"
    },
    {
     "data": {
      "text/html": [
       "<table>\n",
       "    <thead>\n",
       "        <tr>\n",
       "            <th>titre</th>\n",
       "        </tr>\n",
       "    </thead>\n",
       "    <tbody>\n",
       "        <tr>\n",
       "            <td>Snow White</td>\n",
       "        </tr>\n",
       "    </tbody>\n",
       "</table>"
      ],
      "text/plain": [
       "+------------+\n",
       "|   titre    |\n",
       "+------------+\n",
       "| Snow White |\n",
       "+------------+"
      ]
     },
     "execution_count": 19,
     "metadata": {},
     "output_type": "execute_result"
    }
   ],
   "source": [
    "%%sql\n",
    "\n",
    "select m.title_movie \"titre\"\n",
    "from   movies m\n",
    "where  m.director_movie is null\n",
    ";\n"
   ]
  },
  {
   "cell_type": "markdown",
   "metadata": {},
   "source": [
    "- toutes les évaluations, avec les informations sur les films et les réalisateurs issus des tables correspondantes. \n",
    "   \n",
    "   (nommez cette requête par un alias (vue) \"v_detail_evaluations\", que vous utiliserez comme une relation dans la suite \n",
    "   à chaque fois que vous en aurez besoin.)"
   ]
  },
  {
   "cell_type": "code",
   "execution_count": 20,
   "metadata": {
    "vscode": {
     "languageId": "sql"
    }
   },
   "outputs": [
    {
     "data": {
      "text/html": [
       "<span style=\"None\">Running query in &#x27;pg&#x27;</span>"
      ],
      "text/plain": [
       "Running query in 'pg'"
      ]
     },
     "metadata": {},
     "output_type": "display_data"
    },
    {
     "data": {
      "text/html": [
       "<table>\n",
       "    <thead>\n",
       "        <tr>\n",
       "        </tr>\n",
       "    </thead>\n",
       "    <tbody>\n",
       "    </tbody>\n",
       "</table>"
      ],
      "text/plain": [
       "++\n",
       "||\n",
       "++\n",
       "++"
      ]
     },
     "execution_count": 20,
     "metadata": {},
     "output_type": "execute_result"
    }
   ],
   "source": [
    "%%sql\n",
    "\n",
    "create view v_detail_evaluations as (\n",
    "   select *\n",
    "   from   ratings ra\n",
    "          join movies m using(id_movie)\n",
    "          join reviewers re using(id_reviewer)\n",
    ");\n"
   ]
  },
  {
   "cell_type": "markdown",
   "metadata": {},
   "source": [
    "- les années, dans l'ordre croissant, qui ont un film qui a reçu une note de 4 ou 5."
   ]
  },
  {
   "cell_type": "code",
   "execution_count": 21,
   "metadata": {
    "vscode": {
     "languageId": "sql"
    }
   },
   "outputs": [
    {
     "data": {
      "text/html": [
       "<span style=\"None\">Running query in &#x27;pg&#x27;</span>"
      ],
      "text/plain": [
       "Running query in 'pg'"
      ]
     },
     "metadata": {},
     "output_type": "display_data"
    },
    {
     "data": {
      "text/html": [
       "<span style=\"color: green\">5 rows affected.</span>"
      ],
      "text/plain": [
       "5 rows affected."
      ]
     },
     "metadata": {},
     "output_type": "display_data"
    },
    {
     "data": {
      "text/html": [
       "<table>\n",
       "    <thead>\n",
       "        <tr>\n",
       "            <th>année</th>\n",
       "        </tr>\n",
       "    </thead>\n",
       "    <tbody>\n",
       "        <tr>\n",
       "            <td>1937</td>\n",
       "        </tr>\n",
       "        <tr>\n",
       "            <td>1939</td>\n",
       "        </tr>\n",
       "        <tr>\n",
       "            <td>1980</td>\n",
       "        </tr>\n",
       "        <tr>\n",
       "            <td>1981</td>\n",
       "        </tr>\n",
       "        <tr>\n",
       "            <td>2009</td>\n",
       "        </tr>\n",
       "    </tbody>\n",
       "</table>"
      ],
      "text/plain": [
       "+-------+\n",
       "| année |\n",
       "+-------+\n",
       "|  1937 |\n",
       "|  1939 |\n",
       "|  1980 |\n",
       "|  1981 |\n",
       "|  2009 |\n",
       "+-------+"
      ]
     },
     "execution_count": 21,
     "metadata": {},
     "output_type": "execute_result"
    }
   ],
   "source": [
    "%%sql\n",
    "\n",
    "select distinct year_movie as \"année\" -- distinct : plusieurs films peuvent avoir la même année de réalisation\n",
    "from   movies m\n",
    "       join ratings r using(id_movie)\n",
    "where  r.stars_rating = 4\n",
    "       or r.stars_rating = 5\n",
    "order by \"année\";\n"
   ]
  },
  {
   "cell_type": "markdown",
   "metadata": {},
   "source": [
    "- le nom des personnes qui ont noté le film gone with the wind."
   ]
  },
  {
   "cell_type": "code",
   "execution_count": 22,
   "metadata": {
    "vscode": {
     "languageId": "sql"
    }
   },
   "outputs": [
    {
     "data": {
      "text/html": [
       "<span style=\"None\">Running query in &#x27;pg&#x27;</span>"
      ],
      "text/plain": [
       "Running query in 'pg'"
      ]
     },
     "metadata": {},
     "output_type": "display_data"
    },
    {
     "data": {
      "text/html": [
       "<span style=\"color: green\">3 rows affected.</span>"
      ],
      "text/plain": [
       "3 rows affected."
      ]
     },
     "metadata": {},
     "output_type": "display_data"
    },
    {
     "data": {
      "text/html": [
       "<table>\n",
       "    <thead>\n",
       "        <tr>\n",
       "            <th>nom du reviewer</th>\n",
       "        </tr>\n",
       "    </thead>\n",
       "    <tbody>\n",
       "        <tr>\n",
       "            <td>Brittany Harris</td>\n",
       "        </tr>\n",
       "        <tr>\n",
       "            <td>Mike Anderson</td>\n",
       "        </tr>\n",
       "        <tr>\n",
       "            <td>Sarah Martinez</td>\n",
       "        </tr>\n",
       "    </tbody>\n",
       "</table>"
      ],
      "text/plain": [
       "+-----------------+\n",
       "| nom du reviewer |\n",
       "+-----------------+\n",
       "| Brittany Harris |\n",
       "|  Mike Anderson  |\n",
       "|  Sarah Martinez |\n",
       "+-----------------+"
      ]
     },
     "execution_count": 22,
     "metadata": {},
     "output_type": "execute_result"
    }
   ],
   "source": [
    "%%sql\n",
    "\n",
    "select distinct name_reviewer \"nom du reviewer\"-- distinct : un reviewer pourrait noter plusieurs fois ce film\n",
    "from   v_detail_evaluations v -- vue des évaluations avec le détail concernant les films et rapporteurs\n",
    "where  v.title_movie = 'Gone with the Wind';\n"
   ]
  },
  {
   "cell_type": "markdown",
   "metadata": {},
   "source": [
    "- pour chaque évaluation où le nom de l'examinateur est identique au nom du réalisateur du film, le nom de l'examinateur, le titre du film, et le nombre d'étoiles."
   ]
  },
  {
   "cell_type": "code",
   "execution_count": 23,
   "metadata": {
    "vscode": {
     "languageId": "sql"
    }
   },
   "outputs": [
    {
     "data": {
      "text/html": [
       "<span style=\"None\">Running query in &#x27;pg&#x27;</span>"
      ],
      "text/plain": [
       "Running query in 'pg'"
      ]
     },
     "metadata": {},
     "output_type": "display_data"
    },
    {
     "data": {
      "text/html": [
       "<span style=\"color: green\">1 rows affected.</span>"
      ],
      "text/plain": [
       "1 rows affected."
      ]
     },
     "metadata": {},
     "output_type": "display_data"
    },
    {
     "data": {
      "text/html": [
       "<table>\n",
       "    <thead>\n",
       "        <tr>\n",
       "            <th>nom de l'examinateur</th>\n",
       "            <th>titre du film</th>\n",
       "            <th>nombre d'étoiles</th>\n",
       "        </tr>\n",
       "    </thead>\n",
       "    <tbody>\n",
       "        <tr>\n",
       "            <td>James Cameron</td>\n",
       "            <td>Avatar</td>\n",
       "            <td>5</td>\n",
       "        </tr>\n",
       "    </tbody>\n",
       "</table>"
      ],
      "text/plain": [
       "+----------------------+---------------+------------------+\n",
       "| nom de l'examinateur | titre du film | nombre d'étoiles |\n",
       "+----------------------+---------------+------------------+\n",
       "|    James Cameron     |     Avatar    |        5         |\n",
       "+----------------------+---------------+------------------+"
      ]
     },
     "execution_count": 23,
     "metadata": {},
     "output_type": "execute_result"
    }
   ],
   "source": [
    "%%sql\n",
    "\n",
    "select v1.name_reviewer \"nom de l'examinateur\",\n",
    "       v1.title_movie   \"titre du film\",\n",
    "       stars_rating     \"nombre d'étoiles\"\n",
    "from   v_detail_evaluations v1 -- vue des évaluations avec le détail concernant les films et rapporteurs\n",
    "where  v1.name_reviewer = v1.director_movie\n",
    ";\n",
    "\n"
   ]
  },
  {
   "cell_type": "markdown",
   "metadata": {},
   "source": [
    "- l'intégralité des évaluations, avec un résultat sous la forme (nom de l'examinateur, titre du film, nombre d'étoiles). D'abord par le nom de relecteur, puis par le titre de film, et enfin par le nombre d'étoiles."
   ]
  },
  {
   "cell_type": "code",
   "execution_count": 24,
   "metadata": {
    "vscode": {
     "languageId": "sql"
    }
   },
   "outputs": [
    {
     "data": {
      "text/html": [
       "<span style=\"None\">Running query in &#x27;pg&#x27;</span>"
      ],
      "text/plain": [
       "Running query in 'pg'"
      ]
     },
     "metadata": {},
     "output_type": "display_data"
    },
    {
     "data": {
      "text/html": [
       "<span style=\"color: green\">21 rows affected.</span>"
      ],
      "text/plain": [
       "21 rows affected."
      ]
     },
     "metadata": {},
     "output_type": "display_data"
    },
    {
     "data": {
      "text/html": [
       "<table>\n",
       "    <thead>\n",
       "        <tr>\n",
       "            <th>nom de l'examinateur</th>\n",
       "            <th>titre du film</th>\n",
       "            <th>nombre d'étoiles</th>\n",
       "        </tr>\n",
       "    </thead>\n",
       "    <tbody>\n",
       "        <tr>\n",
       "            <td>Ashley White</td>\n",
       "            <td>E.T.</td>\n",
       "            <td>3</td>\n",
       "        </tr>\n",
       "        <tr>\n",
       "            <td>Brittany Harris</td>\n",
       "            <td>Avatar</td>\n",
       "            <td>5</td>\n",
       "        </tr>\n",
       "        <tr>\n",
       "            <td>Brittany Harris</td>\n",
       "            <td>E.T.</td>\n",
       "            <td>2</td>\n",
       "        </tr>\n",
       "        <tr>\n",
       "            <td>Brittany Harris</td>\n",
       "            <td>Gone with the Wind</td>\n",
       "            <td>2</td>\n",
       "        </tr>\n",
       "        <tr>\n",
       "            <td>Brittany Harris</td>\n",
       "            <td>Raiders of the Lost Ark</td>\n",
       "            <td>2</td>\n",
       "        </tr>\n",
       "        <tr>\n",
       "            <td>Brittany Harris</td>\n",
       "            <td>Raiders of the Lost Ark</td>\n",
       "            <td>4</td>\n",
       "        </tr>\n",
       "        <tr>\n",
       "            <td>Brittany Harris</td>\n",
       "            <td>Snow White</td>\n",
       "            <td>4</td>\n",
       "        </tr>\n",
       "        <tr>\n",
       "            <td>Brittany Harris</td>\n",
       "            <td>Star Wars</td>\n",
       "            <td>3</td>\n",
       "        </tr>\n",
       "        <tr>\n",
       "            <td>Brittany Harris</td>\n",
       "            <td>Star Wars</td>\n",
       "            <td>4</td>\n",
       "        </tr>\n",
       "        <tr>\n",
       "            <td>Brittany Harris</td>\n",
       "            <td>The Sound of Music</td>\n",
       "            <td>2</td>\n",
       "        </tr>\n",
       "        <tr>\n",
       "            <td>Brittany Harris</td>\n",
       "            <td>Titanic</td>\n",
       "            <td>2</td>\n",
       "        </tr>\n",
       "        <tr>\n",
       "            <td>Chris Jackson</td>\n",
       "            <td>E.T.</td>\n",
       "            <td>2</td>\n",
       "        </tr>\n",
       "        <tr>\n",
       "            <td>Chris Jackson</td>\n",
       "            <td>Raiders of the Lost Ark</td>\n",
       "            <td>4</td>\n",
       "        </tr>\n",
       "        <tr>\n",
       "            <td>Chris Jackson</td>\n",
       "            <td>The Sound of Music</td>\n",
       "            <td>3</td>\n",
       "        </tr>\n",
       "        <tr>\n",
       "            <td>Daniel Lewis</td>\n",
       "            <td>Snow White</td>\n",
       "            <td>4</td>\n",
       "        </tr>\n",
       "        <tr>\n",
       "            <td>James Cameron</td>\n",
       "            <td>Avatar</td>\n",
       "            <td>5</td>\n",
       "        </tr>\n",
       "        <tr>\n",
       "            <td>Mike Anderson</td>\n",
       "            <td>Gone with the Wind</td>\n",
       "            <td>3</td>\n",
       "        </tr>\n",
       "        <tr>\n",
       "            <td>Sarah Martinez</td>\n",
       "            <td>Avatar</td>\n",
       "            <td>3</td>\n",
       "        </tr>\n",
       "        <tr>\n",
       "            <td>Sarah Martinez</td>\n",
       "            <td>Gone with the Wind</td>\n",
       "            <td>2</td>\n",
       "        </tr>\n",
       "        <tr>\n",
       "            <td>Sarah Martinez</td>\n",
       "            <td>Gone with the Wind</td>\n",
       "            <td>4</td>\n",
       "        </tr>\n",
       "        <tr>\n",
       "            <td>Sarah Martinez</td>\n",
       "            <td>Snow White</td>\n",
       "            <td>5</td>\n",
       "        </tr>\n",
       "    </tbody>\n",
       "</table>"
      ],
      "text/plain": [
       "+----------------------+-------------------------+------------------+\n",
       "| nom de l'examinateur |      titre du film      | nombre d'étoiles |\n",
       "+----------------------+-------------------------+------------------+\n",
       "|     Ashley White     |           E.T.          |        3         |\n",
       "|   Brittany Harris    |          Avatar         |        5         |\n",
       "|   Brittany Harris    |           E.T.          |        2         |\n",
       "|   Brittany Harris    |    Gone with the Wind   |        2         |\n",
       "|   Brittany Harris    | Raiders of the Lost Ark |        2         |\n",
       "|   Brittany Harris    | Raiders of the Lost Ark |        4         |\n",
       "|   Brittany Harris    |        Snow White       |        4         |\n",
       "|   Brittany Harris    |        Star Wars        |        3         |\n",
       "|   Brittany Harris    |        Star Wars        |        4         |\n",
       "|   Brittany Harris    |    The Sound of Music   |        2         |\n",
       "|   Brittany Harris    |         Titanic         |        2         |\n",
       "|    Chris Jackson     |           E.T.          |        2         |\n",
       "|    Chris Jackson     | Raiders of the Lost Ark |        4         |\n",
       "|    Chris Jackson     |    The Sound of Music   |        3         |\n",
       "|     Daniel Lewis     |        Snow White       |        4         |\n",
       "|    James Cameron     |          Avatar         |        5         |\n",
       "|    Mike Anderson     |    Gone with the Wind   |        3         |\n",
       "|    Sarah Martinez    |          Avatar         |        3         |\n",
       "|    Sarah Martinez    |    Gone with the Wind   |        2         |\n",
       "|    Sarah Martinez    |    Gone with the Wind   |        4         |\n",
       "|    Sarah Martinez    |        Snow White       |        5         |\n",
       "+----------------------+-------------------------+------------------+"
      ]
     },
     "execution_count": 24,
     "metadata": {},
     "output_type": "execute_result"
    }
   ],
   "source": [
    "%%sql\n",
    "\n",
    "select name_reviewer \"nom de l'examinateur\",\n",
    "       title_movie   \"titre du film\",\n",
    "       stars_rating  \"nombre d'étoiles\"\n",
    "from   v_detail_evaluations v\n",
    "order by name_reviewer, title_movie, stars_rating\n",
    ";\n"
   ]
  },
  {
   "cell_type": "markdown",
   "metadata": {},
   "source": [
    "- les titres des films non encore examinés par Chris Jackson. \n"
   ]
  },
  {
   "cell_type": "code",
   "execution_count": 25,
   "metadata": {
    "vscode": {
     "languageId": "sql"
    }
   },
   "outputs": [
    {
     "data": {
      "text/html": [
       "<span style=\"None\">Running query in &#x27;pg&#x27;</span>"
      ],
      "text/plain": [
       "Running query in 'pg'"
      ]
     },
     "metadata": {},
     "output_type": "display_data"
    },
    {
     "data": {
      "text/html": [
       "<span style=\"color: green\">6 rows affected.</span>"
      ],
      "text/plain": [
       "6 rows affected."
      ]
     },
     "metadata": {},
     "output_type": "display_data"
    },
    {
     "data": {
      "text/html": [
       "<table>\n",
       "    <thead>\n",
       "        <tr>\n",
       "            <th>titre</th>\n",
       "        </tr>\n",
       "    </thead>\n",
       "    <tbody>\n",
       "        <tr>\n",
       "            <td>Star Wars</td>\n",
       "        </tr>\n",
       "        <tr>\n",
       "            <td>Avatar</td>\n",
       "        </tr>\n",
       "        <tr>\n",
       "            <td>Star Wars</td>\n",
       "        </tr>\n",
       "        <tr>\n",
       "            <td>Gone with the Wind</td>\n",
       "        </tr>\n",
       "        <tr>\n",
       "            <td>Snow White</td>\n",
       "        </tr>\n",
       "        <tr>\n",
       "            <td>Titanic</td>\n",
       "        </tr>\n",
       "    </tbody>\n",
       "</table>"
      ],
      "text/plain": [
       "+--------------------+\n",
       "|       titre        |\n",
       "+--------------------+\n",
       "|     Star Wars      |\n",
       "|       Avatar       |\n",
       "|     Star Wars      |\n",
       "| Gone with the Wind |\n",
       "|     Snow White     |\n",
       "|      Titanic       |\n",
       "+--------------------+"
      ]
     },
     "execution_count": 25,
     "metadata": {},
     "output_type": "execute_result"
    }
   ],
   "source": [
    "%%sql\n",
    "\n",
    "select title_movie \"titre\"\n",
    "from (  -- liste des tuples (id_movie,title_movie) non examinés par chris jackson\n",
    "        select id_movie, title_movie -- tous les films existants\n",
    "        from   movies\n",
    "        except\n",
    "        select id_movie, title_movie -- les films évalués par cj\n",
    "        from v_detail_evaluations\n",
    "        where name_reviewer = 'Chris Jackson'\n",
    "   ) t\n",
    "; \n"
   ]
  },
  {
   "cell_type": "markdown",
   "metadata": {},
   "source": [
    "- pour tous les cas où la même personne note deux fois le même film et donne une note plus élevée la seconde fois, le nom de l'examinateur, le titre du film, la première note et la deuxième note."
   ]
  },
  {
   "cell_type": "code",
   "execution_count": 26,
   "metadata": {
    "vscode": {
     "languageId": "sql"
    }
   },
   "outputs": [
    {
     "data": {
      "text/html": [
       "<span style=\"None\">Running query in &#x27;pg&#x27;</span>"
      ],
      "text/plain": [
       "Running query in 'pg'"
      ]
     },
     "metadata": {},
     "output_type": "display_data"
    },
    {
     "data": {
      "text/html": [
       "<span style=\"color: green\">1 rows affected.</span>"
      ],
      "text/plain": [
       "1 rows affected."
      ]
     },
     "metadata": {},
     "output_type": "display_data"
    },
    {
     "data": {
      "text/html": [
       "<table>\n",
       "    <thead>\n",
       "        <tr>\n",
       "            <th>nom de l'évaluateur</th>\n",
       "            <th>titre du film</th>\n",
       "            <th>première note</th>\n",
       "            <th>deuxième note</th>\n",
       "        </tr>\n",
       "    </thead>\n",
       "    <tbody>\n",
       "        <tr>\n",
       "            <td>Sarah Martinez</td>\n",
       "            <td>Gone with the Wind</td>\n",
       "            <td>2</td>\n",
       "            <td>4</td>\n",
       "        </tr>\n",
       "    </tbody>\n",
       "</table>"
      ],
      "text/plain": [
       "+---------------------+--------------------+---------------+---------------+\n",
       "| nom de l'évaluateur |   titre du film    | première note | deuxième note |\n",
       "+---------------------+--------------------+---------------+---------------+\n",
       "|    Sarah Martinez   | Gone with the Wind |       2       |       4       |\n",
       "+---------------------+--------------------+---------------+---------------+"
      ]
     },
     "execution_count": 26,
     "metadata": {},
     "output_type": "execute_result"
    }
   ],
   "source": [
    "\n",
    "%%sql\n",
    "\n",
    "select name_reviewer \"nom de l'évaluateur\", \n",
    "       title_movie   \"titre du film\",\n",
    "       v.stars_rating \"première note\",\n",
    "       r.stars_rating \"deuxième note\"\n",
    "from   v_detail_evaluations v \n",
    "       join ratings r using (id_reviewer,id_movie) -- on joint deux à deux les évaluations du même film et même rapporteur\n",
    "where  v.date_rating < r.date_rating -- ne conserve qu'un seul exemplaire de chaque paire d'évaluation, et écarte les paires d'une même évaluation\n",
    "       and v.stars_rating < r.stars_rating -- la note a augmenté\n",
    ";\n",
    "\n",
    "\n"
   ]
  },
  {
   "cell_type": "markdown",
   "metadata": {},
   "source": [
    "## Exercice 3 - Requêtes agrégatives"
   ]
  },
  {
   "cell_type": "markdown",
   "metadata": {},
   "source": [
    "- retourner le nom de l'examinateur, le titre du film, et le nombre d'étoiles pour tous les films qui ont actuellement la plus mauvaise note dans la base."
   ]
  },
  {
   "cell_type": "code",
   "execution_count": 27,
   "metadata": {
    "vscode": {
     "languageId": "sql"
    }
   },
   "outputs": [
    {
     "data": {
      "text/html": [
       "<span style=\"None\">Running query in &#x27;pg&#x27;</span>"
      ],
      "text/plain": [
       "Running query in 'pg'"
      ]
     },
     "metadata": {},
     "output_type": "display_data"
    },
    {
     "data": {
      "text/html": [
       "<span style=\"color: green\">7 rows affected.</span>"
      ],
      "text/plain": [
       "7 rows affected."
      ]
     },
     "metadata": {},
     "output_type": "display_data"
    },
    {
     "data": {
      "text/html": [
       "<table>\n",
       "    <thead>\n",
       "        <tr>\n",
       "            <th>nom de l'examinateur</th>\n",
       "            <th>titre du film</th>\n",
       "            <th>note</th>\n",
       "        </tr>\n",
       "    </thead>\n",
       "    <tbody>\n",
       "        <tr>\n",
       "            <td>Sarah Martinez</td>\n",
       "            <td>Gone with the Wind</td>\n",
       "            <td>2</td>\n",
       "        </tr>\n",
       "        <tr>\n",
       "            <td>Brittany Harris</td>\n",
       "            <td>The Sound of Music</td>\n",
       "            <td>2</td>\n",
       "        </tr>\n",
       "        <tr>\n",
       "            <td>Brittany Harris</td>\n",
       "            <td>Raiders of the Lost Ark</td>\n",
       "            <td>2</td>\n",
       "        </tr>\n",
       "        <tr>\n",
       "            <td>Chris Jackson</td>\n",
       "            <td>E.T.</td>\n",
       "            <td>2</td>\n",
       "        </tr>\n",
       "        <tr>\n",
       "            <td>Brittany Harris</td>\n",
       "            <td>Gone with the Wind</td>\n",
       "            <td>2</td>\n",
       "        </tr>\n",
       "        <tr>\n",
       "            <td>Brittany Harris</td>\n",
       "            <td>E.T.</td>\n",
       "            <td>2</td>\n",
       "        </tr>\n",
       "        <tr>\n",
       "            <td>Brittany Harris</td>\n",
       "            <td>Titanic</td>\n",
       "            <td>2</td>\n",
       "        </tr>\n",
       "    </tbody>\n",
       "</table>"
      ],
      "text/plain": [
       "+----------------------+-------------------------+------+\n",
       "| nom de l'examinateur |      titre du film      | note |\n",
       "+----------------------+-------------------------+------+\n",
       "|    Sarah Martinez    |    Gone with the Wind   |  2   |\n",
       "|   Brittany Harris    |    The Sound of Music   |  2   |\n",
       "|   Brittany Harris    | Raiders of the Lost Ark |  2   |\n",
       "|    Chris Jackson     |           E.T.          |  2   |\n",
       "|   Brittany Harris    |    Gone with the Wind   |  2   |\n",
       "|   Brittany Harris    |           E.T.          |  2   |\n",
       "|   Brittany Harris    |         Titanic         |  2   |\n",
       "+----------------------+-------------------------+------+"
      ]
     },
     "execution_count": 27,
     "metadata": {},
     "output_type": "execute_result"
    }
   ],
   "source": [
    "%%sql\n",
    "\n",
    "select  name_reviewer \"nom de l'examinateur\",\n",
    "        title_movie   \"titre du film\", \n",
    "        stars_rating  \"note\"\n",
    "from    v_detail_evaluations \n",
    "where   stars_rating = ( \n",
    "                        select min(stars_rating)\n",
    "                        from ratings\n",
    "                       )\n",
    "; \n"
   ]
  },
  {
   "cell_type": "markdown",
   "metadata": {},
   "source": [
    "- pour chaque film, trouver la meilleure note reçue. retourner le titre de film et le nombre d'étoiles. Trier par rapport au titre de film (ordre alphabétique)."
   ]
  },
  {
   "cell_type": "code",
   "execution_count": 28,
   "metadata": {
    "vscode": {
     "languageId": "sql"
    }
   },
   "outputs": [
    {
     "data": {
      "text/html": [
       "<span style=\"None\">Running query in &#x27;pg&#x27;</span>"
      ],
      "text/plain": [
       "Running query in 'pg'"
      ]
     },
     "metadata": {},
     "output_type": "display_data"
    },
    {
     "data": {
      "text/html": [
       "<span style=\"color: green\">9 rows affected.</span>"
      ],
      "text/plain": [
       "9 rows affected."
      ]
     },
     "metadata": {},
     "output_type": "display_data"
    },
    {
     "data": {
      "text/html": [
       "<table>\n",
       "    <thead>\n",
       "        <tr>\n",
       "            <th>titre du film</th>\n",
       "            <th>meilleure note</th>\n",
       "        </tr>\n",
       "    </thead>\n",
       "    <tbody>\n",
       "        <tr>\n",
       "            <td>Avatar</td>\n",
       "            <td>5</td>\n",
       "        </tr>\n",
       "        <tr>\n",
       "            <td>E.T.</td>\n",
       "            <td>3</td>\n",
       "        </tr>\n",
       "        <tr>\n",
       "            <td>Gone with the Wind</td>\n",
       "            <td>4</td>\n",
       "        </tr>\n",
       "        <tr>\n",
       "            <td>Raiders of the Lost Ark</td>\n",
       "            <td>4</td>\n",
       "        </tr>\n",
       "        <tr>\n",
       "            <td>Snow White</td>\n",
       "            <td>5</td>\n",
       "        </tr>\n",
       "        <tr>\n",
       "            <td>Star Wars</td>\n",
       "            <td>3</td>\n",
       "        </tr>\n",
       "        <tr>\n",
       "            <td>Star Wars</td>\n",
       "            <td>4</td>\n",
       "        </tr>\n",
       "        <tr>\n",
       "            <td>The Sound of Music</td>\n",
       "            <td>3</td>\n",
       "        </tr>\n",
       "        <tr>\n",
       "            <td>Titanic</td>\n",
       "            <td>2</td>\n",
       "        </tr>\n",
       "    </tbody>\n",
       "</table>"
      ],
      "text/plain": [
       "+-------------------------+----------------+\n",
       "|      titre du film      | meilleure note |\n",
       "+-------------------------+----------------+\n",
       "|          Avatar         |       5        |\n",
       "|           E.T.          |       3        |\n",
       "|    Gone with the Wind   |       4        |\n",
       "| Raiders of the Lost Ark |       4        |\n",
       "|        Snow White       |       5        |\n",
       "|        Star Wars        |       3        |\n",
       "|        Star Wars        |       4        |\n",
       "|    The Sound of Music   |       3        |\n",
       "|         Titanic         |       2        |\n",
       "+-------------------------+----------------+"
      ]
     },
     "execution_count": 28,
     "metadata": {},
     "output_type": "execute_result"
    }
   ],
   "source": [
    "%%sql\n",
    "\n",
    "select m.title_movie     \"titre du film\", \n",
    "     max(stars_rating) \"meilleure note\"\n",
    "from   ratings r\n",
    "       join movies m using(id_movie) -- jointure avec movies pour récupérer le titre des films\n",
    "group by m.id_movie, m.title_movie   -- chaque groupe : ensemble des évaluations d'un même film. attention de bien grouper\n",
    "                  --  sur id_movie d'abord car les titres ne sont pas uniques.\n",
    "order by \"titre du film\"\n",
    ";\n"
   ]
  },
  {
   "cell_type": "markdown",
   "metadata": {},
   "source": [
    "- donnez le nom des évaluateurs qui ont évalué tous les films."
   ]
  },
  {
   "cell_type": "code",
   "execution_count": 29,
   "metadata": {
    "vscode": {
     "languageId": "sql"
    }
   },
   "outputs": [
    {
     "data": {
      "text/html": [
       "<span style=\"None\">Running query in &#x27;pg&#x27;</span>"
      ],
      "text/plain": [
       "Running query in 'pg'"
      ]
     },
     "metadata": {},
     "output_type": "display_data"
    },
    {
     "data": {
      "text/html": [
       "<span style=\"color: green\">1 rows affected.</span>"
      ],
      "text/plain": [
       "1 rows affected."
      ]
     },
     "metadata": {},
     "output_type": "display_data"
    },
    {
     "data": {
      "text/html": [
       "<table>\n",
       "    <thead>\n",
       "        <tr>\n",
       "            <th>nom de l'évaluateur</th>\n",
       "        </tr>\n",
       "    </thead>\n",
       "    <tbody>\n",
       "        <tr>\n",
       "            <td>Brittany Harris</td>\n",
       "        </tr>\n",
       "    </tbody>\n",
       "</table>"
      ],
      "text/plain": [
       "+---------------------+\n",
       "| nom de l'évaluateur |\n",
       "+---------------------+\n",
       "|   Brittany Harris   |\n",
       "+---------------------+"
      ]
     },
     "execution_count": 29,
     "metadata": {},
     "output_type": "execute_result"
    }
   ],
   "source": [
    "\n",
    "%%sql\n",
    "\n",
    "select name_reviewer \"nom de l'évaluateur\"\n",
    "from   ratings ra\n",
    "        join reviewers r using(id_reviewer)\n",
    "group by id_reviewer, name_reviewer\n",
    "having count(distinct id_movie) = ( select count(id_movie)\n",
    "                                    from movies)\n"
   ]
  },
  {
   "cell_type": "markdown",
   "metadata": {},
   "source": [
    " - les titres de films, leur note moyenne, leur meilleur et plus mauvaise note.\n"
   ]
  },
  {
   "cell_type": "code",
   "execution_count": 30,
   "metadata": {
    "vscode": {
     "languageId": "sql"
    }
   },
   "outputs": [
    {
     "data": {
      "text/html": [
       "<span style=\"None\">Running query in &#x27;pg&#x27;</span>"
      ],
      "text/plain": [
       "Running query in 'pg'"
      ]
     },
     "metadata": {},
     "output_type": "display_data"
    },
    {
     "data": {
      "text/html": [
       "<span style=\"color: green\">9 rows affected.</span>"
      ],
      "text/plain": [
       "9 rows affected."
      ]
     },
     "metadata": {},
     "output_type": "display_data"
    },
    {
     "data": {
      "text/html": [
       "<table>\n",
       "    <thead>\n",
       "        <tr>\n",
       "            <th>titre</th>\n",
       "            <th>note moyenne</th>\n",
       "            <th>note max</th>\n",
       "            <th>note min</th>\n",
       "        </tr>\n",
       "    </thead>\n",
       "    <tbody>\n",
       "        <tr>\n",
       "            <td>Star Wars</td>\n",
       "            <td>3.00</td>\n",
       "            <td>3</td>\n",
       "            <td>3</td>\n",
       "        </tr>\n",
       "        <tr>\n",
       "            <td>Raiders of the Lost Ark</td>\n",
       "            <td>3.33</td>\n",
       "            <td>4</td>\n",
       "            <td>2</td>\n",
       "        </tr>\n",
       "        <tr>\n",
       "            <td>The Sound of Music</td>\n",
       "            <td>2.50</td>\n",
       "            <td>3</td>\n",
       "            <td>2</td>\n",
       "        </tr>\n",
       "        <tr>\n",
       "            <td>Star Wars</td>\n",
       "            <td>4.00</td>\n",
       "            <td>4</td>\n",
       "            <td>4</td>\n",
       "        </tr>\n",
       "        <tr>\n",
       "            <td>Gone with the Wind</td>\n",
       "            <td>2.75</td>\n",
       "            <td>4</td>\n",
       "            <td>2</td>\n",
       "        </tr>\n",
       "        <tr>\n",
       "            <td>Titanic</td>\n",
       "            <td>2.00</td>\n",
       "            <td>2</td>\n",
       "            <td>2</td>\n",
       "        </tr>\n",
       "        <tr>\n",
       "            <td>E.T.</td>\n",
       "            <td>2.33</td>\n",
       "            <td>3</td>\n",
       "            <td>2</td>\n",
       "        </tr>\n",
       "        <tr>\n",
       "            <td>Avatar</td>\n",
       "            <td>4.33</td>\n",
       "            <td>5</td>\n",
       "            <td>3</td>\n",
       "        </tr>\n",
       "        <tr>\n",
       "            <td>Snow White</td>\n",
       "            <td>4.33</td>\n",
       "            <td>5</td>\n",
       "            <td>4</td>\n",
       "        </tr>\n",
       "    </tbody>\n",
       "</table>"
      ],
      "text/plain": [
       "+-------------------------+--------------+----------+----------+\n",
       "|          titre          | note moyenne | note max | note min |\n",
       "+-------------------------+--------------+----------+----------+\n",
       "|        Star Wars        |     3.00     |    3     |    3     |\n",
       "| Raiders of the Lost Ark |     3.33     |    4     |    2     |\n",
       "|    The Sound of Music   |     2.50     |    3     |    2     |\n",
       "|        Star Wars        |     4.00     |    4     |    4     |\n",
       "|    Gone with the Wind   |     2.75     |    4     |    2     |\n",
       "|         Titanic         |     2.00     |    2     |    2     |\n",
       "|           E.T.          |     2.33     |    3     |    2     |\n",
       "|          Avatar         |     4.33     |    5     |    3     |\n",
       "|        Snow White       |     4.33     |    5     |    4     |\n",
       "+-------------------------+--------------+----------+----------+"
      ]
     },
     "execution_count": 30,
     "metadata": {},
     "output_type": "execute_result"
    }
   ],
   "source": [
    "%%sql\n",
    "\n",
    "select\n",
    "    title_movie       as \"titre\", \n",
    "    round(avg(stars_rating),2) as \"note moyenne\", \n",
    "    max(stars_rating) as \"note max\", \n",
    "    min(stars_rating) as \"note min\"\n",
    "from    v_detail_evaluations v\n",
    "group by v.id_movie, v.title_movie -- bien grouper d'abord par id_movie qui est la clé\n",
    ";\n"
   ]
  },
  {
   "cell_type": "markdown",
   "metadata": {},
   "source": [
    "- Le nom de tous les examinateurs qui ont fait au moins 3 évaluations."
   ]
  },
  {
   "cell_type": "code",
   "execution_count": 31,
   "metadata": {
    "vscode": {
     "languageId": "sql"
    }
   },
   "outputs": [
    {
     "data": {
      "text/html": [
       "<span style=\"None\">Running query in &#x27;pg&#x27;</span>"
      ],
      "text/plain": [
       "Running query in 'pg'"
      ]
     },
     "metadata": {},
     "output_type": "display_data"
    },
    {
     "data": {
      "text/html": [
       "<span style=\"color: green\">2 rows affected.</span>"
      ],
      "text/plain": [
       "2 rows affected."
      ]
     },
     "metadata": {},
     "output_type": "display_data"
    },
    {
     "data": {
      "text/html": [
       "<table>\n",
       "    <thead>\n",
       "        <tr>\n",
       "            <th>nom de l'évaluateur</th>\n",
       "        </tr>\n",
       "    </thead>\n",
       "    <tbody>\n",
       "        <tr>\n",
       "            <td>Chris Jackson</td>\n",
       "        </tr>\n",
       "        <tr>\n",
       "            <td>Brittany Harris</td>\n",
       "        </tr>\n",
       "    </tbody>\n",
       "</table>"
      ],
      "text/plain": [
       "+---------------------+\n",
       "| nom de l'évaluateur |\n",
       "+---------------------+\n",
       "|    Chris Jackson    |\n",
       "|   Brittany Harris   |\n",
       "+---------------------+"
      ]
     },
     "execution_count": 31,
     "metadata": {},
     "output_type": "execute_result"
    }
   ],
   "source": [
    "%%sql\n",
    "\n",
    "select name_reviewer \"nom de l'évaluateur\"\n",
    "from reviewers re\n",
    "     join ratings ra using (id_reviewer) \n",
    "group by re.id_reviewer, re.name_reviewer -- chaque groupe : ensemble des évaluations d'un rapporteur\n",
    "having count(*) >= 3 -- au moins 3 éléments dans le groupe, donc 3 évaluations (potentiellement du même film)\n",
    ";\n",
    " \n"
   ]
  },
  {
   "cell_type": "markdown",
   "metadata": {},
   "source": [
    "- Les films ayant la meilleure moyenne de note. retourner le titre de film, et sa note moyenne."
   ]
  },
  {
   "cell_type": "code",
   "execution_count": 32,
   "metadata": {
    "vscode": {
     "languageId": "sql"
    }
   },
   "outputs": [
    {
     "data": {
      "text/html": [
       "<span style=\"None\">Running query in &#x27;pg&#x27;</span>"
      ],
      "text/plain": [
       "Running query in 'pg'"
      ]
     },
     "metadata": {},
     "output_type": "display_data"
    },
    {
     "data": {
      "text/html": [
       "<span style=\"color: green\">2 rows affected.</span>"
      ],
      "text/plain": [
       "2 rows affected."
      ]
     },
     "metadata": {},
     "output_type": "display_data"
    },
    {
     "data": {
      "text/html": [
       "<table>\n",
       "    <thead>\n",
       "        <tr>\n",
       "            <th>titre du film</th>\n",
       "            <th>note moyenne</th>\n",
       "        </tr>\n",
       "    </thead>\n",
       "    <tbody>\n",
       "        <tr>\n",
       "            <td>Snow White</td>\n",
       "            <td>4.33</td>\n",
       "        </tr>\n",
       "        <tr>\n",
       "            <td>Avatar</td>\n",
       "            <td>4.33</td>\n",
       "        </tr>\n",
       "    </tbody>\n",
       "</table>"
      ],
      "text/plain": [
       "+---------------+--------------+\n",
       "| titre du film | note moyenne |\n",
       "+---------------+--------------+\n",
       "|   Snow White  |     4.33     |\n",
       "|     Avatar    |     4.33     |\n",
       "+---------------+--------------+"
      ]
     },
     "execution_count": 32,
     "metadata": {},
     "output_type": "execute_result"
    }
   ],
   "source": [
    "%%sql\n",
    "\n",
    "select  title_movie    as \"titre du film\",\n",
    "        round(avg(stars_rating),2)  as \"note moyenne\"\n",
    "from    ratings r\n",
    "        join movies m using(id_movie) \n",
    "group by m.id_movie, m.title_movie -- chaque groupes = liste des évaluation d'un même film\n",
    "having avg(stars_rating) >= all( -- la note moyenne de chaque film\n",
    "                select avg(stars_rating)\n",
    "                from ratings r2\n",
    "                group by r2.id_movie  \n",
    "      )\n",
    ";\n"
   ]
  },
  {
   "cell_type": "markdown",
   "metadata": {},
   "source": [
    "- pour chaque film, donner ses meilleures notes et le nom du rapporteur qui les a donnée.\n",
    "(une ligne par meilleure note s'il y en a plusieurs)\n"
   ]
  },
  {
   "cell_type": "code",
   "execution_count": 33,
   "metadata": {
    "vscode": {
     "languageId": "sql"
    }
   },
   "outputs": [
    {
     "data": {
      "text/html": [
       "<span style=\"None\">Running query in &#x27;pg&#x27;</span>"
      ],
      "text/plain": [
       "Running query in 'pg'"
      ]
     },
     "metadata": {},
     "output_type": "display_data"
    },
    {
     "data": {
      "text/html": [
       "<span style=\"color: green\">11 rows affected.</span>"
      ],
      "text/plain": [
       "11 rows affected."
      ]
     },
     "metadata": {},
     "output_type": "display_data"
    },
    {
     "data": {
      "text/html": [
       "<table>\n",
       "    <thead>\n",
       "        <tr>\n",
       "            <th>titre du film</th>\n",
       "            <th>meilleure note</th>\n",
       "            <th>donnée par</th>\n",
       "        </tr>\n",
       "    </thead>\n",
       "    <tbody>\n",
       "        <tr>\n",
       "            <td>Avatar</td>\n",
       "            <td>5</td>\n",
       "            <td>Brittany Harris</td>\n",
       "        </tr>\n",
       "        <tr>\n",
       "            <td>Avatar</td>\n",
       "            <td>5</td>\n",
       "            <td>James Cameron</td>\n",
       "        </tr>\n",
       "        <tr>\n",
       "            <td>E.T.</td>\n",
       "            <td>3</td>\n",
       "            <td>Ashley White</td>\n",
       "        </tr>\n",
       "        <tr>\n",
       "            <td>Gone with the Wind</td>\n",
       "            <td>4</td>\n",
       "            <td>Sarah Martinez</td>\n",
       "        </tr>\n",
       "        <tr>\n",
       "            <td>Raiders of the Lost Ark</td>\n",
       "            <td>4</td>\n",
       "            <td>Brittany Harris</td>\n",
       "        </tr>\n",
       "        <tr>\n",
       "            <td>Raiders of the Lost Ark</td>\n",
       "            <td>4</td>\n",
       "            <td>Chris Jackson</td>\n",
       "        </tr>\n",
       "        <tr>\n",
       "            <td>Snow White</td>\n",
       "            <td>5</td>\n",
       "            <td>Sarah Martinez</td>\n",
       "        </tr>\n",
       "        <tr>\n",
       "            <td>Star Wars</td>\n",
       "            <td>3</td>\n",
       "            <td>Brittany Harris</td>\n",
       "        </tr>\n",
       "        <tr>\n",
       "            <td>Star Wars</td>\n",
       "            <td>4</td>\n",
       "            <td>Brittany Harris</td>\n",
       "        </tr>\n",
       "        <tr>\n",
       "            <td>The Sound of Music</td>\n",
       "            <td>3</td>\n",
       "            <td>Chris Jackson</td>\n",
       "        </tr>\n",
       "        <tr>\n",
       "            <td>Titanic</td>\n",
       "            <td>2</td>\n",
       "            <td>Brittany Harris</td>\n",
       "        </tr>\n",
       "    </tbody>\n",
       "</table>"
      ],
      "text/plain": [
       "+-------------------------+----------------+-----------------+\n",
       "|      titre du film      | meilleure note |    donnée par   |\n",
       "+-------------------------+----------------+-----------------+\n",
       "|          Avatar         |       5        | Brittany Harris |\n",
       "|          Avatar         |       5        |  James Cameron  |\n",
       "|           E.T.          |       3        |   Ashley White  |\n",
       "|    Gone with the Wind   |       4        |  Sarah Martinez |\n",
       "| Raiders of the Lost Ark |       4        | Brittany Harris |\n",
       "| Raiders of the Lost Ark |       4        |  Chris Jackson  |\n",
       "|        Snow White       |       5        |  Sarah Martinez |\n",
       "|        Star Wars        |       3        | Brittany Harris |\n",
       "|        Star Wars        |       4        | Brittany Harris |\n",
       "|    The Sound of Music   |       3        |  Chris Jackson  |\n",
       "|         Titanic         |       2        | Brittany Harris |\n",
       "+-------------------------+----------------+-----------------+"
      ]
     },
     "execution_count": 33,
     "metadata": {},
     "output_type": "execute_result"
    }
   ],
   "source": [
    "%%sql\n",
    "\n",
    "select\n",
    "    title_movie   \"titre du film\",\n",
    "    stars_rating  \"meilleure note\",\n",
    "    name_reviewer \"donnée par\"\n",
    "from    v_detail_evaluations v1\n",
    "    join (-- les couples id_film / leur meilleure note \n",
    "        select id_movie, max(stars_rating) \"stars_rating\"\n",
    "        from   ratings r\n",
    "        group by id_movie \n",
    "         ) t_meilleures_notes using (id_movie, stars_rating)\n",
    "order by \"titre du film\"\n",
    ";\n"
   ]
  },
  {
   "cell_type": "markdown",
   "metadata": {},
   "source": [
    "\n",
    "- Différence entre la note moyenne des films réalisés avant 1980 et ceux réalisés à partir de 1980.\n",
    "(on veut la moyenne des notes moyennes de chaque film) \n"
   ]
  },
  {
   "cell_type": "code",
   "execution_count": 34,
   "metadata": {
    "vscode": {
     "languageId": "sql"
    }
   },
   "outputs": [
    {
     "data": {
      "text/html": [
       "<span style=\"None\">Running query in &#x27;pg&#x27;</span>"
      ],
      "text/plain": [
       "Running query in 'pg'"
      ]
     },
     "metadata": {},
     "output_type": "display_data"
    },
    {
     "data": {
      "text/html": [
       "<span style=\"color: green\">1 rows affected.</span>"
      ],
      "text/plain": [
       "1 rows affected."
      ]
     },
     "metadata": {},
     "output_type": "display_data"
    },
    {
     "data": {
      "text/html": [
       "<table>\n",
       "    <thead>\n",
       "        <tr>\n",
       "            <th>différence</th>\n",
       "        </tr>\n",
       "    </thead>\n",
       "    <tbody>\n",
       "        <tr>\n",
       "            <td>-0.0541666666666667</td>\n",
       "        </tr>\n",
       "    </tbody>\n",
       "</table>"
      ],
      "text/plain": [
       "+---------------------+\n",
       "|      différence     |\n",
       "+---------------------+\n",
       "| -0.0541666666666667 |\n",
       "+---------------------+"
      ]
     },
     "execution_count": 34,
     "metadata": {},
     "output_type": "execute_result"
    }
   ],
   "source": [
    "%%sql\n",
    "\n",
    "with t_moyennes_avant80(val) as (\n",
    "         -- moyenne des moyennes de films avant 1980\n",
    "      select avg(moyenne_par_film_av_1980)\n",
    "      from ( -- moyennes avant 1980 de chaque film\n",
    "              select avg(stars_rating) as \"moyenne_par_film_av_1980\"\n",
    "              from   ratings r \n",
    "                     join movies m using (id_movie)\n",
    "              where m.year_movie < 1980\n",
    "              group by m.id_movie\n",
    "           ) as t\n",
    "       ) ,\n",
    "\n",
    "t_moyennes_apres80(val) as\n",
    "       (\n",
    "         -- moyenne des moyennes de films à partir de 1980\n",
    "      select avg(moyenne_par_film_ap_1980)\n",
    "      from ( -- moyennes avant 1980 de chaque film\n",
    "              select avg(stars_rating) as \"moyenne_par_film_ap_1980\"\n",
    "              from   ratings r \n",
    "                     join movies m using (id_movie)\n",
    "              where m.year_movie >= 1980\n",
    "              group by m.id_movie\n",
    "           ) as t\n",
    "       )\n",
    "\n",
    "select avant.val - apres.val as \"différence\"\n",
    "from t_moyennes_avant80 as avant, t_moyennes_apres80 as apres\n",
    ";"
   ]
  },
  {
   "cell_type": "markdown",
   "metadata": {},
   "source": [
    "- pour chaque film, retourner le titre et la différence entre la meilleure et la plus mauvaise note.\n",
    "trier par rapport à cette amplitude puis en fonction du titre."
   ]
  },
  {
   "cell_type": "code",
   "execution_count": 35,
   "metadata": {
    "vscode": {
     "languageId": "sql"
    }
   },
   "outputs": [
    {
     "data": {
      "text/html": [
       "<span style=\"None\">Running query in &#x27;pg&#x27;</span>"
      ],
      "text/plain": [
       "Running query in 'pg'"
      ]
     },
     "metadata": {},
     "output_type": "display_data"
    },
    {
     "data": {
      "text/html": [
       "<span style=\"color: green\">9 rows affected.</span>"
      ],
      "text/plain": [
       "9 rows affected."
      ]
     },
     "metadata": {},
     "output_type": "display_data"
    },
    {
     "data": {
      "text/html": [
       "<table>\n",
       "    <thead>\n",
       "        <tr>\n",
       "            <th>titre</th>\n",
       "            <th>difference</th>\n",
       "        </tr>\n",
       "    </thead>\n",
       "    <tbody>\n",
       "        <tr>\n",
       "            <td>Star Wars</td>\n",
       "            <td>0</td>\n",
       "        </tr>\n",
       "        <tr>\n",
       "            <td>Star Wars</td>\n",
       "            <td>0</td>\n",
       "        </tr>\n",
       "        <tr>\n",
       "            <td>Titanic</td>\n",
       "            <td>0</td>\n",
       "        </tr>\n",
       "        <tr>\n",
       "            <td>E.T.</td>\n",
       "            <td>1</td>\n",
       "        </tr>\n",
       "        <tr>\n",
       "            <td>Snow White</td>\n",
       "            <td>1</td>\n",
       "        </tr>\n",
       "        <tr>\n",
       "            <td>The Sound of Music</td>\n",
       "            <td>1</td>\n",
       "        </tr>\n",
       "        <tr>\n",
       "            <td>Avatar</td>\n",
       "            <td>2</td>\n",
       "        </tr>\n",
       "        <tr>\n",
       "            <td>Gone with the Wind</td>\n",
       "            <td>2</td>\n",
       "        </tr>\n",
       "        <tr>\n",
       "            <td>Raiders of the Lost Ark</td>\n",
       "            <td>2</td>\n",
       "        </tr>\n",
       "    </tbody>\n",
       "</table>"
      ],
      "text/plain": [
       "+-------------------------+------------+\n",
       "|          titre          | difference |\n",
       "+-------------------------+------------+\n",
       "|        Star Wars        |     0      |\n",
       "|        Star Wars        |     0      |\n",
       "|         Titanic         |     0      |\n",
       "|           E.T.          |     1      |\n",
       "|        Snow White       |     1      |\n",
       "|    The Sound of Music   |     1      |\n",
       "|          Avatar         |     2      |\n",
       "|    Gone with the Wind   |     2      |\n",
       "| Raiders of the Lost Ark |     2      |\n",
       "+-------------------------+------------+"
      ]
     },
     "execution_count": 35,
     "metadata": {},
     "output_type": "execute_result"
    }
   ],
   "source": [
    "%%sql\n",
    "\n",
    "select   title_movie as \"titre\",\n",
    "         (max(stars_rating) - min(stars_rating)) as \"difference\"\n",
    "from    ratings r \n",
    "        join movies m using(id_movie) \n",
    "group by id_movie, title_movie -- id_movie est la clé des films\n",
    "order by \"difference\", \"titre\"\n",
    ";"
   ]
  },
  {
   "cell_type": "markdown",
   "metadata": {},
   "source": [
    "## Exercice 4 - Fenêtrages"
   ]
  },
  {
   "cell_type": "markdown",
   "metadata": {},
   "source": [
    "- pour chaque évaluation, retourner le nom du reviewer, le titre du film évalué, \n",
    " la note attribué au film par le reviewer et la moyenne de toutes les notes attribuées par ce reviewer."
   ]
  },
  {
   "cell_type": "code",
   "execution_count": 36,
   "metadata": {
    "vscode": {
     "languageId": "sql"
    }
   },
   "outputs": [
    {
     "data": {
      "text/html": [
       "<span style=\"None\">Running query in &#x27;pg&#x27;</span>"
      ],
      "text/plain": [
       "Running query in 'pg'"
      ]
     },
     "metadata": {},
     "output_type": "display_data"
    },
    {
     "data": {
      "text/html": [
       "<span style=\"color: green\">21 rows affected.</span>"
      ],
      "text/plain": [
       "21 rows affected."
      ]
     },
     "metadata": {},
     "output_type": "display_data"
    },
    {
     "data": {
      "text/html": [
       "<table>\n",
       "    <thead>\n",
       "        <tr>\n",
       "            <th>nom de l'évaluateur</th>\n",
       "            <th>titre du film</th>\n",
       "            <th>evaluations</th>\n",
       "            <th>moyenne des notes de cet évaluateur</th>\n",
       "        </tr>\n",
       "    </thead>\n",
       "    <tbody>\n",
       "        <tr>\n",
       "            <td>Sarah Martinez</td>\n",
       "            <td>Gone with the Wind</td>\n",
       "            <td>4</td>\n",
       "            <td>3.00</td>\n",
       "        </tr>\n",
       "        <tr>\n",
       "            <td>Sarah Martinez</td>\n",
       "            <td>Gone with the Wind</td>\n",
       "            <td>2</td>\n",
       "            <td>3.00</td>\n",
       "        </tr>\n",
       "        <tr>\n",
       "            <td>Daniel Lewis</td>\n",
       "            <td>Snow White</td>\n",
       "            <td>4</td>\n",
       "            <td>4.00</td>\n",
       "        </tr>\n",
       "        <tr>\n",
       "            <td>Brittany Harris</td>\n",
       "            <td>Raiders of the Lost Ark</td>\n",
       "            <td>2</td>\n",
       "            <td>3.00</td>\n",
       "        </tr>\n",
       "        <tr>\n",
       "            <td>Brittany Harris</td>\n",
       "            <td>Avatar</td>\n",
       "            <td>5</td>\n",
       "            <td>3.00</td>\n",
       "        </tr>\n",
       "        <tr>\n",
       "            <td>Brittany Harris</td>\n",
       "            <td>The Sound of Music</td>\n",
       "            <td>2</td>\n",
       "            <td>3.00</td>\n",
       "        </tr>\n",
       "        <tr>\n",
       "            <td>Brittany Harris</td>\n",
       "            <td>Raiders of the Lost Ark</td>\n",
       "            <td>4</td>\n",
       "            <td>3.00</td>\n",
       "        </tr>\n",
       "        <tr>\n",
       "            <td>Brittany Harris</td>\n",
       "            <td>Star Wars</td>\n",
       "            <td>3</td>\n",
       "            <td>3.00</td>\n",
       "        </tr>\n",
       "        <tr>\n",
       "            <td>Brittany Harris</td>\n",
       "            <td>Star Wars</td>\n",
       "            <td>4</td>\n",
       "            <td>3.00</td>\n",
       "        </tr>\n",
       "        <tr>\n",
       "            <td>Brittany Harris</td>\n",
       "            <td>Gone with the Wind</td>\n",
       "            <td>2</td>\n",
       "            <td>3.00</td>\n",
       "        </tr>\n",
       "        <tr>\n",
       "            <td>Brittany Harris</td>\n",
       "            <td>E.T.</td>\n",
       "            <td>2</td>\n",
       "            <td>3.00</td>\n",
       "        </tr>\n",
       "        <tr>\n",
       "            <td>Brittany Harris</td>\n",
       "            <td>Titanic</td>\n",
       "            <td>2</td>\n",
       "            <td>3.00</td>\n",
       "        </tr>\n",
       "        <tr>\n",
       "            <td>Brittany Harris</td>\n",
       "            <td>Snow White</td>\n",
       "            <td>4</td>\n",
       "            <td>3.00</td>\n",
       "        </tr>\n",
       "        <tr>\n",
       "            <td>Mike Anderson</td>\n",
       "            <td>Gone with the Wind</td>\n",
       "            <td>3</td>\n",
       "            <td>3.00</td>\n",
       "        </tr>\n",
       "        <tr>\n",
       "            <td>Chris Jackson</td>\n",
       "            <td>The Sound of Music</td>\n",
       "            <td>3</td>\n",
       "            <td>3.00</td>\n",
       "        </tr>\n",
       "        <tr>\n",
       "            <td>Chris Jackson</td>\n",
       "            <td>E.T.</td>\n",
       "            <td>2</td>\n",
       "            <td>3.00</td>\n",
       "        </tr>\n",
       "        <tr>\n",
       "            <td>Chris Jackson</td>\n",
       "            <td>Raiders of the Lost Ark</td>\n",
       "            <td>4</td>\n",
       "            <td>3.00</td>\n",
       "        </tr>\n",
       "        <tr>\n",
       "            <td>Sarah Martinez</td>\n",
       "            <td>Snow White</td>\n",
       "            <td>5</td>\n",
       "            <td>4.00</td>\n",
       "        </tr>\n",
       "        <tr>\n",
       "            <td>Sarah Martinez</td>\n",
       "            <td>Avatar</td>\n",
       "            <td>3</td>\n",
       "            <td>4.00</td>\n",
       "        </tr>\n",
       "        <tr>\n",
       "            <td>James Cameron</td>\n",
       "            <td>Avatar</td>\n",
       "            <td>5</td>\n",
       "            <td>5.00</td>\n",
       "        </tr>\n",
       "        <tr>\n",
       "            <td>Ashley White</td>\n",
       "            <td>E.T.</td>\n",
       "            <td>3</td>\n",
       "            <td>3.00</td>\n",
       "        </tr>\n",
       "    </tbody>\n",
       "</table>"
      ],
      "text/plain": [
       "+---------------------+-------------------------+-------------+-------------------------------------+\n",
       "| nom de l'évaluateur |      titre du film      | evaluations | moyenne des notes de cet évaluateur |\n",
       "+---------------------+-------------------------+-------------+-------------------------------------+\n",
       "|    Sarah Martinez   |    Gone with the Wind   |      4      |                 3.00                |\n",
       "|    Sarah Martinez   |    Gone with the Wind   |      2      |                 3.00                |\n",
       "|     Daniel Lewis    |        Snow White       |      4      |                 4.00                |\n",
       "|   Brittany Harris   | Raiders of the Lost Ark |      2      |                 3.00                |\n",
       "|   Brittany Harris   |          Avatar         |      5      |                 3.00                |\n",
       "|   Brittany Harris   |    The Sound of Music   |      2      |                 3.00                |\n",
       "|   Brittany Harris   | Raiders of the Lost Ark |      4      |                 3.00                |\n",
       "|   Brittany Harris   |        Star Wars        |      3      |                 3.00                |\n",
       "|   Brittany Harris   |        Star Wars        |      4      |                 3.00                |\n",
       "|   Brittany Harris   |    Gone with the Wind   |      2      |                 3.00                |\n",
       "|   Brittany Harris   |           E.T.          |      2      |                 3.00                |\n",
       "|   Brittany Harris   |         Titanic         |      2      |                 3.00                |\n",
       "|   Brittany Harris   |        Snow White       |      4      |                 3.00                |\n",
       "|    Mike Anderson    |    Gone with the Wind   |      3      |                 3.00                |\n",
       "|    Chris Jackson    |    The Sound of Music   |      3      |                 3.00                |\n",
       "|    Chris Jackson    |           E.T.          |      2      |                 3.00                |\n",
       "|    Chris Jackson    | Raiders of the Lost Ark |      4      |                 3.00                |\n",
       "|    Sarah Martinez   |        Snow White       |      5      |                 4.00                |\n",
       "|    Sarah Martinez   |          Avatar         |      3      |                 4.00                |\n",
       "|    James Cameron    |          Avatar         |      5      |                 5.00                |\n",
       "|     Ashley White    |           E.T.          |      3      |                 3.00                |\n",
       "+---------------------+-------------------------+-------------+-------------------------------------+"
      ]
     },
     "execution_count": 36,
     "metadata": {},
     "output_type": "execute_result"
    }
   ],
   "source": [
    "%%sql\n",
    "\n",
    "select r.name_reviewer \"nom de l'évaluateur\", \n",
    "       m.title_movie   \"titre du film\", \n",
    "       e.stars_rating  \"evaluations\", \n",
    "      round(avg( stars_rating ) over (partition by r.id_reviewer),2) \"moyenne des notes de cet évaluateur\"\n",
    "from   reviewers r\n",
    "       join ratings e using(id_reviewer)\n",
    "       join movies m using(id_movie)\n",
    ";\n"
   ]
  },
  {
   "cell_type": "markdown",
   "metadata": {},
   "source": [
    "- Pour chaque rapporteur, donnez le nombre de films rapportés, la moyenne des notes qu'il a donné, \n",
    "la plus petite et la meilleure note. ordonnez le résultat par le nombre de films rapportés."
   ]
  },
  {
   "cell_type": "code",
   "execution_count": 37,
   "metadata": {
    "vscode": {
     "languageId": "sql"
    }
   },
   "outputs": [
    {
     "data": {
      "text/html": [
       "<span style=\"None\">Running query in &#x27;pg&#x27;</span>"
      ],
      "text/plain": [
       "Running query in 'pg'"
      ]
     },
     "metadata": {},
     "output_type": "display_data"
    },
    {
     "data": {
      "text/html": [
       "<span style=\"color: green\">8 rows affected.</span>"
      ],
      "text/plain": [
       "8 rows affected."
      ]
     },
     "metadata": {},
     "output_type": "display_data"
    },
    {
     "data": {
      "text/html": [
       "<table>\n",
       "    <thead>\n",
       "        <tr>\n",
       "            <th>nom de l'évaluateur</th>\n",
       "            <th>nombre de films rapportés</th>\n",
       "            <th>moyenne des notes</th>\n",
       "            <th>note maximale</th>\n",
       "            <th>note minimale</th>\n",
       "        </tr>\n",
       "    </thead>\n",
       "    <tbody>\n",
       "        <tr>\n",
       "            <td>Ashley White</td>\n",
       "            <td>1</td>\n",
       "            <td>3.00</td>\n",
       "            <td>3</td>\n",
       "            <td>3</td>\n",
       "        </tr>\n",
       "        <tr>\n",
       "            <td>Daniel Lewis</td>\n",
       "            <td>1</td>\n",
       "            <td>4.00</td>\n",
       "            <td>4</td>\n",
       "            <td>4</td>\n",
       "        </tr>\n",
       "        <tr>\n",
       "            <td>James Cameron</td>\n",
       "            <td>1</td>\n",
       "            <td>5.00</td>\n",
       "            <td>5</td>\n",
       "            <td>5</td>\n",
       "        </tr>\n",
       "        <tr>\n",
       "            <td>Mike Anderson</td>\n",
       "            <td>1</td>\n",
       "            <td>3.00</td>\n",
       "            <td>3</td>\n",
       "            <td>3</td>\n",
       "        </tr>\n",
       "        <tr>\n",
       "            <td>Sarah Martinez</td>\n",
       "            <td>2</td>\n",
       "            <td>3.00</td>\n",
       "            <td>4</td>\n",
       "            <td>2</td>\n",
       "        </tr>\n",
       "        <tr>\n",
       "            <td>Sarah Martinez</td>\n",
       "            <td>2</td>\n",
       "            <td>4.00</td>\n",
       "            <td>5</td>\n",
       "            <td>3</td>\n",
       "        </tr>\n",
       "        <tr>\n",
       "            <td>Chris Jackson</td>\n",
       "            <td>3</td>\n",
       "            <td>3.00</td>\n",
       "            <td>4</td>\n",
       "            <td>2</td>\n",
       "        </tr>\n",
       "        <tr>\n",
       "            <td>Brittany Harris</td>\n",
       "            <td>10</td>\n",
       "            <td>3.00</td>\n",
       "            <td>5</td>\n",
       "            <td>2</td>\n",
       "        </tr>\n",
       "    </tbody>\n",
       "</table>"
      ],
      "text/plain": [
       "+---------------------+---------------------------+-------------------+---------------+---------------+\n",
       "| nom de l'évaluateur | nombre de films rapportés | moyenne des notes | note maximale | note minimale |\n",
       "+---------------------+---------------------------+-------------------+---------------+---------------+\n",
       "|     Ashley White    |             1             |        3.00       |       3       |       3       |\n",
       "|     Daniel Lewis    |             1             |        4.00       |       4       |       4       |\n",
       "|    James Cameron    |             1             |        5.00       |       5       |       5       |\n",
       "|    Mike Anderson    |             1             |        3.00       |       3       |       3       |\n",
       "|    Sarah Martinez   |             2             |        3.00       |       4       |       2       |\n",
       "|    Sarah Martinez   |             2             |        4.00       |       5       |       3       |\n",
       "|    Chris Jackson    |             3             |        3.00       |       4       |       2       |\n",
       "|   Brittany Harris   |             10            |        3.00       |       5       |       2       |\n",
       "+---------------------+---------------------------+-------------------+---------------+---------------+"
      ]
     },
     "execution_count": 37,
     "metadata": {},
     "output_type": "execute_result"
    }
   ],
   "source": [
    "%%sql\n",
    "\n",
    "      \n",
    "select distinct re.name_reviewer  \"nom de l'évaluateur\", \n",
    "        count(*) over w           \"nombre de films rapportés\", \n",
    "        round(avg(stars_rating) over w,2)  \"moyenne des notes\", \n",
    "        max(stars_rating) over w  \"note maximale\", \n",
    "        min(stars_rating) over w  \"note minimale\"\n",
    "from    reviewers re \n",
    "        join ratings ra using (id_reviewer)\n",
    "window w as (partition by re.id_reviewer)\n",
    "order by \"nombre de films rapportés\";\n"
   ]
  },
  {
   "cell_type": "markdown",
   "metadata": {},
   "source": [
    "- pour chaque film, afficher sa note moyenne et son rang de classement dans l'ordre des notes moyennes parmi l'ensemble des films."
   ]
  },
  {
   "cell_type": "code",
   "execution_count": 38,
   "metadata": {
    "vscode": {
     "languageId": "sql"
    }
   },
   "outputs": [
    {
     "data": {
      "text/html": [
       "<span style=\"None\">Running query in &#x27;pg&#x27;</span>"
      ],
      "text/plain": [
       "Running query in 'pg'"
      ]
     },
     "metadata": {},
     "output_type": "display_data"
    },
    {
     "data": {
      "text/html": [
       "<span style=\"color: green\">9 rows affected.</span>"
      ],
      "text/plain": [
       "9 rows affected."
      ]
     },
     "metadata": {},
     "output_type": "display_data"
    },
    {
     "data": {
      "text/html": [
       "<table>\n",
       "    <thead>\n",
       "        <tr>\n",
       "            <th>titre</th>\n",
       "            <th>moyenne</th>\n",
       "            <th>rang</th>\n",
       "        </tr>\n",
       "    </thead>\n",
       "    <tbody>\n",
       "        <tr>\n",
       "            <td>Avatar</td>\n",
       "            <td>4.33</td>\n",
       "            <td>1</td>\n",
       "        </tr>\n",
       "        <tr>\n",
       "            <td>Snow White</td>\n",
       "            <td>4.33</td>\n",
       "            <td>1</td>\n",
       "        </tr>\n",
       "        <tr>\n",
       "            <td>Star Wars</td>\n",
       "            <td>4.00</td>\n",
       "            <td>3</td>\n",
       "        </tr>\n",
       "        <tr>\n",
       "            <td>Raiders of the Lost Ark</td>\n",
       "            <td>3.33</td>\n",
       "            <td>4</td>\n",
       "        </tr>\n",
       "        <tr>\n",
       "            <td>Star Wars</td>\n",
       "            <td>3.00</td>\n",
       "            <td>5</td>\n",
       "        </tr>\n",
       "        <tr>\n",
       "            <td>Gone with the Wind</td>\n",
       "            <td>2.75</td>\n",
       "            <td>6</td>\n",
       "        </tr>\n",
       "        <tr>\n",
       "            <td>The Sound of Music</td>\n",
       "            <td>2.50</td>\n",
       "            <td>7</td>\n",
       "        </tr>\n",
       "        <tr>\n",
       "            <td>E.T.</td>\n",
       "            <td>2.33</td>\n",
       "            <td>8</td>\n",
       "        </tr>\n",
       "        <tr>\n",
       "            <td>Titanic</td>\n",
       "            <td>2.00</td>\n",
       "            <td>9</td>\n",
       "        </tr>\n",
       "    </tbody>\n",
       "</table>"
      ],
      "text/plain": [
       "+-------------------------+---------+------+\n",
       "|          titre          | moyenne | rang |\n",
       "+-------------------------+---------+------+\n",
       "|          Avatar         |   4.33  |  1   |\n",
       "|        Snow White       |   4.33  |  1   |\n",
       "|        Star Wars        |   4.00  |  3   |\n",
       "| Raiders of the Lost Ark |   3.33  |  4   |\n",
       "|        Star Wars        |   3.00  |  5   |\n",
       "|    Gone with the Wind   |   2.75  |  6   |\n",
       "|    The Sound of Music   |   2.50  |  7   |\n",
       "|           E.T.          |   2.33  |  8   |\n",
       "|         Titanic         |   2.00  |  9   |\n",
       "+-------------------------+---------+------+"
      ]
     },
     "execution_count": 38,
     "metadata": {},
     "output_type": "execute_result"
    }
   ],
   "source": [
    "%%sql\n",
    "\n",
    "\n",
    "select title_movie                                   \"titre\",\n",
    "       round(avg(stars_rating) ,2)                   \"moyenne\",\n",
    "       rank() over (order by avg(stars_rating) desc) \"rang\"\n",
    "from ratings r \n",
    "     join movies m using(id_movie)\n",
    "group by id_movie, title_movie;\n"
   ]
  },
  {
   "cell_type": "markdown",
   "metadata": {},
   "source": [
    "- Pour chaque rapporteur, et chaque film qu'il a évalué, afficher la meilleure note qu'il a donné à ce film, \n",
    "ainsi que la moyenne de toutes les notes qui ont été données à ce film. la réponse sera ordonnée par nom de rapporteur et titre de film."
   ]
  },
  {
   "cell_type": "code",
   "execution_count": 39,
   "metadata": {
    "vscode": {
     "languageId": "sql"
    }
   },
   "outputs": [
    {
     "data": {
      "text/html": [
       "<span style=\"None\">Running query in &#x27;pg&#x27;</span>"
      ],
      "text/plain": [
       "Running query in 'pg'"
      ]
     },
     "metadata": {},
     "output_type": "display_data"
    },
    {
     "data": {
      "text/html": [
       "<span style=\"color: green\">19 rows affected.</span>"
      ],
      "text/plain": [
       "19 rows affected."
      ]
     },
     "metadata": {},
     "output_type": "display_data"
    },
    {
     "data": {
      "text/html": [
       "<table>\n",
       "    <thead>\n",
       "        <tr>\n",
       "            <th>nom de l'évaluateur</th>\n",
       "            <th>titre du film</th>\n",
       "            <th>meilleure note de cet évaluateur pour ce film</th>\n",
       "            <th>moyenne de toutes les notes pour ce film</th>\n",
       "        </tr>\n",
       "    </thead>\n",
       "    <tbody>\n",
       "        <tr>\n",
       "            <td>Ashley White</td>\n",
       "            <td>E.T.</td>\n",
       "            <td>3</td>\n",
       "            <td>2.33</td>\n",
       "        </tr>\n",
       "        <tr>\n",
       "            <td>Brittany Harris</td>\n",
       "            <td>Avatar</td>\n",
       "            <td>5</td>\n",
       "            <td>4.33</td>\n",
       "        </tr>\n",
       "        <tr>\n",
       "            <td>Brittany Harris</td>\n",
       "            <td>E.T.</td>\n",
       "            <td>2</td>\n",
       "            <td>2.33</td>\n",
       "        </tr>\n",
       "        <tr>\n",
       "            <td>Brittany Harris</td>\n",
       "            <td>Gone with the Wind</td>\n",
       "            <td>2</td>\n",
       "            <td>2.75</td>\n",
       "        </tr>\n",
       "        <tr>\n",
       "            <td>Brittany Harris</td>\n",
       "            <td>Raiders of the Lost Ark</td>\n",
       "            <td>4</td>\n",
       "            <td>3.33</td>\n",
       "        </tr>\n",
       "        <tr>\n",
       "            <td>Brittany Harris</td>\n",
       "            <td>Snow White</td>\n",
       "            <td>4</td>\n",
       "            <td>4.33</td>\n",
       "        </tr>\n",
       "        <tr>\n",
       "            <td>Brittany Harris</td>\n",
       "            <td>Star Wars</td>\n",
       "            <td>3</td>\n",
       "            <td>3.00</td>\n",
       "        </tr>\n",
       "        <tr>\n",
       "            <td>Brittany Harris</td>\n",
       "            <td>Star Wars</td>\n",
       "            <td>4</td>\n",
       "            <td>4.00</td>\n",
       "        </tr>\n",
       "        <tr>\n",
       "            <td>Brittany Harris</td>\n",
       "            <td>The Sound of Music</td>\n",
       "            <td>2</td>\n",
       "            <td>2.50</td>\n",
       "        </tr>\n",
       "        <tr>\n",
       "            <td>Brittany Harris</td>\n",
       "            <td>Titanic</td>\n",
       "            <td>2</td>\n",
       "            <td>2.00</td>\n",
       "        </tr>\n",
       "        <tr>\n",
       "            <td>Chris Jackson</td>\n",
       "            <td>E.T.</td>\n",
       "            <td>2</td>\n",
       "            <td>2.33</td>\n",
       "        </tr>\n",
       "        <tr>\n",
       "            <td>Chris Jackson</td>\n",
       "            <td>Raiders of the Lost Ark</td>\n",
       "            <td>4</td>\n",
       "            <td>3.33</td>\n",
       "        </tr>\n",
       "        <tr>\n",
       "            <td>Chris Jackson</td>\n",
       "            <td>The Sound of Music</td>\n",
       "            <td>3</td>\n",
       "            <td>2.50</td>\n",
       "        </tr>\n",
       "        <tr>\n",
       "            <td>Daniel Lewis</td>\n",
       "            <td>Snow White</td>\n",
       "            <td>4</td>\n",
       "            <td>4.33</td>\n",
       "        </tr>\n",
       "        <tr>\n",
       "            <td>James Cameron</td>\n",
       "            <td>Avatar</td>\n",
       "            <td>5</td>\n",
       "            <td>4.33</td>\n",
       "        </tr>\n",
       "        <tr>\n",
       "            <td>Mike Anderson</td>\n",
       "            <td>Gone with the Wind</td>\n",
       "            <td>3</td>\n",
       "            <td>2.75</td>\n",
       "        </tr>\n",
       "        <tr>\n",
       "            <td>Sarah Martinez</td>\n",
       "            <td>Avatar</td>\n",
       "            <td>3</td>\n",
       "            <td>4.33</td>\n",
       "        </tr>\n",
       "        <tr>\n",
       "            <td>Sarah Martinez</td>\n",
       "            <td>Gone with the Wind</td>\n",
       "            <td>4</td>\n",
       "            <td>2.75</td>\n",
       "        </tr>\n",
       "        <tr>\n",
       "            <td>Sarah Martinez</td>\n",
       "            <td>Snow White</td>\n",
       "            <td>5</td>\n",
       "            <td>4.33</td>\n",
       "        </tr>\n",
       "    </tbody>\n",
       "</table>"
      ],
      "text/plain": [
       "+---------------------+-------------------------+-----------------------------------------------+------------------------------------------+\n",
       "| nom de l'évaluateur |      titre du film      | meilleure note de cet évaluateur pour ce film | moyenne de toutes les notes pour ce film |\n",
       "+---------------------+-------------------------+-----------------------------------------------+------------------------------------------+\n",
       "|     Ashley White    |           E.T.          |                       3                       |                   2.33                   |\n",
       "|   Brittany Harris   |          Avatar         |                       5                       |                   4.33                   |\n",
       "|   Brittany Harris   |           E.T.          |                       2                       |                   2.33                   |\n",
       "|   Brittany Harris   |    Gone with the Wind   |                       2                       |                   2.75                   |\n",
       "|   Brittany Harris   | Raiders of the Lost Ark |                       4                       |                   3.33                   |\n",
       "|   Brittany Harris   |        Snow White       |                       4                       |                   4.33                   |\n",
       "|   Brittany Harris   |        Star Wars        |                       3                       |                   3.00                   |\n",
       "|   Brittany Harris   |        Star Wars        |                       4                       |                   4.00                   |\n",
       "|   Brittany Harris   |    The Sound of Music   |                       2                       |                   2.50                   |\n",
       "|   Brittany Harris   |         Titanic         |                       2                       |                   2.00                   |\n",
       "|    Chris Jackson    |           E.T.          |                       2                       |                   2.33                   |\n",
       "|    Chris Jackson    | Raiders of the Lost Ark |                       4                       |                   3.33                   |\n",
       "|    Chris Jackson    |    The Sound of Music   |                       3                       |                   2.50                   |\n",
       "|     Daniel Lewis    |        Snow White       |                       4                       |                   4.33                   |\n",
       "|    James Cameron    |          Avatar         |                       5                       |                   4.33                   |\n",
       "|    Mike Anderson    |    Gone with the Wind   |                       3                       |                   2.75                   |\n",
       "|    Sarah Martinez   |          Avatar         |                       3                       |                   4.33                   |\n",
       "|    Sarah Martinez   |    Gone with the Wind   |                       4                       |                   2.75                   |\n",
       "|    Sarah Martinez   |        Snow White       |                       5                       |                   4.33                   |\n",
       "+---------------------+-------------------------+-----------------------------------------------+------------------------------------------+"
      ]
     },
     "execution_count": 39,
     "metadata": {},
     "output_type": "execute_result"
    }
   ],
   "source": [
    "%%sql\n",
    "\n",
    "select distinct re.name_reviewer  \"nom de l'évaluateur\", \n",
    "                m.title_movie    \"titre du film\", \n",
    "                max(ra.stars_rating) over (partition by re.id_reviewer,m.id_movie) \"meilleure note de cet évaluateur pour ce film\",\n",
    "                round(avg(ra.stars_rating) over (partition by id_movie),2) \"moyenne de toutes les notes pour ce film\"\n",
    "from reviewers re\n",
    "     join ratings ra using (id_reviewer) \n",
    "     join movies m using (id_movie)\n",
    "order by \"nom de l'évaluateur\",\"titre du film\";"
   ]
  },
  {
   "cell_type": "markdown",
   "metadata": {},
   "source": [
    "## Exercice 5 - parcours de cubes "
   ]
  },
  {
   "cell_type": "markdown",
   "metadata": {},
   "source": [
    "- la moyenne des notes pour chaque rapporteur, ainsi que pour chaque film qu'il a rapporté."
   ]
  },
  {
   "cell_type": "code",
   "execution_count": 40,
   "metadata": {
    "vscode": {
     "languageId": "sql"
    }
   },
   "outputs": [
    {
     "data": {
      "text/html": [
       "<span style=\"None\">Running query in &#x27;pg&#x27;</span>"
      ],
      "text/plain": [
       "Running query in 'pg'"
      ]
     },
     "metadata": {},
     "output_type": "display_data"
    },
    {
     "data": {
      "text/html": [
       "<span style=\"color: green\">27 rows affected.</span>"
      ],
      "text/plain": [
       "27 rows affected."
      ]
     },
     "metadata": {},
     "output_type": "display_data"
    },
    {
     "data": {
      "text/html": [
       "<table>\n",
       "    <thead>\n",
       "        <tr>\n",
       "            <th>évaluateur</th>\n",
       "            <th>titre de film</th>\n",
       "            <th>moyenne donnée</th>\n",
       "        </tr>\n",
       "    </thead>\n",
       "    <tbody>\n",
       "        <tr>\n",
       "            <td>Ashley White</td>\n",
       "            <td>E.T.</td>\n",
       "            <td>3.00</td>\n",
       "        </tr>\n",
       "        <tr>\n",
       "            <td>Ashley White</td>\n",
       "            <td>None</td>\n",
       "            <td>3.00</td>\n",
       "        </tr>\n",
       "        <tr>\n",
       "            <td>Brittany Harris</td>\n",
       "            <td>Avatar</td>\n",
       "            <td>5.00</td>\n",
       "        </tr>\n",
       "        <tr>\n",
       "            <td>Brittany Harris</td>\n",
       "            <td>E.T.</td>\n",
       "            <td>2.00</td>\n",
       "        </tr>\n",
       "        <tr>\n",
       "            <td>Brittany Harris</td>\n",
       "            <td>Gone with the Wind</td>\n",
       "            <td>2.00</td>\n",
       "        </tr>\n",
       "        <tr>\n",
       "            <td>Brittany Harris</td>\n",
       "            <td>Raiders of the Lost Ark</td>\n",
       "            <td>3.00</td>\n",
       "        </tr>\n",
       "        <tr>\n",
       "            <td>Brittany Harris</td>\n",
       "            <td>Snow White</td>\n",
       "            <td>4.00</td>\n",
       "        </tr>\n",
       "        <tr>\n",
       "            <td>Brittany Harris</td>\n",
       "            <td>Star Wars</td>\n",
       "            <td>3.00</td>\n",
       "        </tr>\n",
       "        <tr>\n",
       "            <td>Brittany Harris</td>\n",
       "            <td>Star Wars</td>\n",
       "            <td>4.00</td>\n",
       "        </tr>\n",
       "        <tr>\n",
       "            <td>Brittany Harris</td>\n",
       "            <td>The Sound of Music</td>\n",
       "            <td>2.00</td>\n",
       "        </tr>\n",
       "        <tr>\n",
       "            <td>Brittany Harris</td>\n",
       "            <td>Titanic</td>\n",
       "            <td>2.00</td>\n",
       "        </tr>\n",
       "        <tr>\n",
       "            <td>Brittany Harris</td>\n",
       "            <td>None</td>\n",
       "            <td>3.00</td>\n",
       "        </tr>\n",
       "        <tr>\n",
       "            <td>Chris Jackson</td>\n",
       "            <td>E.T.</td>\n",
       "            <td>2.00</td>\n",
       "        </tr>\n",
       "        <tr>\n",
       "            <td>Chris Jackson</td>\n",
       "            <td>Raiders of the Lost Ark</td>\n",
       "            <td>4.00</td>\n",
       "        </tr>\n",
       "        <tr>\n",
       "            <td>Chris Jackson</td>\n",
       "            <td>The Sound of Music</td>\n",
       "            <td>3.00</td>\n",
       "        </tr>\n",
       "        <tr>\n",
       "            <td>Chris Jackson</td>\n",
       "            <td>None</td>\n",
       "            <td>3.00</td>\n",
       "        </tr>\n",
       "        <tr>\n",
       "            <td>Daniel Lewis</td>\n",
       "            <td>Snow White</td>\n",
       "            <td>4.00</td>\n",
       "        </tr>\n",
       "        <tr>\n",
       "            <td>Daniel Lewis</td>\n",
       "            <td>None</td>\n",
       "            <td>4.00</td>\n",
       "        </tr>\n",
       "        <tr>\n",
       "            <td>James Cameron</td>\n",
       "            <td>Avatar</td>\n",
       "            <td>5.00</td>\n",
       "        </tr>\n",
       "        <tr>\n",
       "            <td>James Cameron</td>\n",
       "            <td>None</td>\n",
       "            <td>5.00</td>\n",
       "        </tr>\n",
       "        <tr>\n",
       "            <td>Mike Anderson</td>\n",
       "            <td>Gone with the Wind</td>\n",
       "            <td>3.00</td>\n",
       "        </tr>\n",
       "        <tr>\n",
       "            <td>Mike Anderson</td>\n",
       "            <td>None</td>\n",
       "            <td>3.00</td>\n",
       "        </tr>\n",
       "        <tr>\n",
       "            <td>Sarah Martinez</td>\n",
       "            <td>Avatar</td>\n",
       "            <td>3.00</td>\n",
       "        </tr>\n",
       "        <tr>\n",
       "            <td>Sarah Martinez</td>\n",
       "            <td>Gone with the Wind</td>\n",
       "            <td>3.00</td>\n",
       "        </tr>\n",
       "        <tr>\n",
       "            <td>Sarah Martinez</td>\n",
       "            <td>Snow White</td>\n",
       "            <td>5.00</td>\n",
       "        </tr>\n",
       "        <tr>\n",
       "            <td>Sarah Martinez</td>\n",
       "            <td>None</td>\n",
       "            <td>3.00</td>\n",
       "        </tr>\n",
       "        <tr>\n",
       "            <td>Sarah Martinez</td>\n",
       "            <td>None</td>\n",
       "            <td>4.00</td>\n",
       "        </tr>\n",
       "    </tbody>\n",
       "</table>"
      ],
      "text/plain": [
       "+-----------------+-------------------------+----------------+\n",
       "|    évaluateur   |      titre de film      | moyenne donnée |\n",
       "+-----------------+-------------------------+----------------+\n",
       "|   Ashley White  |           E.T.          |      3.00      |\n",
       "|   Ashley White  |           None          |      3.00      |\n",
       "| Brittany Harris |          Avatar         |      5.00      |\n",
       "| Brittany Harris |           E.T.          |      2.00      |\n",
       "| Brittany Harris |    Gone with the Wind   |      2.00      |\n",
       "| Brittany Harris | Raiders of the Lost Ark |      3.00      |\n",
       "| Brittany Harris |        Snow White       |      4.00      |\n",
       "| Brittany Harris |        Star Wars        |      3.00      |\n",
       "| Brittany Harris |        Star Wars        |      4.00      |\n",
       "| Brittany Harris |    The Sound of Music   |      2.00      |\n",
       "| Brittany Harris |         Titanic         |      2.00      |\n",
       "| Brittany Harris |           None          |      3.00      |\n",
       "|  Chris Jackson  |           E.T.          |      2.00      |\n",
       "|  Chris Jackson  | Raiders of the Lost Ark |      4.00      |\n",
       "|  Chris Jackson  |    The Sound of Music   |      3.00      |\n",
       "|  Chris Jackson  |           None          |      3.00      |\n",
       "|   Daniel Lewis  |        Snow White       |      4.00      |\n",
       "|   Daniel Lewis  |           None          |      4.00      |\n",
       "|  James Cameron  |          Avatar         |      5.00      |\n",
       "|  James Cameron  |           None          |      5.00      |\n",
       "|  Mike Anderson  |    Gone with the Wind   |      3.00      |\n",
       "|  Mike Anderson  |           None          |      3.00      |\n",
       "|  Sarah Martinez |          Avatar         |      3.00      |\n",
       "|  Sarah Martinez |    Gone with the Wind   |      3.00      |\n",
       "|  Sarah Martinez |        Snow White       |      5.00      |\n",
       "|  Sarah Martinez |           None          |      3.00      |\n",
       "|  Sarah Martinez |           None          |      4.00      |\n",
       "+-----------------+-------------------------+----------------+"
      ]
     },
     "execution_count": 40,
     "metadata": {},
     "output_type": "execute_result"
    }
   ],
   "source": [
    "%%sql\n",
    "\n",
    "select name_reviewer     \"évaluateur\",\n",
    "       title_movie       \"titre de film\", \n",
    "       round(avg(stars_rating),2) \"moyenne donnée\"\n",
    "from reviewers re \n",
    "     join ratings ra using (id_reviewer) \n",
    "     join movies m using (id_movie)\n",
    "group by grouping sets ((re.id_reviewer),(re.id_reviewer,m.id_movie,title_movie))\n",
    "order by \"évaluateur\", \"titre de film\", \"moyenne donnée\";\n"
   ]
  },
  {
   "cell_type": "markdown",
   "metadata": {},
   "source": [
    "- même question, mais pour les lignes correspondant à tous les films d'un rapporteur, \n",
    "remplacer la valeur null par \"tous les films\" (utilisation de la fonction \"coalesce\")."
   ]
  },
  {
   "cell_type": "code",
   "execution_count": 41,
   "metadata": {
    "vscode": {
     "languageId": "sql"
    }
   },
   "outputs": [
    {
     "data": {
      "text/html": [
       "<span style=\"None\">Running query in &#x27;pg&#x27;</span>"
      ],
      "text/plain": [
       "Running query in 'pg'"
      ]
     },
     "metadata": {},
     "output_type": "display_data"
    },
    {
     "data": {
      "text/html": [
       "<span style=\"color: green\">27 rows affected.</span>"
      ],
      "text/plain": [
       "27 rows affected."
      ]
     },
     "metadata": {},
     "output_type": "display_data"
    },
    {
     "data": {
      "text/html": [
       "<table>\n",
       "    <thead>\n",
       "        <tr>\n",
       "            <th>evaluateur</th>\n",
       "            <th>titre</th>\n",
       "            <th>moyenne</th>\n",
       "        </tr>\n",
       "    </thead>\n",
       "    <tbody>\n",
       "        <tr>\n",
       "            <td>Ashley White</td>\n",
       "            <td>E.T.</td>\n",
       "            <td>3.00</td>\n",
       "        </tr>\n",
       "        <tr>\n",
       "            <td>Ashley White</td>\n",
       "            <td>Tous les films</td>\n",
       "            <td>3.00</td>\n",
       "        </tr>\n",
       "        <tr>\n",
       "            <td>Brittany Harris</td>\n",
       "            <td>Avatar</td>\n",
       "            <td>5.00</td>\n",
       "        </tr>\n",
       "        <tr>\n",
       "            <td>Brittany Harris</td>\n",
       "            <td>E.T.</td>\n",
       "            <td>2.00</td>\n",
       "        </tr>\n",
       "        <tr>\n",
       "            <td>Brittany Harris</td>\n",
       "            <td>Gone with the Wind</td>\n",
       "            <td>2.00</td>\n",
       "        </tr>\n",
       "        <tr>\n",
       "            <td>Brittany Harris</td>\n",
       "            <td>Raiders of the Lost Ark</td>\n",
       "            <td>3.00</td>\n",
       "        </tr>\n",
       "        <tr>\n",
       "            <td>Brittany Harris</td>\n",
       "            <td>Snow White</td>\n",
       "            <td>4.00</td>\n",
       "        </tr>\n",
       "        <tr>\n",
       "            <td>Brittany Harris</td>\n",
       "            <td>Star Wars</td>\n",
       "            <td>3.00</td>\n",
       "        </tr>\n",
       "        <tr>\n",
       "            <td>Brittany Harris</td>\n",
       "            <td>Star Wars</td>\n",
       "            <td>4.00</td>\n",
       "        </tr>\n",
       "        <tr>\n",
       "            <td>Brittany Harris</td>\n",
       "            <td>The Sound of Music</td>\n",
       "            <td>2.00</td>\n",
       "        </tr>\n",
       "        <tr>\n",
       "            <td>Brittany Harris</td>\n",
       "            <td>Titanic</td>\n",
       "            <td>2.00</td>\n",
       "        </tr>\n",
       "        <tr>\n",
       "            <td>Brittany Harris</td>\n",
       "            <td>Tous les films</td>\n",
       "            <td>3.00</td>\n",
       "        </tr>\n",
       "        <tr>\n",
       "            <td>Chris Jackson</td>\n",
       "            <td>E.T.</td>\n",
       "            <td>2.00</td>\n",
       "        </tr>\n",
       "        <tr>\n",
       "            <td>Chris Jackson</td>\n",
       "            <td>Raiders of the Lost Ark</td>\n",
       "            <td>4.00</td>\n",
       "        </tr>\n",
       "        <tr>\n",
       "            <td>Chris Jackson</td>\n",
       "            <td>The Sound of Music</td>\n",
       "            <td>3.00</td>\n",
       "        </tr>\n",
       "        <tr>\n",
       "            <td>Chris Jackson</td>\n",
       "            <td>Tous les films</td>\n",
       "            <td>3.00</td>\n",
       "        </tr>\n",
       "        <tr>\n",
       "            <td>Daniel Lewis</td>\n",
       "            <td>Snow White</td>\n",
       "            <td>4.00</td>\n",
       "        </tr>\n",
       "        <tr>\n",
       "            <td>Daniel Lewis</td>\n",
       "            <td>Tous les films</td>\n",
       "            <td>4.00</td>\n",
       "        </tr>\n",
       "        <tr>\n",
       "            <td>James Cameron</td>\n",
       "            <td>Avatar</td>\n",
       "            <td>5.00</td>\n",
       "        </tr>\n",
       "        <tr>\n",
       "            <td>James Cameron</td>\n",
       "            <td>Tous les films</td>\n",
       "            <td>5.00</td>\n",
       "        </tr>\n",
       "        <tr>\n",
       "            <td>Mike Anderson</td>\n",
       "            <td>Gone with the Wind</td>\n",
       "            <td>3.00</td>\n",
       "        </tr>\n",
       "        <tr>\n",
       "            <td>Mike Anderson</td>\n",
       "            <td>Tous les films</td>\n",
       "            <td>3.00</td>\n",
       "        </tr>\n",
       "        <tr>\n",
       "            <td>Sarah Martinez</td>\n",
       "            <td>Avatar</td>\n",
       "            <td>3.00</td>\n",
       "        </tr>\n",
       "        <tr>\n",
       "            <td>Sarah Martinez</td>\n",
       "            <td>Gone with the Wind</td>\n",
       "            <td>3.00</td>\n",
       "        </tr>\n",
       "        <tr>\n",
       "            <td>Sarah Martinez</td>\n",
       "            <td>Snow White</td>\n",
       "            <td>5.00</td>\n",
       "        </tr>\n",
       "        <tr>\n",
       "            <td>Sarah Martinez</td>\n",
       "            <td>Tous les films</td>\n",
       "            <td>3.00</td>\n",
       "        </tr>\n",
       "        <tr>\n",
       "            <td>Sarah Martinez</td>\n",
       "            <td>Tous les films</td>\n",
       "            <td>4.00</td>\n",
       "        </tr>\n",
       "    </tbody>\n",
       "</table>"
      ],
      "text/plain": [
       "+-----------------+-------------------------+---------+\n",
       "|    evaluateur   |          titre          | moyenne |\n",
       "+-----------------+-------------------------+---------+\n",
       "|   Ashley White  |           E.T.          |   3.00  |\n",
       "|   Ashley White  |      Tous les films     |   3.00  |\n",
       "| Brittany Harris |          Avatar         |   5.00  |\n",
       "| Brittany Harris |           E.T.          |   2.00  |\n",
       "| Brittany Harris |    Gone with the Wind   |   2.00  |\n",
       "| Brittany Harris | Raiders of the Lost Ark |   3.00  |\n",
       "| Brittany Harris |        Snow White       |   4.00  |\n",
       "| Brittany Harris |        Star Wars        |   3.00  |\n",
       "| Brittany Harris |        Star Wars        |   4.00  |\n",
       "| Brittany Harris |    The Sound of Music   |   2.00  |\n",
       "| Brittany Harris |         Titanic         |   2.00  |\n",
       "| Brittany Harris |      Tous les films     |   3.00  |\n",
       "|  Chris Jackson  |           E.T.          |   2.00  |\n",
       "|  Chris Jackson  | Raiders of the Lost Ark |   4.00  |\n",
       "|  Chris Jackson  |    The Sound of Music   |   3.00  |\n",
       "|  Chris Jackson  |      Tous les films     |   3.00  |\n",
       "|   Daniel Lewis  |        Snow White       |   4.00  |\n",
       "|   Daniel Lewis  |      Tous les films     |   4.00  |\n",
       "|  James Cameron  |          Avatar         |   5.00  |\n",
       "|  James Cameron  |      Tous les films     |   5.00  |\n",
       "|  Mike Anderson  |    Gone with the Wind   |   3.00  |\n",
       "|  Mike Anderson  |      Tous les films     |   3.00  |\n",
       "|  Sarah Martinez |          Avatar         |   3.00  |\n",
       "|  Sarah Martinez |    Gone with the Wind   |   3.00  |\n",
       "|  Sarah Martinez |        Snow White       |   5.00  |\n",
       "|  Sarah Martinez |      Tous les films     |   3.00  |\n",
       "|  Sarah Martinez |      Tous les films     |   4.00  |\n",
       "+-----------------+-------------------------+---------+"
      ]
     },
     "execution_count": 41,
     "metadata": {},
     "output_type": "execute_result"
    }
   ],
   "source": [
    "%%sql\n",
    "\n",
    "select name_reviewer                            \"evaluateur\", \n",
    "       coalesce(title_movie, 'Tous les films') \"titre\", --affiche le titre du film, et si null 'tous les films'\n",
    "       round(avg(stars_rating),2)                        \"moyenne\"\n",
    "from reviewers re \n",
    "     join ratings ra using(id_reviewer) \n",
    "     join movies m using (id_movie)\n",
    "group by grouping sets ((re.id_reviewer),(re.id_reviewer,m.id_movie,title_movie))\n",
    "order by \"evaluateur\", \"titre\", \"moyenne\";\n"
   ]
  },
  {
   "cell_type": "markdown",
   "metadata": {},
   "source": [
    "- Analyser la moyenne des notes selon les trois dimensions film, rapporteur et année d'évaluation. \n",
    "le résultat devra être défini sur les attributs titre du film, nom du rapporteur et année.\n"
   ]
  },
  {
   "cell_type": "code",
   "execution_count": 42,
   "metadata": {
    "vscode": {
     "languageId": "sql"
    }
   },
   "outputs": [
    {
     "data": {
      "text/html": [
       "<span style=\"None\">Running query in &#x27;pg&#x27;</span>"
      ],
      "text/plain": [
       "Running query in 'pg'"
      ]
     },
     "metadata": {},
     "output_type": "display_data"
    },
    {
     "data": {
      "text/html": [
       "<span style=\"color: green\">95 rows affected.</span>"
      ],
      "text/plain": [
       "95 rows affected."
      ]
     },
     "metadata": {},
     "output_type": "display_data"
    },
    {
     "data": {
      "text/html": [
       "<table>\n",
       "    <thead>\n",
       "        <tr>\n",
       "            <th>evaluateur</th>\n",
       "            <th>titre du film</th>\n",
       "            <th>année d'évaluation</th>\n",
       "            <th>moyenne</th>\n",
       "        </tr>\n",
       "    </thead>\n",
       "    <tbody>\n",
       "        <tr>\n",
       "            <td>Ashley White</td>\n",
       "            <td>E.T.</td>\n",
       "            <td> toutes les annees</td>\n",
       "            <td>3</td>\n",
       "        </tr>\n",
       "        <tr>\n",
       "            <td>Ashley White</td>\n",
       "            <td>E.T.</td>\n",
       "            <td>2021</td>\n",
       "            <td>3</td>\n",
       "        </tr>\n",
       "        <tr>\n",
       "            <td>Ashley White</td>\n",
       "            <td>Tous les films</td>\n",
       "            <td> toutes les annees</td>\n",
       "            <td>3</td>\n",
       "        </tr>\n",
       "        <tr>\n",
       "            <td>Ashley White</td>\n",
       "            <td>Tous les films</td>\n",
       "            <td>2021</td>\n",
       "            <td>3</td>\n",
       "        </tr>\n",
       "        <tr>\n",
       "            <td>Brittany Harris</td>\n",
       "            <td>Avatar</td>\n",
       "            <td> toutes les annees</td>\n",
       "            <td>5</td>\n",
       "        </tr>\n",
       "        <tr>\n",
       "            <td>Brittany Harris</td>\n",
       "            <td>Avatar</td>\n",
       "            <td>2011</td>\n",
       "            <td>5</td>\n",
       "        </tr>\n",
       "        <tr>\n",
       "            <td>Brittany Harris</td>\n",
       "            <td>E.T.</td>\n",
       "            <td> toutes les annees</td>\n",
       "            <td>2</td>\n",
       "        </tr>\n",
       "        <tr>\n",
       "            <td>Brittany Harris</td>\n",
       "            <td>E.T.</td>\n",
       "            <td>2011</td>\n",
       "            <td>2</td>\n",
       "        </tr>\n",
       "        <tr>\n",
       "            <td>Brittany Harris</td>\n",
       "            <td>Gone with the Wind</td>\n",
       "            <td> toutes les annees</td>\n",
       "            <td>2</td>\n",
       "        </tr>\n",
       "        <tr>\n",
       "            <td>Brittany Harris</td>\n",
       "            <td>Gone with the Wind</td>\n",
       "            <td>2011</td>\n",
       "            <td>2</td>\n",
       "        </tr>\n",
       "        <tr>\n",
       "            <td>Brittany Harris</td>\n",
       "            <td>Raiders of the Lost Ark</td>\n",
       "            <td> toutes les annees</td>\n",
       "            <td>3</td>\n",
       "        </tr>\n",
       "        <tr>\n",
       "            <td>Brittany Harris</td>\n",
       "            <td>Raiders of the Lost Ark</td>\n",
       "            <td>2011</td>\n",
       "            <td>4</td>\n",
       "        </tr>\n",
       "        <tr>\n",
       "            <td>Brittany Harris</td>\n",
       "            <td>Raiders of the Lost Ark</td>\n",
       "            <td>2016</td>\n",
       "            <td>2</td>\n",
       "        </tr>\n",
       "        <tr>\n",
       "            <td>Brittany Harris</td>\n",
       "            <td>Snow White</td>\n",
       "            <td> toutes les annees</td>\n",
       "            <td>4</td>\n",
       "        </tr>\n",
       "        <tr>\n",
       "            <td>Brittany Harris</td>\n",
       "            <td>Snow White</td>\n",
       "            <td>2011</td>\n",
       "            <td>4</td>\n",
       "        </tr>\n",
       "        <tr>\n",
       "            <td>Brittany Harris</td>\n",
       "            <td>Star Wars</td>\n",
       "            <td> toutes les annees</td>\n",
       "            <td>4</td>\n",
       "        </tr>\n",
       "        <tr>\n",
       "            <td>Brittany Harris</td>\n",
       "            <td>Star Wars</td>\n",
       "            <td> toutes les annees</td>\n",
       "            <td>3</td>\n",
       "        </tr>\n",
       "        <tr>\n",
       "            <td>Brittany Harris</td>\n",
       "            <td>Star Wars</td>\n",
       "            <td>2011</td>\n",
       "            <td>3</td>\n",
       "        </tr>\n",
       "        <tr>\n",
       "            <td>Brittany Harris</td>\n",
       "            <td>Star Wars</td>\n",
       "            <td>2013</td>\n",
       "            <td>4</td>\n",
       "        </tr>\n",
       "        <tr>\n",
       "            <td>Brittany Harris</td>\n",
       "            <td>The Sound of Music</td>\n",
       "            <td> toutes les annees</td>\n",
       "            <td>2</td>\n",
       "        </tr>\n",
       "        <tr>\n",
       "            <td>Brittany Harris</td>\n",
       "            <td>The Sound of Music</td>\n",
       "            <td>2011</td>\n",
       "            <td>2</td>\n",
       "        </tr>\n",
       "        <tr>\n",
       "            <td>Brittany Harris</td>\n",
       "            <td>Titanic</td>\n",
       "            <td> toutes les annees</td>\n",
       "            <td>2</td>\n",
       "        </tr>\n",
       "        <tr>\n",
       "            <td>Brittany Harris</td>\n",
       "            <td>Titanic</td>\n",
       "            <td>2011</td>\n",
       "            <td>2</td>\n",
       "        </tr>\n",
       "        <tr>\n",
       "            <td>Brittany Harris</td>\n",
       "            <td>Tous les films</td>\n",
       "            <td> toutes les annees</td>\n",
       "            <td>3</td>\n",
       "        </tr>\n",
       "        <tr>\n",
       "            <td>Brittany Harris</td>\n",
       "            <td>Tous les films</td>\n",
       "            <td>2011</td>\n",
       "            <td>3</td>\n",
       "        </tr>\n",
       "        <tr>\n",
       "            <td>Brittany Harris</td>\n",
       "            <td>Tous les films</td>\n",
       "            <td>2013</td>\n",
       "            <td>4</td>\n",
       "        </tr>\n",
       "        <tr>\n",
       "            <td>Brittany Harris</td>\n",
       "            <td>Tous les films</td>\n",
       "            <td>2016</td>\n",
       "            <td>2</td>\n",
       "        </tr>\n",
       "        <tr>\n",
       "            <td>Chris Jackson</td>\n",
       "            <td>E.T.</td>\n",
       "            <td> toutes les annees</td>\n",
       "            <td>2</td>\n",
       "        </tr>\n",
       "        <tr>\n",
       "            <td>Chris Jackson</td>\n",
       "            <td>E.T.</td>\n",
       "            <td>2011</td>\n",
       "            <td>2</td>\n",
       "        </tr>\n",
       "        <tr>\n",
       "            <td>Chris Jackson</td>\n",
       "            <td>Raiders of the Lost Ark</td>\n",
       "            <td> toutes les annees</td>\n",
       "            <td>4</td>\n",
       "        </tr>\n",
       "    </tbody>\n",
       "</table>\n",
       "<span style=\"font-style:italic;text-align:center;\">Truncated to <a href=\"https://jupysql.ploomber.io/en/latest/api/configuration.html#displaylimit\">displaylimit</a> of 30.</span>"
      ],
      "text/plain": [
       "+-----------------+-------------------------+--------------------+---------+\n",
       "|    evaluateur   |      titre du film      | année d'évaluation | moyenne |\n",
       "+-----------------+-------------------------+--------------------+---------+\n",
       "|   Ashley White  |           E.T.          |  toutes les annees |    3    |\n",
       "|   Ashley White  |           E.T.          |        2021        |    3    |\n",
       "|   Ashley White  |      Tous les films     |  toutes les annees |    3    |\n",
       "|   Ashley White  |      Tous les films     |        2021        |    3    |\n",
       "| Brittany Harris |          Avatar         |  toutes les annees |    5    |\n",
       "| Brittany Harris |          Avatar         |        2011        |    5    |\n",
       "| Brittany Harris |           E.T.          |  toutes les annees |    2    |\n",
       "| Brittany Harris |           E.T.          |        2011        |    2    |\n",
       "| Brittany Harris |    Gone with the Wind   |  toutes les annees |    2    |\n",
       "| Brittany Harris |    Gone with the Wind   |        2011        |    2    |\n",
       "| Brittany Harris | Raiders of the Lost Ark |  toutes les annees |    3    |\n",
       "| Brittany Harris | Raiders of the Lost Ark |        2011        |    4    |\n",
       "| Brittany Harris | Raiders of the Lost Ark |        2016        |    2    |\n",
       "| Brittany Harris |        Snow White       |  toutes les annees |    4    |\n",
       "| Brittany Harris |        Snow White       |        2011        |    4    |\n",
       "| Brittany Harris |        Star Wars        |  toutes les annees |    4    |\n",
       "| Brittany Harris |        Star Wars        |  toutes les annees |    3    |\n",
       "| Brittany Harris |        Star Wars        |        2011        |    3    |\n",
       "| Brittany Harris |        Star Wars        |        2013        |    4    |\n",
       "| Brittany Harris |    The Sound of Music   |  toutes les annees |    2    |\n",
       "| Brittany Harris |    The Sound of Music   |        2011        |    2    |\n",
       "| Brittany Harris |         Titanic         |  toutes les annees |    2    |\n",
       "| Brittany Harris |         Titanic         |        2011        |    2    |\n",
       "| Brittany Harris |      Tous les films     |  toutes les annees |    3    |\n",
       "| Brittany Harris |      Tous les films     |        2011        |    3    |\n",
       "| Brittany Harris |      Tous les films     |        2013        |    4    |\n",
       "| Brittany Harris |      Tous les films     |        2016        |    2    |\n",
       "|  Chris Jackson  |           E.T.          |  toutes les annees |    2    |\n",
       "|  Chris Jackson  |           E.T.          |        2011        |    2    |\n",
       "|  Chris Jackson  | Raiders of the Lost Ark |  toutes les annees |    4    |\n",
       "+-----------------+-------------------------+--------------------+---------+\n",
       "Truncated to displaylimit of 30."
      ]
     },
     "execution_count": 42,
     "metadata": {},
     "output_type": "execute_result"
    }
   ],
   "source": [
    "%%sql\n",
    "\n",
    "select   coalesce(name_reviewer, 'Tous les rapporteurs')            \"evaluateur\", \n",
    "    coalesce(title_movie, 'Tous les films')                    \"titre du film\", \n",
    "    coalesce(extract(year from date_rating)::text,' toutes les annees')  \"année d'évaluation\",\n",
    "    round(avg(stars_rating))                                           \"moyenne\"\n",
    "from reviewers re \n",
    "     join ratings ra using (id_reviewer) \n",
    "     join movies m using (id_movie)\n",
    "group by cube ((re.id_reviewer, name_reviewer), (m.id_movie, title_movie), extract(year from date_rating))\n",
    "order by \"evaluateur\", \"titre du film\", \"année d'évaluation\";\n"
   ]
  }
 ],
 "metadata": {
  "kernelspec": {
   "display_name": ".venv",
   "language": "python",
   "name": "python3"
  },
  "language_info": {
   "codemirror_mode": {
    "name": "ipython",
    "version": 3
   },
   "file_extension": ".py",
   "mimetype": "text/x-python",
   "name": "python",
   "nbconvert_exporter": "python",
   "pygments_lexer": "ipython3",
   "version": "3.11.5"
  }
 },
 "nbformat": 4,
 "nbformat_minor": 2
}
