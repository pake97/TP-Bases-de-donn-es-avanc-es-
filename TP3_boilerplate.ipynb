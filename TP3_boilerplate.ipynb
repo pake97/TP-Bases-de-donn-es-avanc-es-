{
 "cells": [
  {
   "cell_type": "code",
   "execution_count": null,
   "metadata": {
    "vscode": {
     "languageId": "plaintext"
    }
   },
   "outputs": [],
   "source": [
    "\t\n",
    "%reload_ext sql\n",
    "%reload_ext mocodo"
   ]
  },
  {
   "cell_type": "code",
   "execution_count": null,
   "metadata": {
    "vscode": {
     "languageId": "plaintext"
    }
   },
   "outputs": [],
   "source": [
    "%config SqlMagic.dsn_filename = \"../connexion_BD.ini\" \n",
    "# ajouter ou changer ce fichier pour définir sa connexion. Le fichier doit être de la forme\n",
    "# [pg]\n",
    "# drivername = postgresql+psycopg\n",
    "# username = \n",
    "# password = \n",
    "# host = \n",
    "# port = \n",
    "# database = \n",
    "%sql --section pg\n",
    "%config SqlMagic.displaylimit = 0 #pas de limite dans le nombre de tuples du résultat"
   ]
  },
  {
   "cell_type": "markdown",
   "metadata": {},
   "source": [
    "# TP : Implémentation de contraintes\n",
    "\n",
    "## Important : tout au long du TP, faites des tests de vos contraintes en insérant, supprimant, modifiant des tuples\n",
    "\n",
    "Un club de danse souhaite se doter d'une base de données pour gérer ses intervenants dans les cours. Après analyse, on propose le schéma Entités/Associations ci-dessous. Les niveaux des cours sont à prendre parmi les valeurs 'Débutant', 'Avancé' ou 'Expert'."
   ]
  },
  {
   "cell_type": "code",
   "execution_count": null,
   "metadata": {
    "vscode": {
     "languageId": "plaintext"
    }
   },
   "outputs": [],
   "source": [
    "%%mocodo --select mcd --colors ocean  --output_dir ./ -t arrange\n",
    "\n",
    "Professeur: num, nom,prenom, telephone\n",
    "Salarié: date_embauche, echelon, salaire_mensuel\n",
    "Vacataire: statut\n",
    "Cours: code, intitulé, niveau\n",
    "Contrat : Date_contrat, Salaire_horaire\n",
    "\n",
    "Est_responsable, 0N Professeur, 11 Cours\n",
    "Intervient, 0N professeur, 1N Cours\n",
    "EF, _11 Contrat, 1N Vacataire\n",
    "\n",
    "/XT\\ Professeur <- Vacataire, Salarié\n",
    "(I) -> Intervient, ..Professeur, ..Cours, --Est_responsable"
   ]
  },
  {
   "cell_type": "markdown",
   "metadata": {},
   "source": [
    "### 1 Traduisez ce schéma en relationnel ; en ne tenant pas compte pour l'instant des contraintes  *XT* et *I*. \n",
    "\n",
    "Créez les relations obtenues, ainsi que les clés et clés étrangères qui en découlent.\n",
    "- indication 1 : Puisque qu'un cours a exactement un responsable, cette association se traduira par une clé étrangère dans la relation \"Cours\", ne pouvant prendre la valeur NULL.\n",
    "- indication 2 : Les spécialisations et entités faibles induisent une contrainte d'existence ; par exemple, supprimer un professeur de la base induit de le supprimer également en tant que salarié ou vacataire. De même supprimer un vacataire, induit de supprimer les contrats qui s'y rapportent. Faites en sorte que toutes ces suppressions en cascade soient automatiques (option : ON DELETE CASCADE des clés étrangères)."
   ]
  },
  {
   "cell_type": "code",
   "execution_count": null,
   "metadata": {
    "vscode": {
     "languageId": "plaintext"
    }
   },
   "outputs": [],
   "source": [
    "#le script de création est dans l'espace WEB accessible aux étudiants. (http://lifbda.pages.univ-lyon1.fr/TP/script_club_de_danse.sql)\n",
    "with open(\"../../TP/script_club_de_danse.sql\",\"r\") as fichier:\n",
    "    %sql {{fichier.read()}}"
   ]
  },
  {
   "cell_type": "markdown",
   "metadata": {},
   "source": [
    "## contraintes\n",
    "\n",
    "[Documentation](https://docs.postgresql.fr/15/ddl-constraints.html)\n",
    "\n",
    "Les types de données sont un moyen de restreindre la nature des données qui peuvent être stockées dans une table. Pour beaucoup d'applications, toutefois, la contrainte fournie par ce biais est trop grossière. Par exemple, une colonne qui contient le prix d'un produit ne doit accepter que des valeurs positives. Mais il n'existe pas de type de données natif qui n'accepte que des valeurs positives. Un autre problème peut provenir de la volonté de contraindre les données d'une colonne par rapport aux autres colonnes ou lignes. Par exemple, dans une table contenant des informations de produit, il ne peut y avoir qu'une ligne par numéro de produit.\n",
    "\n",
    "Pour cela, SQL permet de définir des contraintes sur les colonnes et les tables. Les contraintes donnent autant de contrôle sur les données des tables qu'un utilisateur peut le souhaiter. Si un utilisateur tente de stocker des données dans une colonne en violation d'une contrainte, une erreur est levée. Cela s'applique même si la valeur vient de la définition de la valeur par défaut.\n",
    "\n",
    "### Contraintes de vérification\n",
    "\n",
    "La contrainte de vérification est la contrainte la plus générique qui soit. Elle permet d'indiquer que la valeur d'une colonne particulière doit satisfaire une expression booléenne (valeur de vérité). Par exemple, pour obliger les prix des produits à être positifs, on peut utiliser :\n",
    "\n",
    "```\n",
    "CREATE TABLE produits (\n",
    "    no_produit integer,\n",
    "    nom text,\n",
    "    prix numeric CHECK (prix > 0)\n",
    ");\n",
    "```\n",
    "\n",
    "### Contraintes de non-nullité (NOT NULL)\n",
    "\n",
    "Une contrainte NOT NULL indique simplement qu'une colonne ne peut pas prendre la valeur NULL. Par exemple :\n",
    "\n",
    "```\n",
    "CREATE TABLE produits (\n",
    "    no_produit integer NOT NULL,\n",
    "    nom text NOT NULL,\n",
    "    prix numeric\n",
    ");\n",
    "```\n",
    "\n",
    "### Contraintes d'unicité\n",
    "\n",
    "Les contraintes d'unicité garantissent l'unicité des données contenues dans une colonne ou un groupe de colonnes par rapport à toutes les lignes de la table.\n",
    "\n",
    "\n",
    "```\n",
    "CREATE TABLE produits (\n",
    "    no_produit integer UNIQUE,\n",
    "    nom text,\n",
    "    prix numeric\n",
    ");\n",
    "```\n",
    "\n",
    "### Clés primaires\n",
    "\n",
    "Une contrainte de type clé primaire indique qu'une colonne, ou un groupe de colonnes, peuvent être utilisés comme un identifiant unique de ligne pour cette table. Ceci nécessite que les valeurs soient à la fois uniques et non NULL. Les définitions de table suivantes acceptent de ce fait les mêmes données :\n",
    "\n",
    "```\n",
    "CREATE TABLE produits (\n",
    "\tno_produit integer UNIQUE NOT NULL,\n",
    "\tnom text,\n",
    "\tprix numeric\n",
    ");\n",
    "\n",
    "\n",
    "CREATE TABLE produits (\n",
    "\tno_produit integer PRIMARY KEY,\n",
    "\tnom text,\n",
    "\tprix numeric\n",
    ");\n",
    "```\n",
    "\n",
    "### Clés étrangères\n",
    "\n",
    "Une contrainte de clé étrangère stipule que les valeurs d'une colonne (ou d'un groupe de colonnes) doivent correspondre aux valeurs qui apparaissent dans les lignes d'une autre table. On dit que cela maintient l'intégrité référentielle entre les deux tables.\n",
    "\n",
    "Soit la table de produits, déjà utilisée plusieurs fois :\n",
    "\n",
    "```\n",
    "CREATE TABLE produits (\n",
    "\tno_produit integer PRIMARY KEY,\n",
    "\tnom text,\n",
    "\tprix numeric\n",
    ");\n",
    "```\n",
    "\n",
    "Soit également une table qui stocke les commandes de ces produits. Il est intéressant de s'assurer que la table des commandes ne contient que des commandes de produits qui existent réellement. Pour cela, une contrainte de clé étrangère est définie dans la table des commandes qui référence la table « produits » :\n",
    "\n",
    "```\n",
    "CREATE TABLE commandes (\n",
    "\tid_commande integer PRIMARY KEY,\n",
    "\tno_produit integer REFERENCES produits (no_produit),\n",
    "\tquantite integer\n",
    ");\n",
    "```\n",
    "\n",
    "Une clé étrangère peut aussi contraindre et référencer un groupe de colonnes. Comme cela a déjà été évoqué, il faut alors l'écrire sous forme d'une contrainte de table. Exemple de syntaxe :\n",
    "\n",
    "```\n",
    "CREATE TABLE t1 (\n",
    "      a integer PRIMARY KEY,\n",
    "      b integer,\n",
    "      c integer,\n",
    "      FOREIGN KEY (b, c) REFERENCES autre_table (c1, c2)\n",
    ");\n",
    "```"
   ]
  },
  {
   "cell_type": "markdown",
   "metadata": {},
   "source": [
    "### 2 La contrainte  *I* sur le schéma traduit le fait que si un professeur est responsable d'un cours, alors il intervient dans ce cours. C'est une implication/inclusion : tout couple (professeur, cours) de l'association \"Responsable\" doit exister dans l'association \"Intervient\".\n",
    "\n",
    "- A. Écrivez la dépendance d'inclusion qui traduit cette contrainte dans la base de données\n",
    "- B. Cette dépendance d'inclusion peut-elle être implantée par une clé étrangère dans la relation 'cours' ?\n",
    "- C. Créez cette contrainte dans la base de données.\n",
    "- D. Créez un professeur \"Jean Wiejacka\" (sans se soucier encore qu'il soit vacataire ou salarié). Créez un cours de salsa débutant, pour lequel Jean Wiejacka est le responsable. Quel problème rencontrez vous ?"
   ]
  },
  {
   "cell_type": "markdown",
   "metadata": {},
   "source": [
    "#### EXPLICATION \n",
    "\n",
    "pour ajouter une nouvelle contrainte : \n",
    "\n",
    "```\n",
    "alter table <table_name> add constraint ...\n",
    "```"
   ]
  },
  {
   "cell_type": "markdown",
   "metadata": {},
   "source": [
    "#### 2 A : Écrivez la dépendance d'inclusion qui traduit cette contrainte dans la base de données\n",
    "\n",
    "Réponse : "
   ]
  },
  {
   "cell_type": "markdown",
   "metadata": {},
   "source": [
    "#### 2 B : Cette dépendance d'inclusion peut-elle être implantée par une clé étrangère dans la relation 'cours' ?\n",
    "\n",
    "Réponse : "
   ]
  },
  {
   "cell_type": "code",
   "execution_count": null,
   "metadata": {
    "vscode": {
     "languageId": "plaintext"
    }
   },
   "outputs": [],
   "source": [
    "-- 2 C\n",
    "%%sql\n",
    "\n",
    "-- compléter"
   ]
  },
  {
   "cell_type": "code",
   "execution_count": null,
   "metadata": {
    "vscode": {
     "languageId": "plaintext"
    }
   },
   "outputs": [],
   "source": [
    "-- 2 D\n",
    "%%sql\n",
    "\n",
    "-- création de Jean Wiejacka professeur de salsa\n",
    "insert into professeurs values (1,'Wiejacka','Jean','0638103978');"
   ]
  },
  {
   "cell_type": "code",
   "execution_count": null,
   "metadata": {
    "vscode": {
     "languageId": "plaintext"
    }
   },
   "outputs": [],
   "source": [
    "-- 2 D\n",
    "%%sql\n",
    "-- tentative de création du cours de SALSA, qui doit obligatoirement avoir un responsable\n",
    "insert into cours values(1,'Salsa',1, 'Débutant'); -- Jean est le responsable de la salsa."
   ]
  },
  {
   "cell_type": "markdown",
   "metadata": {},
   "source": [
    "#### 2 D : Quel problème rencontrez vous ?\n",
    "\n",
    "Réponse : "
   ]
  },
  {
   "cell_type": "markdown",
   "metadata": {},
   "source": [
    "### Une transaction est un ensemble de mises à jour considérées comme une seule opération, sans limite sur le nombre d'opérations dans une même transaction. Les SGBD relationnels garantissent que les contraintes sont satisfaites AVANT et APRES la transaction. Ce qui se passe PENDANT la transaction dépend des capacités des SGBD et des choix de l'opérateur. La vérification de certaines contraintes, comme les clés étrangères sous PostgreSQL, peut être différée à l'issue de la transaction.\n",
    "\n",
    "- A. Modifiez, lorsque cela est nécessaire, les déclarations de clés étrangères afin de différer leur vérification en fin de transaction.\n",
    "- B. Procédez maintenant à la création du cours de SALSA à l'aide d'une transaction contenant plusieurs insertions de tuples."
   ]
  },
  {
   "cell_type": "markdown",
   "metadata": {},
   "source": [
    "## contraintes différées\n",
    "\n",
    "la contrainte peut être déférée ou ne peut pas l’être :\n",
    "\n",
    "```\n",
    "ALTER TABLE ... ADD CONSTRAINT ... NOT DEFERRABLE => n''est jamais déférable\n",
    "ALTER TABLE ... ADD CONSTRAINT ... DEFERRABLE => est déferrable (mais uniquement sur demande, pas par défaut, donc INITIALY IMMEDIATE)\n",
    "ALTER TABLE ... ADD CONSTRAINT ... DEFERRABLE INITIALY IMMEDIATE => (même que précédemment : est déferrable, mais uniquement sur demande, pas par défaut)\n",
    "ALTER TABLE ... ADD CONSTRAINT ... DEFERRABLE INITIALY DEFERRED => est déferrable et systématiquement déférée, sauf si on lui impose le contraire à l'aide du SET CONSTRAINTS...\n",
    "```\n"
   ]
  },
  {
   "cell_type": "code",
   "execution_count": null,
   "metadata": {
    "vscode": {
     "languageId": "plaintext"
    }
   },
   "outputs": [],
   "source": [
    "%%sql\n",
    "\n",
    "-- Pour casser le cycle, on permet de différer la clé étrangère qu'on a créée sur \"Cours\" :\n",
    "-- compléter"
   ]
  },
  {
   "cell_type": "markdown",
   "metadata": {},
   "source": [
    "## Transaction\n",
    "\n",
    "[Documentation](https://docs.postgresql.fr/15/tutorial-transactions.html)\n",
    "\n",
    "Les transactions sont un concept fondamental de tous les systèmes de bases de données. Une transaction assemble plusieurs étapes en une seule opération tout ou rien. Les états intermédiaires entre les étapes ne sont pas visibles par les transactions concurrentes. De plus, si un échec survient qui empêche le succès de la transaction, alors aucune des étapes n'affecte la base de données.\n",
    "\n",
    "Si l'on considère, par exemple, la base de données d'une banque qui contient le solde de différents comptes clients et le solde total des dépôts par branches et que l'on veut enregistrer un virement de 100 euros du compte d'Alice vers celui de Bob, les commandes SQL peuvent ressembler à cela (après simplification) :\n",
    "\n",
    "```\n",
    "UPDATE comptes SET balance = balance - 100.00\n",
    "    WHERE nom = 'Alice';\n",
    "UPDATE branches SET balance = balance - 100.00\n",
    "    WHERE nom = (SELECT nom_branche FROM comptes WHERE nom = 'Alice');\n",
    "UPDATE comptes SET balance = balance + 100.00\n",
    "    WHERE nom = 'Bob';\n",
    "UPDATE branches SET balance = balance + 100.00\n",
    "    WHERE nom = (SELECT nom_branche FROM comptes WHERE nom = 'Bob');\n",
    "\n",
    "```\n",
    "\n",
    "Ce ne sont pas les détails des commandes qui importent ici ; le point important est la nécessité de plusieurs mises à jour séparées pour accomplir cette opération assez simple. Les employés de la banque veulent être assurés que, soit toutes les commandes sont effectuées, soit aucune ne l'est. Il n'est pas envisageable que, suite à une erreur du système, Bob reçoive 100 euros qui n'ont pas été débités du compte d'Alice. De la même façon, Alice ne restera pas longtemps une cliente fidèle si elle est débitée du montant sans que celui-ci ne soit crédité sur le compte de Bob. Il est important de garantir que si quelque chose se passe mal, aucune des étapes déjà exécutées n'est prise en compte. Le regroupement des mises à jour au sein d'une transaction apporte cette garantie. Une transaction est dite atomique : du point de vue des autres transactions, elle passe complètement ou pas du tout.\n",
    "\n",
    "Il est également nécessaire de garantir qu'une fois la transaction terminée et validée par la base de données, les transactions sont enregistrées définitivement et ne peuvent être perdues, même si une panne survient peu après. Ainsi, si un retrait d'argent est effectué par Bob, il ne faut absolument pas que le débit de son compte disparaisse suite à une panne survenant juste après son départ de la banque. Une base de données transactionnelle garantit que toutes les mises à jour faites lors d'une transaction sont stockées de manière persistante (c'est-à-dire sur disque) avant que la transaction ne soit déclarée validée.\n",
    "\n",
    "Une autre propriété importante des bases de données transactionnelles est en relation étroite avec la notion de mises à jour atomiques : quand plusieurs transactions sont lancées en parallèle, aucune d'entre elles ne doit être capable de voir les modifications incomplètes effectuées par les autres. Ainsi, si une transaction calcule le total de toutes les branches, inclure le débit de la branche d'Alice sans le crédit de la branche de Bob, ou vice-versa, est une véritable erreur. Les transactions doivent donc être tout ou rien, non seulement pour leur effet persistant sur la base de données, mais aussi pour leur visibilité au moment de leur exécution. Les mises à jour faites jusque-là par une transaction ouverte sont invisibles aux autres transactions jusqu'à la fin de celle-ci. À ce moment, toutes les mises à jour deviennent simultanément visibles.\n",
    "\n",
    "Sous PostgreSQL, une transaction est déclarée en entourant les commandes SQL de la transaction par les commandes BEGIN et COMMIT. La transaction bancaire ressemble alors à ceci :\n",
    "\n",
    "```\n",
    "BEGIN;\n",
    "UPDATE comptes SET balance = balance - 100.00\n",
    "    WHERE nom = 'Alice';\n",
    "-- etc etc\n",
    "COMMIT;\n",
    "```\n",
    "\n",
    "l est possible d'augmenter la granularité du contrôle des instructions au sein d'une transaction en utilisant des points de retournement (savepoint). Ceux-ci permettent d'annuler des parties de la transaction tout en validant le reste. Après avoir défini un point de retournement à l'aide de SAVEPOINT, les instructions exécutées depuis ce point peuvent, au besoin, être annulées avec ROLLBACK TO. Toutes les modifications de la base de données effectuées par la transaction entre le moment où le point de retournement a été défini et celui où l'annulation est demandée sont annulées, mais les modifications antérieures à ce point sont conservées.\n",
    "\n",
    "Le retour à un point de retournement ne l'annule pas. Il reste défini et peut donc être utilisé plusieurs fois. À l'inverse, lorsqu'il n'est plus nécessaire de revenir à un point de retournement particulier, il peut être relâché, ce qui permet de libérer des ressources système. Il faut savoir toutefois que relâcher un point de retournement ou y revenir relâche tous les points de retournement qui ont été définis après.\n",
    "\n",
    "Tout ceci survient à l'intérieur du bloc de transaction, et n'est donc pas visible par les autres sessions en cours sur la base de données. Si le bloc est validé, et à ce moment-là seulement, toutes les actions validées deviennent immédiatement visibles par les autres sessions, tandis que les actions annulées ne le seront jamais.\n",
    "\n",
    "Reconsidérant la base de données de la banque, on peut supposer vouloir débiter le compte d'Alice de $100.00, somme à créditer sur le compte de Bob, mais considérer plus tard que c'est le compte de Wally qu'il convient de créditer. À l'aide des points de retournement, cela peut se dérouler ainsi :\n",
    "\n",
    "```\n",
    "BEGIN;\n",
    "UPDATE comptes SET balance = balance - 100.00\n",
    "    WHERE nom = 'Alice';\n",
    "SAVEPOINT mon_pointdesauvegarde;\n",
    "UPDATE comptes SET balance = balance + 100.00\n",
    "    WHERE nom = 'Bob';\n",
    "-- oups ... oublions ça et créditons le compte de Wally\n",
    "ROLLBACK TO mon_pointdesauvegarde;\n",
    "UPDATE comptes SET balance = balance + 100.00\n",
    "    WHERE nom = 'Wally';\n",
    "COMMIT;\n",
    "```"
   ]
  },
  {
   "cell_type": "code",
   "execution_count": null,
   "metadata": {
    "vscode": {
     "languageId": "plaintext"
    }
   },
   "outputs": [],
   "source": [
    "%%sql\n",
    "\n",
    "--On peut maintenant faire l'insertion en deux temps au sein d'une seule et même transaction :\n",
    "-- compléter\n"
   ]
  },
  {
   "cell_type": "markdown",
   "metadata": {},
   "source": [
    "### 4 Le cahier des charges spécifie qu'un cours a obligatoirement (au moins) un intervenant (participation obligatoire à l'association \"Intervient\"). Peut-on considérer que cette contrainte est bien garantie dans notre base de données ?"
   ]
  },
  {
   "cell_type": "markdown",
   "metadata": {},
   "source": [
    "(petit conseille : règle de projection dans les DI , pas encore vue mais facile à comprendre intuitivement)\n",
    "\n",
    "Réponse : \n",
    "\n"
   ]
  },
  {
   "cell_type": "markdown",
   "metadata": {},
   "source": [
    "### Implanter la contrainte  *X*indiquée dans la spécialisation des professeurs, indiquant qu'un professeur ne peut pas être à la fois un salarié et un vacataire.\n",
    "\n",
    "- Indication : Cette contrainte peut se programmer à l'aide de deux commandes \"CHECK\" dans la déclaration des relations \"salaries\" et \"vacataires\", par exemple sous la forme \"Check (est_vacataire(num_prof) = false)\" - où \"est_vacataire(num_prof)\" est une fonction qui retourne vrai si \"num_prof\" existe déjà dans vacataires, faux sinon.\n",
    "\n",
    "Voici pour servir d'exemple une proposition de code de création d'une fonction qui renvoie VRAI si le numéro passé en argument est celui d'un vacataire.\n",
    "\n",
    "```\n",
    "drop function if exists est_vacataire;\n",
    "CREATE function est_vacataire(un_num_prof integer) returns boolean\n",
    "as $$\n",
    "begin\n",
    " \tperform num_vacataire  \n",
    " \tfrom vacataires \n",
    " \twhere num_vacataire = un_num_prof;\n",
    " \n",
    " \treturn (found);\n",
    "end;\n",
    " $$ language plpgsql;\n",
    "```"
   ]
  },
  {
   "cell_type": "code",
   "execution_count": null,
   "metadata": {
    "vscode": {
     "languageId": "plaintext"
    }
   },
   "outputs": [],
   "source": [
    "%%sql\n",
    "\n",
    "-- création d'une fonction qui teste si un prof est dans les vacataires\n",
    "-- compléter"
   ]
  },
  {
   "cell_type": "code",
   "execution_count": null,
   "metadata": {
    "vscode": {
     "languageId": "plaintext"
    }
   },
   "outputs": [],
   "source": [
    "%%sql\n",
    "\n",
    "-- création d'une fonction qui teste si un prof est dans les salariés\n",
    "-- compléter"
   ]
  },
  {
   "cell_type": "code",
   "execution_count": null,
   "metadata": {
    "vscode": {
     "languageId": "plaintext"
    }
   },
   "outputs": [],
   "source": [
    "-- 5\n",
    "%%sql\n",
    "\n",
    "-- On peut maintenant ajouter des contraintes CHECK dans les relations salarie et vacataires\n",
    "-- Pour garantir l'exclusion mutuelle à l'insertion / modification\n",
    "-- compléter\n"
   ]
  },
  {
   "cell_type": "markdown",
   "metadata": {},
   "source": [
    "### 6 Implanter la contrainte *T* de la spécialisation, qui impose que tous les professeurs ont la position de salarié ou de vacataire.\n",
    "\n",
    "- A. Lors de la création d'un professeur : ajouter une contrainte \"check\" qui s'assure que ce professeur est bien un salarié ou un vacataire.\n",
    "- B. Différez les contraintes de clés étrangères dans \"salariés\" et \"vacataires\", de façon à pouvoir momentanément créer un salarié ou vacataire qui n'est pas un professeur.\n",
    "- C. Effectuez alors l'insertion d'un nouveau professeur - vacataire dans une transaction qui crée d'abord le vacataire pour le professeur."
   ]
  },
  {
   "cell_type": "code",
   "execution_count": null,
   "metadata": {
    "vscode": {
     "languageId": "plaintext"
    }
   },
   "outputs": [],
   "source": [
    "-- 6 B\n",
    "%%sql\n",
    "\n",
    "-- Différez les contraintes de clés étrangères dans \"salariés\" et \"vacataires\"\n",
    "-- compléter\n"
   ]
  },
  {
   "cell_type": "code",
   "execution_count": null,
   "metadata": {
    "vscode": {
     "languageId": "plaintext"
    }
   },
   "outputs": [],
   "source": [
    "%%sql\n",
    "-- Au préalable dans les données saisies on indique que le professeur 1 est salarié pour ne pas violer la contrainte déclarée après\n",
    "insert into salaries values(1,'2022-07-10',2,1500);"
   ]
  },
  {
   "cell_type": "code",
   "execution_count": null,
   "metadata": {
    "vscode": {
     "languageId": "plaintext"
    }
   },
   "outputs": [],
   "source": [
    "-- 6 A\n",
    "%%sql\n",
    "\n",
    "-- ajouter une contrainte \"check\" qui s'assure que ce professeur est bien un salarié ou un vacataire.\n",
    "-- compléter\n"
   ]
  },
  {
   "cell_type": "code",
   "execution_count": null,
   "metadata": {
    "vscode": {
     "languageId": "plaintext"
    }
   },
   "outputs": [],
   "source": [
    "-- 6 C\n",
    "%%sql\n",
    "\n",
    "-- compléter\n"
   ]
  },
  {
   "cell_type": "markdown",
   "metadata": {},
   "source": [
    "### 7 Ce n'est pas tout à fait fini ! Il faut encore s'assurer que personne ne puisse supprimer une ligne des relations \"vacataires\" ou \"salariés\" car cela contredirait la contrainte  *T* (un professeur serait ni salarié, ni vacataire). Mais si on fait une contrainte trop forte qui interdit ces suppressions, on ne pourra plus faire les opérations suivantes : modifier un professeur en le passant de vacataire à salarié (ou l'inverse), ou même supprimer un professeur - car Postgre va tenter de supprimer le vacataire/salarié correspondant (en cascade). Voici comment résoudre ces problèmes.\n",
    "\n",
    "- A. Créer une fonction  *est_prof*qui teste si un numéro de professeur (fourni en entrée) existe parmi les professeurs.\n",
    "- B. Faire un trigger (https://doc.postgresql.fr/16/sql-createtrigger.html) différable sur \"salaries\" qui interdit de supprimer un salarié si celui est un professeur qui existe encore et qu'il n'est pas dans \"vacataires\".\n",
    "- C. Faire un trigger différable sur \"vacataires\" qui interdit de supprimer un vacataire si celui est un professeur qui existe encore et qu'il n'est pas dans \"salaries\".\n",
    "- D. Vérifiez maintenant que vous pouvez 1) supprimer un professeur et 2) passer un professeur de salarié à vacataire en utilisant une transaction à deux étapes.\n",
    "\n",
    "Aide : comment faire le trigger sur salariés :\n",
    "\n",
    "```\n",
    "-- Il faut d'abord faire une fonction qui sera utilisée par le trigger : elle ne doit pas prendre de paramètres, et retourner un objet de type 'trigger'.\n",
    "drop function if exists check_prof_vacataire cascade; \n",
    "CREATE FUNCTION check_prof_vacataire() RETURNS trigger \n",
    "as $$\n",
    "begin\n",
    "\tif  not est_prof(old.num_salarie) then return null; -- le prof a été supprimé (en cours de suppression)\n",
    "\telsif est_vacataire(old.num_salarie) then return null; -- le salarié est bien dans vacataires.\n",
    "\telse raise exception 'professeur doit etre vacataire si plus salarie';\n",
    "\tend if;\n",
    "end;\n",
    "$$ LANGUAGE plpgsql;\n",
    "\n",
    "create constraint trigger check_prof_vacataire\n",
    "\tafter delete or update on salaries deferrable for each row execute function check_prof_vacataire();\n",
    "```"
   ]
  },
  {
   "cell_type": "code",
   "execution_count": null,
   "metadata": {
    "vscode": {
     "languageId": "plaintext"
    }
   },
   "outputs": [],
   "source": [
    "-- 7 A\n",
    "%%sql\n",
    "-- Créer une fonction est_prof\n",
    "-- compléter\n",
    "\n"
   ]
  },
  {
   "cell_type": "code",
   "execution_count": null,
   "metadata": {
    "vscode": {
     "languageId": "plaintext"
    }
   },
   "outputs": [],
   "source": [
    "-- 7 B\n",
    "%%sql\n",
    "\n",
    "-- Interdiction de supprimer un salarié s'il n'est pas vacataire.\n",
    "-- Contrainte forcément différable car il faut pouvoir avant l'insérer dans vacataire \n",
    "-- compléter"
   ]
  },
  {
   "cell_type": "code",
   "execution_count": null,
   "metadata": {
    "vscode": {
     "languageId": "plaintext"
    }
   },
   "outputs": [],
   "source": [
    "-- 7 C\n",
    "%%sql\n",
    "\n",
    "-- Interdiction de supprimer un vacataire s'il n'est pas salarié.\n",
    "-- Contrainte forcément différable car il faut pouvoir avant l'insérer dans salaries. \n",
    "-- compléter"
   ]
  },
  {
   "cell_type": "code",
   "execution_count": null,
   "metadata": {
    "vscode": {
     "languageId": "plaintext"
    }
   },
   "outputs": [],
   "source": [
    "-- 7 D 2)\n",
    "%%sql\n",
    "\n",
    "-- on transforme le professeur 1 en vacataire étudiant (il était salarié)\n",
    "-- compléter"
   ]
  },
  {
   "cell_type": "code",
   "execution_count": null,
   "metadata": {
    "vscode": {
     "languageId": "plaintext"
    }
   },
   "outputs": [],
   "source": [
    "-- 7 D 1)\n",
    "%%sql\n",
    "\n",
    "-- on vérifie que la suppression d'un professeur fonctionne toujours\n",
    "-- compléter\n"
   ]
  },
  {
   "cell_type": "code",
   "execution_count": null,
   "metadata": {
    "vscode": {
     "languageId": "plaintext"
    }
   },
   "outputs": [],
   "source": [
    "%%sql\n",
    "\n",
    "select * \n",
    "from professeurs p  \n",
    "     left join vacataires v on p.num_prof=v.num_vacataire\n",
    "     left join salaries s on p.num_prof = s.num_salarie;"
   ]
  }
 ],
 "metadata": {
  "language_info": {
   "name": "python"
  }
 },
 "nbformat": 4,
 "nbformat_minor": 2
}
